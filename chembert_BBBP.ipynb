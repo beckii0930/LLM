{
  "nbformat": 4,
  "nbformat_minor": 0,
  "metadata": {
    "colab": {
      "provenance": [],
      "authorship_tag": "ABX9TyNax7T0VqClo6TJpYUggPVQ",
      "include_colab_link": true
    },
    "kernelspec": {
      "name": "python3",
      "display_name": "Python 3"
    },
    "language_info": {
      "name": "python"
    }
    
  },
  "cells": [
    {
      "cell_type": "markdown",
      "metadata": {
        "id": "view-in-github",
        "colab_type": "text"
      },
      "source": [
        "<a href=\"https://colab.research.google.com/github/beckii0930/LLM/blob/main/chembert_BBBP.ipynb\" target=\"_parent\"><img src=\"https://colab.research.google.com/assets/colab-badge.svg\" alt=\"Open In Colab\"/></a>"
      ]
    },
    {
      "cell_type": "code",
      "execution_count": null,
      "metadata": {
        "colab": {
          "base_uri": "https://localhost:8080/",
          "height": 74
        },
        "id": "maWJw9ixTjp6",
        "outputId": "2d1849b3-0d29-4fba-de12-c91e00f7e042"
      },
      "outputs": [
        {
          "output_type": "display_data",
          "data": {
            "text/plain": [
              "<IPython.core.display.HTML object>"
            ],
            "text/html": [
              "\n",
              "     <input type=\"file\" id=\"files-d564b12c-0122-461b-b72f-3dda78c70fe8\" name=\"files[]\" multiple disabled\n",
              "        style=\"border:none\" />\n",
              "     <output id=\"result-d564b12c-0122-461b-b72f-3dda78c70fe8\">\n",
              "      Upload widget is only available when the cell has been executed in the\n",
              "      current browser session. Please rerun this cell to enable.\n",
              "      </output>\n",
              "      <script>// Copyright 2017 Google LLC\n",
              "//\n",
              "// Licensed under the Apache License, Version 2.0 (the \"License\");\n",
              "// you may not use this file except in compliance with the License.\n",
              "// You may obtain a copy of the License at\n",
              "//\n",
              "//      http://www.apache.org/licenses/LICENSE-2.0\n",
              "//\n",
              "// Unless required by applicable law or agreed to in writing, software\n",
              "// distributed under the License is distributed on an \"AS IS\" BASIS,\n",
              "// WITHOUT WARRANTIES OR CONDITIONS OF ANY KIND, either express or implied.\n",
              "// See the License for the specific language governing permissions and\n",
              "// limitations under the License.\n",
              "\n",
              "/**\n",
              " * @fileoverview Helpers for google.colab Python module.\n",
              " */\n",
              "(function(scope) {\n",
              "function span(text, styleAttributes = {}) {\n",
              "  const element = document.createElement('span');\n",
              "  element.textContent = text;\n",
              "  for (const key of Object.keys(styleAttributes)) {\n",
              "    element.style[key] = styleAttributes[key];\n",
              "  }\n",
              "  return element;\n",
              "}\n",
              "\n",
              "// Max number of bytes which will be uploaded at a time.\n",
              "const MAX_PAYLOAD_SIZE = 100 * 1024;\n",
              "\n",
              "function _uploadFiles(inputId, outputId) {\n",
              "  const steps = uploadFilesStep(inputId, outputId);\n",
              "  const outputElement = document.getElementById(outputId);\n",
              "  // Cache steps on the outputElement to make it available for the next call\n",
              "  // to uploadFilesContinue from Python.\n",
              "  outputElement.steps = steps;\n",
              "\n",
              "  return _uploadFilesContinue(outputId);\n",
              "}\n",
              "\n",
              "// This is roughly an async generator (not supported in the browser yet),\n",
              "// where there are multiple asynchronous steps and the Python side is going\n",
              "// to poll for completion of each step.\n",
              "// This uses a Promise to block the python side on completion of each step,\n",
              "// then passes the result of the previous step as the input to the next step.\n",
              "function _uploadFilesContinue(outputId) {\n",
              "  const outputElement = document.getElementById(outputId);\n",
              "  const steps = outputElement.steps;\n",
              "\n",
              "  const next = steps.next(outputElement.lastPromiseValue);\n",
              "  return Promise.resolve(next.value.promise).then((value) => {\n",
              "    // Cache the last promise value to make it available to the next\n",
              "    // step of the generator.\n",
              "    outputElement.lastPromiseValue = value;\n",
              "    return next.value.response;\n",
              "  });\n",
              "}\n",
              "\n",
              "/**\n",
              " * Generator function which is called between each async step of the upload\n",
              " * process.\n",
              " * @param {string} inputId Element ID of the input file picker element.\n",
              " * @param {string} outputId Element ID of the output display.\n",
              " * @return {!Iterable<!Object>} Iterable of next steps.\n",
              " */\n",
              "function* uploadFilesStep(inputId, outputId) {\n",
              "  const inputElement = document.getElementById(inputId);\n",
              "  inputElement.disabled = false;\n",
              "\n",
              "  const outputElement = document.getElementById(outputId);\n",
              "  outputElement.innerHTML = '';\n",
              "\n",
              "  const pickedPromise = new Promise((resolve) => {\n",
              "    inputElement.addEventListener('change', (e) => {\n",
              "      resolve(e.target.files);\n",
              "    });\n",
              "  });\n",
              "\n",
              "  const cancel = document.createElement('button');\n",
              "  inputElement.parentElement.appendChild(cancel);\n",
              "  cancel.textContent = 'Cancel upload';\n",
              "  const cancelPromise = new Promise((resolve) => {\n",
              "    cancel.onclick = () => {\n",
              "      resolve(null);\n",
              "    };\n",
              "  });\n",
              "\n",
              "  // Wait for the user to pick the files.\n",
              "  const files = yield {\n",
              "    promise: Promise.race([pickedPromise, cancelPromise]),\n",
              "    response: {\n",
              "      action: 'starting',\n",
              "    }\n",
              "  };\n",
              "\n",
              "  cancel.remove();\n",
              "\n",
              "  // Disable the input element since further picks are not allowed.\n",
              "  inputElement.disabled = true;\n",
              "\n",
              "  if (!files) {\n",
              "    return {\n",
              "      response: {\n",
              "        action: 'complete',\n",
              "      }\n",
              "    };\n",
              "  }\n",
              "\n",
              "  for (const file of files) {\n",
              "    const li = document.createElement('li');\n",
              "    li.append(span(file.name, {fontWeight: 'bold'}));\n",
              "    li.append(span(\n",
              "        `(${file.type || 'n/a'}) - ${file.size} bytes, ` +\n",
              "        `last modified: ${\n",
              "            file.lastModifiedDate ? file.lastModifiedDate.toLocaleDateString() :\n",
              "                                    'n/a'} - `));\n",
              "    const percent = span('0% done');\n",
              "    li.appendChild(percent);\n",
              "\n",
              "    outputElement.appendChild(li);\n",
              "\n",
              "    const fileDataPromise = new Promise((resolve) => {\n",
              "      const reader = new FileReader();\n",
              "      reader.onload = (e) => {\n",
              "        resolve(e.target.result);\n",
              "      };\n",
              "      reader.readAsArrayBuffer(file);\n",
              "    });\n",
              "    // Wait for the data to be ready.\n",
              "    let fileData = yield {\n",
              "      promise: fileDataPromise,\n",
              "      response: {\n",
              "        action: 'continue',\n",
              "      }\n",
              "    };\n",
              "\n",
              "    // Use a chunked sending to avoid message size limits. See b/62115660.\n",
              "    let position = 0;\n",
              "    do {\n",
              "      const length = Math.min(fileData.byteLength - position, MAX_PAYLOAD_SIZE);\n",
              "      const chunk = new Uint8Array(fileData, position, length);\n",
              "      position += length;\n",
              "\n",
              "      const base64 = btoa(String.fromCharCode.apply(null, chunk));\n",
              "      yield {\n",
              "        response: {\n",
              "          action: 'append',\n",
              "          file: file.name,\n",
              "          data: base64,\n",
              "        },\n",
              "      };\n",
              "\n",
              "      let percentDone = fileData.byteLength === 0 ?\n",
              "          100 :\n",
              "          Math.round((position / fileData.byteLength) * 100);\n",
              "      percent.textContent = `${percentDone}% done`;\n",
              "\n",
              "    } while (position < fileData.byteLength);\n",
              "  }\n",
              "\n",
              "  // All done.\n",
              "  yield {\n",
              "    response: {\n",
              "      action: 'complete',\n",
              "    }\n",
              "  };\n",
              "}\n",
              "\n",
              "scope.google = scope.google || {};\n",
              "scope.google.colab = scope.google.colab || {};\n",
              "scope.google.colab._files = {\n",
              "  _uploadFiles,\n",
              "  _uploadFilesContinue,\n",
              "};\n",
              "})(self);\n",
              "</script> "
            ]
          },
          "metadata": {}
        },
        {
          "output_type": "stream",
          "name": "stdout",
          "text": [
            "Saving kaggle.json to kaggle (1).json\n"
          ]
        }
      ],
      "source": [
        "# project_folder = '/content/drive/Mydrive/Colab Notebooks/ChEMBL'\n",
        "from google.colab import files\n",
        "files.upload()  # Upload kaggle.json\n",
        "!mkdir -p ~/.kaggle\n",
        "!cp kaggle.json ~/.kaggle/\n",
        "!chmod 600 ~/.kaggle/kaggle.json"
      ]
    },
    {
      "cell_type": "code",
      "source": [
        "!pip install rdkit-pypi"
      ],
      "metadata": {
        "colab": {
          "base_uri": "https://localhost:8080/"
        },
        "id": "IBOwx0xTT31l",
        "outputId": "cb45aaaf-b3b0-4cf0-bb14-20617e1b0af4"
      },
      "execution_count": null,
      "outputs": [
        {
          "output_type": "stream",
          "name": "stdout",
          "text": [
            "Collecting rdkit-pypi\n",
            "  Downloading rdkit_pypi-2022.9.5-cp311-cp311-manylinux_2_17_x86_64.manylinux2014_x86_64.whl.metadata (3.9 kB)\n",
            "Requirement already satisfied: numpy in /usr/local/lib/python3.11/dist-packages (from rdkit-pypi) (2.0.2)\n",
            "Requirement already satisfied: Pillow in /usr/local/lib/python3.11/dist-packages (from rdkit-pypi) (11.2.1)\n",
            "Downloading rdkit_pypi-2022.9.5-cp311-cp311-manylinux_2_17_x86_64.manylinux2014_x86_64.whl (29.4 MB)\n",
            "\u001b[2K   \u001b[90m━━━━━━━━━━━━━━━━━━━━━━━━━━━━━━━━━━━━━━━━\u001b[0m \u001b[32m29.4/29.4 MB\u001b[0m \u001b[31m67.4 MB/s\u001b[0m eta \u001b[36m0:00:00\u001b[0m\n",
            "\u001b[?25hInstalling collected packages: rdkit-pypi\n",
            "Successfully installed rdkit-pypi-2022.9.5\n"
          ]
        }
      ]
    },
    {
      "cell_type": "code",
      "source": [
        "!pip install kaggle"
      ],
      "metadata": {
        "colab": {
          "base_uri": "https://localhost:8080/"
        },
        "id": "yhI3S42OUftK",
        "outputId": "19d38707-657b-4673-9f7f-b3b285cffbd1"
      },
      "execution_count": null,
      "outputs": [
        {
          "output_type": "stream",
          "name": "stdout",
          "text": [
            "Requirement already satisfied: kaggle in /usr/local/lib/python3.11/dist-packages (1.7.4.5)\n",
            "Requirement already satisfied: bleach in /usr/local/lib/python3.11/dist-packages (from kaggle) (6.2.0)\n",
            "Requirement already satisfied: certifi>=14.05.14 in /usr/local/lib/python3.11/dist-packages (from kaggle) (2025.4.26)\n",
            "Requirement already satisfied: charset-normalizer in /usr/local/lib/python3.11/dist-packages (from kaggle) (3.4.2)\n",
            "Requirement already satisfied: idna in /usr/local/lib/python3.11/dist-packages (from kaggle) (3.10)\n",
            "Requirement already satisfied: protobuf in /usr/local/lib/python3.11/dist-packages (from kaggle) (5.29.5)\n",
            "Requirement already satisfied: python-dateutil>=2.5.3 in /usr/local/lib/python3.11/dist-packages (from kaggle) (2.9.0.post0)\n",
            "Requirement already satisfied: python-slugify in /usr/local/lib/python3.11/dist-packages (from kaggle) (8.0.4)\n",
            "Requirement already satisfied: requests in /usr/local/lib/python3.11/dist-packages (from kaggle) (2.32.3)\n",
            "Requirement already satisfied: setuptools>=21.0.0 in /usr/local/lib/python3.11/dist-packages (from kaggle) (75.2.0)\n",
            "Requirement already satisfied: six>=1.10 in /usr/local/lib/python3.11/dist-packages (from kaggle) (1.17.0)\n",
            "Requirement already satisfied: text-unidecode in /usr/local/lib/python3.11/dist-packages (from kaggle) (1.3)\n",
            "Requirement already satisfied: tqdm in /usr/local/lib/python3.11/dist-packages (from kaggle) (4.67.1)\n",
            "Requirement already satisfied: urllib3>=1.15.1 in /usr/local/lib/python3.11/dist-packages (from kaggle) (2.4.0)\n",
            "Requirement already satisfied: webencodings in /usr/local/lib/python3.11/dist-packages (from kaggle) (0.5.1)\n"
          ]
        }
      ]
    },
    {
      "cell_type": "code",
      "source": [
        "import os\n",
        "!kaggle datasets download -d priyanagda/bbbp-smiles --unzip\n",
        "# kaggle_json_path = '/content/drive/Mydrive/kaggle/kaggle.json'\n",
        "# os.makedirs('/root/.kaggle', exist_ok=True)\n",
        "# !cp {kaggle_json_path} /root/.kaggle/kaggle.kaggle.json"
      ],
      "metadata": {
        "colab": {
          "base_uri": "https://localhost:8080/"
        },
        "id": "ALTOrtJHUnmm",
        "outputId": "a5a519da-e260-459e-f31c-bdcf5c79b375"
      },
      "execution_count": null,
      "outputs": [
        {
          "output_type": "stream",
          "name": "stdout",
          "text": [
            "Dataset URL: https://www.kaggle.com/datasets/priyanagda/bbbp-smiles\n",
            "License(s): unknown\n",
            "Downloading bbbp-smiles.zip to /content\n",
            "  0% 0.00/45.8k [00:00<?, ?B/s]\n",
            "100% 45.8k/45.8k [00:00<00:00, 84.6MB/s]\n"
          ]
        }
      ]
    },
    {
      "cell_type": "code",
      "source": [
        "import pandas as pd\n",
        "import torch\n",
        "from torch.utils.data import Dataset, DataLoader\n",
        "from transformers import AutoTokenizer, AutoModel\n",
        "\n",
        "tokenizer = AutoTokenizer.from_pretrained(\"seyonec/ChemBERTa-zinc-base-v1\")\n",
        "pretrained_model = AutoModel.from_pretrained(\"seyonec/ChemBERTa-zinc-base-v1\")\n",
        "# tokenizer\n",
        "def smiles_to_embedding(smiles):\n",
        "  inputs = tokenizer(smiles, return_tensors='pt', max_length=512,\n",
        "                     truncation = True)\n",
        "  with torch.no_grad():\n",
        "    outputs = pretrained_model(**inputs)\n",
        "\n",
        "  embedding = outputs.last_hidden_state.mean(dim=1).squeeze()\n",
        "  return embedding\n",
        "\n",
        "df = pd.read_csv(\"BBBP.csv\")\n",
        "df"
      ],
      "metadata": {
        "colab": {
          "base_uri": "https://localhost:8080/",
          "height": 424
        },
        "id": "Gcte4SXsWaj9",
        "outputId": "111fb9a9-b8b2-4f56-c695-112dca6566b8"
      },
      "execution_count": null,
      "outputs": [
        {
          "output_type": "execute_result",
          "data": {
            "text/plain": [
              "       num                               name  p_np  \\\n",
              "0        1                         Propanolol     1   \n",
              "1        2               Terbutylchlorambucil     1   \n",
              "2        3                              40730     1   \n",
              "3        4                                 24     1   \n",
              "4        5                        cloxacillin     1   \n",
              "...    ...                                ...   ...   \n",
              "2045  2049                         licostinel     1   \n",
              "2046  2050  ademetionine(adenosyl-methionine)     1   \n",
              "2047  2051                           mesocarb     1   \n",
              "2048  2052                         tofisoline     1   \n",
              "2049  2053                      azidamfenicol     1   \n",
              "\n",
              "                                                 smiles  \n",
              "0                      [Cl].CC(C)NCC(O)COc1cccc2ccccc12  \n",
              "1              C(=O)(OC(C)(C)C)CCCc1ccc(cc1)N(CCCl)CCCl  \n",
              "2     c12c3c(N4CCN(C)CC4)c(F)cc1c(c(C(O)=O)cn2C(C)CO...  \n",
              "3                      C1CCN(CC1)Cc1cccc(c1)OCCCNC(=O)C  \n",
              "4     Cc1onc(c2ccccc2Cl)c1C(=O)N[C@H]3[C@H]4SC(C)(C)...  \n",
              "...                                                 ...  \n",
              "2045    C1=C(Cl)C(=C(C2=C1NC(=O)C(N2)=O)[N+](=O)[O-])Cl  \n",
              "2046  [C@H]3([N]2C1=C(C(=NC=N1)N)N=C2)[C@@H]([C@@H](...  \n",
              "2047  [O+]1=N[N](C=C1[N-]C(NC2=CC=CC=C2)=O)C(CC3=CC=...  \n",
              "2048  C1=C(OC)C(=CC2=C1C(=[N+](C(=C2CC)C)[NH-])C3=CC...  \n",
              "2049  [N+](=NCC(=O)N[C@@H]([C@H](O)C1=CC=C([N+]([O-]...  \n",
              "\n",
              "[2050 rows x 4 columns]"
            ],
            "text/html": [
              "\n",
              "  <div id=\"df-8352780b-3a29-4cf9-bfcf-4422cce73cf1\" class=\"colab-df-container\">\n",
              "    <div>\n",
              "<style scoped>\n",
              "    .dataframe tbody tr th:only-of-type {\n",
              "        vertical-align: middle;\n",
              "    }\n",
              "\n",
              "    .dataframe tbody tr th {\n",
              "        vertical-align: top;\n",
              "    }\n",
              "\n",
              "    .dataframe thead th {\n",
              "        text-align: right;\n",
              "    }\n",
              "</style>\n",
              "<table border=\"1\" class=\"dataframe\">\n",
              "  <thead>\n",
              "    <tr style=\"text-align: right;\">\n",
              "      <th></th>\n",
              "      <th>num</th>\n",
              "      <th>name</th>\n",
              "      <th>p_np</th>\n",
              "      <th>smiles</th>\n",
              "    </tr>\n",
              "  </thead>\n",
              "  <tbody>\n",
              "    <tr>\n",
              "      <th>0</th>\n",
              "      <td>1</td>\n",
              "      <td>Propanolol</td>\n",
              "      <td>1</td>\n",
              "      <td>[Cl].CC(C)NCC(O)COc1cccc2ccccc12</td>\n",
              "    </tr>\n",
              "    <tr>\n",
              "      <th>1</th>\n",
              "      <td>2</td>\n",
              "      <td>Terbutylchlorambucil</td>\n",
              "      <td>1</td>\n",
              "      <td>C(=O)(OC(C)(C)C)CCCc1ccc(cc1)N(CCCl)CCCl</td>\n",
              "    </tr>\n",
              "    <tr>\n",
              "      <th>2</th>\n",
              "      <td>3</td>\n",
              "      <td>40730</td>\n",
              "      <td>1</td>\n",
              "      <td>c12c3c(N4CCN(C)CC4)c(F)cc1c(c(C(O)=O)cn2C(C)CO...</td>\n",
              "    </tr>\n",
              "    <tr>\n",
              "      <th>3</th>\n",
              "      <td>4</td>\n",
              "      <td>24</td>\n",
              "      <td>1</td>\n",
              "      <td>C1CCN(CC1)Cc1cccc(c1)OCCCNC(=O)C</td>\n",
              "    </tr>\n",
              "    <tr>\n",
              "      <th>4</th>\n",
              "      <td>5</td>\n",
              "      <td>cloxacillin</td>\n",
              "      <td>1</td>\n",
              "      <td>Cc1onc(c2ccccc2Cl)c1C(=O)N[C@H]3[C@H]4SC(C)(C)...</td>\n",
              "    </tr>\n",
              "    <tr>\n",
              "      <th>...</th>\n",
              "      <td>...</td>\n",
              "      <td>...</td>\n",
              "      <td>...</td>\n",
              "      <td>...</td>\n",
              "    </tr>\n",
              "    <tr>\n",
              "      <th>2045</th>\n",
              "      <td>2049</td>\n",
              "      <td>licostinel</td>\n",
              "      <td>1</td>\n",
              "      <td>C1=C(Cl)C(=C(C2=C1NC(=O)C(N2)=O)[N+](=O)[O-])Cl</td>\n",
              "    </tr>\n",
              "    <tr>\n",
              "      <th>2046</th>\n",
              "      <td>2050</td>\n",
              "      <td>ademetionine(adenosyl-methionine)</td>\n",
              "      <td>1</td>\n",
              "      <td>[C@H]3([N]2C1=C(C(=NC=N1)N)N=C2)[C@@H]([C@@H](...</td>\n",
              "    </tr>\n",
              "    <tr>\n",
              "      <th>2047</th>\n",
              "      <td>2051</td>\n",
              "      <td>mesocarb</td>\n",
              "      <td>1</td>\n",
              "      <td>[O+]1=N[N](C=C1[N-]C(NC2=CC=CC=C2)=O)C(CC3=CC=...</td>\n",
              "    </tr>\n",
              "    <tr>\n",
              "      <th>2048</th>\n",
              "      <td>2052</td>\n",
              "      <td>tofisoline</td>\n",
              "      <td>1</td>\n",
              "      <td>C1=C(OC)C(=CC2=C1C(=[N+](C(=C2CC)C)[NH-])C3=CC...</td>\n",
              "    </tr>\n",
              "    <tr>\n",
              "      <th>2049</th>\n",
              "      <td>2053</td>\n",
              "      <td>azidamfenicol</td>\n",
              "      <td>1</td>\n",
              "      <td>[N+](=NCC(=O)N[C@@H]([C@H](O)C1=CC=C([N+]([O-]...</td>\n",
              "    </tr>\n",
              "  </tbody>\n",
              "</table>\n",
              "<p>2050 rows × 4 columns</p>\n",
              "</div>\n",
              "    <div class=\"colab-df-buttons\">\n",
              "\n",
              "  <div class=\"colab-df-container\">\n",
              "    <button class=\"colab-df-convert\" onclick=\"convertToInteractive('df-8352780b-3a29-4cf9-bfcf-4422cce73cf1')\"\n",
              "            title=\"Convert this dataframe to an interactive table.\"\n",
              "            style=\"display:none;\">\n",
              "\n",
              "  <svg xmlns=\"http://www.w3.org/2000/svg\" height=\"24px\" viewBox=\"0 -960 960 960\">\n",
              "    <path d=\"M120-120v-720h720v720H120Zm60-500h600v-160H180v160Zm220 220h160v-160H400v160Zm0 220h160v-160H400v160ZM180-400h160v-160H180v160Zm440 0h160v-160H620v160ZM180-180h160v-160H180v160Zm440 0h160v-160H620v160Z\"/>\n",
              "  </svg>\n",
              "    </button>\n",
              "\n",
              "  <style>\n",
              "    .colab-df-container {\n",
              "      display:flex;\n",
              "      gap: 12px;\n",
              "    }\n",
              "\n",
              "    .colab-df-convert {\n",
              "      background-color: #E8F0FE;\n",
              "      border: none;\n",
              "      border-radius: 50%;\n",
              "      cursor: pointer;\n",
              "      display: none;\n",
              "      fill: #1967D2;\n",
              "      height: 32px;\n",
              "      padding: 0 0 0 0;\n",
              "      width: 32px;\n",
              "    }\n",
              "\n",
              "    .colab-df-convert:hover {\n",
              "      background-color: #E2EBFA;\n",
              "      box-shadow: 0px 1px 2px rgba(60, 64, 67, 0.3), 0px 1px 3px 1px rgba(60, 64, 67, 0.15);\n",
              "      fill: #174EA6;\n",
              "    }\n",
              "\n",
              "    .colab-df-buttons div {\n",
              "      margin-bottom: 4px;\n",
              "    }\n",
              "\n",
              "    [theme=dark] .colab-df-convert {\n",
              "      background-color: #3B4455;\n",
              "      fill: #D2E3FC;\n",
              "    }\n",
              "\n",
              "    [theme=dark] .colab-df-convert:hover {\n",
              "      background-color: #434B5C;\n",
              "      box-shadow: 0px 1px 3px 1px rgba(0, 0, 0, 0.15);\n",
              "      filter: drop-shadow(0px 1px 2px rgba(0, 0, 0, 0.3));\n",
              "      fill: #FFFFFF;\n",
              "    }\n",
              "  </style>\n",
              "\n",
              "    <script>\n",
              "      const buttonEl =\n",
              "        document.querySelector('#df-8352780b-3a29-4cf9-bfcf-4422cce73cf1 button.colab-df-convert');\n",
              "      buttonEl.style.display =\n",
              "        google.colab.kernel.accessAllowed ? 'block' : 'none';\n",
              "\n",
              "      async function convertToInteractive(key) {\n",
              "        const element = document.querySelector('#df-8352780b-3a29-4cf9-bfcf-4422cce73cf1');\n",
              "        const dataTable =\n",
              "          await google.colab.kernel.invokeFunction('convertToInteractive',\n",
              "                                                    [key], {});\n",
              "        if (!dataTable) return;\n",
              "\n",
              "        const docLinkHtml = 'Like what you see? Visit the ' +\n",
              "          '<a target=\"_blank\" href=https://colab.research.google.com/notebooks/data_table.ipynb>data table notebook</a>'\n",
              "          + ' to learn more about interactive tables.';\n",
              "        element.innerHTML = '';\n",
              "        dataTable['output_type'] = 'display_data';\n",
              "        await google.colab.output.renderOutput(dataTable, element);\n",
              "        const docLink = document.createElement('div');\n",
              "        docLink.innerHTML = docLinkHtml;\n",
              "        element.appendChild(docLink);\n",
              "      }\n",
              "    </script>\n",
              "  </div>\n",
              "\n",
              "\n",
              "    <div id=\"df-7ab9c2ea-7353-49be-925a-3d1c87f4416d\">\n",
              "      <button class=\"colab-df-quickchart\" onclick=\"quickchart('df-7ab9c2ea-7353-49be-925a-3d1c87f4416d')\"\n",
              "                title=\"Suggest charts\"\n",
              "                style=\"display:none;\">\n",
              "\n",
              "<svg xmlns=\"http://www.w3.org/2000/svg\" height=\"24px\"viewBox=\"0 0 24 24\"\n",
              "     width=\"24px\">\n",
              "    <g>\n",
              "        <path d=\"M19 3H5c-1.1 0-2 .9-2 2v14c0 1.1.9 2 2 2h14c1.1 0 2-.9 2-2V5c0-1.1-.9-2-2-2zM9 17H7v-7h2v7zm4 0h-2V7h2v10zm4 0h-2v-4h2v4z\"/>\n",
              "    </g>\n",
              "</svg>\n",
              "      </button>\n",
              "\n",
              "<style>\n",
              "  .colab-df-quickchart {\n",
              "      --bg-color: #E8F0FE;\n",
              "      --fill-color: #1967D2;\n",
              "      --hover-bg-color: #E2EBFA;\n",
              "      --hover-fill-color: #174EA6;\n",
              "      --disabled-fill-color: #AAA;\n",
              "      --disabled-bg-color: #DDD;\n",
              "  }\n",
              "\n",
              "  [theme=dark] .colab-df-quickchart {\n",
              "      --bg-color: #3B4455;\n",
              "      --fill-color: #D2E3FC;\n",
              "      --hover-bg-color: #434B5C;\n",
              "      --hover-fill-color: #FFFFFF;\n",
              "      --disabled-bg-color: #3B4455;\n",
              "      --disabled-fill-color: #666;\n",
              "  }\n",
              "\n",
              "  .colab-df-quickchart {\n",
              "    background-color: var(--bg-color);\n",
              "    border: none;\n",
              "    border-radius: 50%;\n",
              "    cursor: pointer;\n",
              "    display: none;\n",
              "    fill: var(--fill-color);\n",
              "    height: 32px;\n",
              "    padding: 0;\n",
              "    width: 32px;\n",
              "  }\n",
              "\n",
              "  .colab-df-quickchart:hover {\n",
              "    background-color: var(--hover-bg-color);\n",
              "    box-shadow: 0 1px 2px rgba(60, 64, 67, 0.3), 0 1px 3px 1px rgba(60, 64, 67, 0.15);\n",
              "    fill: var(--button-hover-fill-color);\n",
              "  }\n",
              "\n",
              "  .colab-df-quickchart-complete:disabled,\n",
              "  .colab-df-quickchart-complete:disabled:hover {\n",
              "    background-color: var(--disabled-bg-color);\n",
              "    fill: var(--disabled-fill-color);\n",
              "    box-shadow: none;\n",
              "  }\n",
              "\n",
              "  .colab-df-spinner {\n",
              "    border: 2px solid var(--fill-color);\n",
              "    border-color: transparent;\n",
              "    border-bottom-color: var(--fill-color);\n",
              "    animation:\n",
              "      spin 1s steps(1) infinite;\n",
              "  }\n",
              "\n",
              "  @keyframes spin {\n",
              "    0% {\n",
              "      border-color: transparent;\n",
              "      border-bottom-color: var(--fill-color);\n",
              "      border-left-color: var(--fill-color);\n",
              "    }\n",
              "    20% {\n",
              "      border-color: transparent;\n",
              "      border-left-color: var(--fill-color);\n",
              "      border-top-color: var(--fill-color);\n",
              "    }\n",
              "    30% {\n",
              "      border-color: transparent;\n",
              "      border-left-color: var(--fill-color);\n",
              "      border-top-color: var(--fill-color);\n",
              "      border-right-color: var(--fill-color);\n",
              "    }\n",
              "    40% {\n",
              "      border-color: transparent;\n",
              "      border-right-color: var(--fill-color);\n",
              "      border-top-color: var(--fill-color);\n",
              "    }\n",
              "    60% {\n",
              "      border-color: transparent;\n",
              "      border-right-color: var(--fill-color);\n",
              "    }\n",
              "    80% {\n",
              "      border-color: transparent;\n",
              "      border-right-color: var(--fill-color);\n",
              "      border-bottom-color: var(--fill-color);\n",
              "    }\n",
              "    90% {\n",
              "      border-color: transparent;\n",
              "      border-bottom-color: var(--fill-color);\n",
              "    }\n",
              "  }\n",
              "</style>\n",
              "\n",
              "      <script>\n",
              "        async function quickchart(key) {\n",
              "          const quickchartButtonEl =\n",
              "            document.querySelector('#' + key + ' button');\n",
              "          quickchartButtonEl.disabled = true;  // To prevent multiple clicks.\n",
              "          quickchartButtonEl.classList.add('colab-df-spinner');\n",
              "          try {\n",
              "            const charts = await google.colab.kernel.invokeFunction(\n",
              "                'suggestCharts', [key], {});\n",
              "          } catch (error) {\n",
              "            console.error('Error during call to suggestCharts:', error);\n",
              "          }\n",
              "          quickchartButtonEl.classList.remove('colab-df-spinner');\n",
              "          quickchartButtonEl.classList.add('colab-df-quickchart-complete');\n",
              "        }\n",
              "        (() => {\n",
              "          let quickchartButtonEl =\n",
              "            document.querySelector('#df-7ab9c2ea-7353-49be-925a-3d1c87f4416d button');\n",
              "          quickchartButtonEl.style.display =\n",
              "            google.colab.kernel.accessAllowed ? 'block' : 'none';\n",
              "        })();\n",
              "      </script>\n",
              "    </div>\n",
              "\n",
              "  <div id=\"id_b60cdf96-fb6c-4ac7-87a7-b677aa31abd7\">\n",
              "    <style>\n",
              "      .colab-df-generate {\n",
              "        background-color: #E8F0FE;\n",
              "        border: none;\n",
              "        border-radius: 50%;\n",
              "        cursor: pointer;\n",
              "        display: none;\n",
              "        fill: #1967D2;\n",
              "        height: 32px;\n",
              "        padding: 0 0 0 0;\n",
              "        width: 32px;\n",
              "      }\n",
              "\n",
              "      .colab-df-generate:hover {\n",
              "        background-color: #E2EBFA;\n",
              "        box-shadow: 0px 1px 2px rgba(60, 64, 67, 0.3), 0px 1px 3px 1px rgba(60, 64, 67, 0.15);\n",
              "        fill: #174EA6;\n",
              "      }\n",
              "\n",
              "      [theme=dark] .colab-df-generate {\n",
              "        background-color: #3B4455;\n",
              "        fill: #D2E3FC;\n",
              "      }\n",
              "\n",
              "      [theme=dark] .colab-df-generate:hover {\n",
              "        background-color: #434B5C;\n",
              "        box-shadow: 0px 1px 3px 1px rgba(0, 0, 0, 0.15);\n",
              "        filter: drop-shadow(0px 1px 2px rgba(0, 0, 0, 0.3));\n",
              "        fill: #FFFFFF;\n",
              "      }\n",
              "    </style>\n",
              "    <button class=\"colab-df-generate\" onclick=\"generateWithVariable('df')\"\n",
              "            title=\"Generate code using this dataframe.\"\n",
              "            style=\"display:none;\">\n",
              "\n",
              "  <svg xmlns=\"http://www.w3.org/2000/svg\" height=\"24px\"viewBox=\"0 0 24 24\"\n",
              "       width=\"24px\">\n",
              "    <path d=\"M7,19H8.4L18.45,9,17,7.55,7,17.6ZM5,21V16.75L18.45,3.32a2,2,0,0,1,2.83,0l1.4,1.43a1.91,1.91,0,0,1,.58,1.4,1.91,1.91,0,0,1-.58,1.4L9.25,21ZM18.45,9,17,7.55Zm-12,3A5.31,5.31,0,0,0,4.9,8.1,5.31,5.31,0,0,0,1,6.5,5.31,5.31,0,0,0,4.9,4.9,5.31,5.31,0,0,0,6.5,1,5.31,5.31,0,0,0,8.1,4.9,5.31,5.31,0,0,0,12,6.5,5.46,5.46,0,0,0,6.5,12Z\"/>\n",
              "  </svg>\n",
              "    </button>\n",
              "    <script>\n",
              "      (() => {\n",
              "      const buttonEl =\n",
              "        document.querySelector('#id_b60cdf96-fb6c-4ac7-87a7-b677aa31abd7 button.colab-df-generate');\n",
              "      buttonEl.style.display =\n",
              "        google.colab.kernel.accessAllowed ? 'block' : 'none';\n",
              "\n",
              "      buttonEl.onclick = () => {\n",
              "        google.colab.notebook.generateWithVariable('df');\n",
              "      }\n",
              "      })();\n",
              "    </script>\n",
              "  </div>\n",
              "\n",
              "    </div>\n",
              "  </div>\n"
            ],
            "application/vnd.google.colaboratory.intrinsic+json": {
              "type": "dataframe",
              "variable_name": "df",
              "summary": "{\n  \"name\": \"df\",\n  \"rows\": 2050,\n  \"fields\": [\n    {\n      \"column\": \"num\",\n      \"properties\": {\n        \"dtype\": \"number\",\n        \"std\": 592,\n        \"min\": 1,\n        \"max\": 2053,\n        \"num_unique_values\": 2050,\n        \"samples\": [\n          1812,\n          696,\n          908\n        ],\n        \"semantic_type\": \"\",\n        \"description\": \"\"\n      }\n    },\n    {\n      \"column\": \"name\",\n      \"properties\": {\n        \"dtype\": \"string\",\n        \"num_unique_values\": 2022,\n        \"samples\": [\n          \"methocarbamol\",\n          \"nicocortonide\",\n          \"aztreonam\"\n        ],\n        \"semantic_type\": \"\",\n        \"description\": \"\"\n      }\n    },\n    {\n      \"column\": \"p_np\",\n      \"properties\": {\n        \"dtype\": \"number\",\n        \"std\": 0,\n        \"min\": 0,\n        \"max\": 1,\n        \"num_unique_values\": 2,\n        \"samples\": [\n          0,\n          1\n        ],\n        \"semantic_type\": \"\",\n        \"description\": \"\"\n      }\n    },\n    {\n      \"column\": \"smiles\",\n      \"properties\": {\n        \"dtype\": \"string\",\n        \"num_unique_values\": 2050,\n        \"samples\": [\n          \"C1=CC=CC2=C1C(C(N2CC(N)=O)=O)C3=CC=CC=C3\",\n          \"CN[C@@H](C)Cc1ccccc1\"\n        ],\n        \"semantic_type\": \"\",\n        \"description\": \"\"\n      }\n    }\n  ]\n}"
            }
          },
          "metadata": {},
          "execution_count": 34
        }
      ]
    },
    {
      "cell_type": "code",
      "source": [
        "from tqdm.notebook import tqdm\n",
        "class BBBP_Dataset(Dataset):\n",
        "  def __init__(self, csv_file):\n",
        "    self.bbbp_df = pd.read_csv(csv_file)\n",
        "    self.smiles_list = self.bbbp_df['smiles'].to_list()\n",
        "    self.labels = self.bbbp_df['p_np'].values\n",
        "\n",
        "    self.embeddings = [smiles_to_embedding(x) for x in tqdm(self.smiles_list,\n",
        "                                                            desc='SMILES TO EMBEDDING')]\n",
        "\n",
        "  def __len__(self):\n",
        "    return len(self.embeddings)\n",
        "\n",
        "  def __getitem__(self, idx):\n",
        "    embedding = self.embeddings[idx]\n",
        "    label = self.labels[idx]\n",
        "\n",
        "    label_tensor = torch.tensor(label, dtype=torch.float32)\n",
        "    return embedding, label_tensor"
      ],
      "metadata": {
        "id": "ZydFAHzhWwBP"
      },
      "execution_count": null,
      "outputs": []
    },
    {
      "cell_type": "code",
      "source": [
        "bbbp_dataset = BBBP_Dataset(\"BBBP.csv\")\n",
        "\n",
        "from torch.utils.data import random_split\n",
        "train_size = int(0.8 * len(bbbp_dataset))\n",
        "test_size = len(bbbp_dataset) - train_size\n",
        "\n",
        "train_dataset, test_dataset = random_split(bbbp_dataset, [train_size, test_size])\n",
        "train_loader = DataLoader(train_dataset, batch_size=32, shuffle = True)\n",
        "test_loader = DataLoader(test_dataset, batch_size=32, shuffle = False)"
      ],
      "metadata": {
        "colab": {
          "base_uri": "https://localhost:8080/",
          "height": 49,
          "referenced_widgets": [
            "c7dc6c6fbb0c4db7ac977ecef93dbc31",
            "8cc110d682aa48f782ed4ec3d1d69b98",
            "de57391ab69747f5999986c4aa104399",
            "c12137f9e21446d299d046c184f4f984",
            "4ea3bd8e15d64cba9e9ffe372db62196",
            "60f654cbfd424d36a2e3260241f5ed20",
            "174b551131554a14a5f220c016729df4",
            "574ba88bfc334b91b75d1545b0cf0115",
            "4122a70c17a440c4930b8442fc1561a1",
            "3d91df166e1c4162928dcbbda95ec005",
            "d7e8f5fc8cde4b95a6e2ee89527174df"
          ]
        },
        "id": "Zv5QzjDhY1-s",
        "outputId": "90bed48a-5759-47ef-cc70-e16da7a61077"
      },
      "execution_count": null,
      "outputs": [
        {
          "output_type": "display_data",
          "data": {
            "text/plain": [
              "SMILES TO EMBEDDING:   0%|          | 0/2050 [00:00<?, ?it/s]"
            ],
            "application/vnd.jupyter.widget-view+json": {
              "version_major": 2,
              "version_minor": 0,
              "model_id": "c7dc6c6fbb0c4db7ac977ecef93dbc31"
            }
          },
          "metadata": {}
        }
      ]
    },
    {
      "cell_type": "code",
      "source": [
        "tokenizer"
      ],
      "metadata": {
        "colab": {
          "base_uri": "https://localhost:8080/"
        },
        "id": "o3FY-rU1bLfT",
        "outputId": "0285adc7-f906-4bcc-8293-29544ea7f828"
      },
      "execution_count": null,
      "outputs": [
        {
          "output_type": "execute_result",
          "data": {
            "text/plain": [
              "RobertaTokenizerFast(name_or_path='seyonec/ChemBERTa-zinc-base-v1', vocab_size=767, model_max_length=512, is_fast=True, padding_side='right', truncation_side='right', special_tokens={'bos_token': '<s>', 'eos_token': '</s>', 'unk_token': '<unk>', 'sep_token': '</s>', 'pad_token': '<pad>', 'cls_token': '<s>', 'mask_token': '<mask>'}, clean_up_tokenization_spaces=False, added_tokens_decoder={\n",
              "\t0: AddedToken(\"<s>\", rstrip=False, lstrip=False, single_word=False, normalized=True, special=True),\n",
              "\t1: AddedToken(\"<pad>\", rstrip=False, lstrip=False, single_word=False, normalized=True, special=True),\n",
              "\t2: AddedToken(\"</s>\", rstrip=False, lstrip=False, single_word=False, normalized=True, special=True),\n",
              "\t3: AddedToken(\"<unk>\", rstrip=False, lstrip=False, single_word=False, normalized=True, special=True),\n",
              "\t4: AddedToken(\"<mask>\", rstrip=False, lstrip=True, single_word=False, normalized=False, special=True),\n",
              "}\n",
              ")"
            ]
          },
          "metadata": {},
          "execution_count": 48
        }
      ]
    },
    {
      "cell_type": "code",
      "source": [
        "import torch.nn as nn\n",
        "import torch.optim as optim\n",
        "model = nn.Sequential(\n",
        "    nn.Linear(768, 128),\n",
        "    nn.ReLU(),\n",
        "    nn.Linear(128, 64),\n",
        "    nn.ReLU(),\n",
        "    nn.Linear(64, 1),\n",
        "    nn.Sigmoid()\n",
        ")\n",
        "\n",
        "criterion = nn.BCELoss()\n",
        "optimizer = optim.Adam(model.parameters(), lr=0.001)"
      ],
      "metadata": {
        "id": "JV6GKTt9adRe"
      },
      "execution_count": null,
      "outputs": []
    },
    {
      "cell_type": "code",
      "source": [
        "num_epochs = 50\n",
        "for epoch in range(num_epochs):\n",
        "  model.train()\n",
        "  loss_list = []\n",
        "  for embeddings, labels in train_loader:\n",
        "    outputs = model(embeddings).squeeze()\n",
        "    loss=nn.BCELoss()(outputs, labels)\n",
        "    loss_list.append(loss.item())\n",
        "\n",
        "    for p in model.parameters():\n",
        "      p.grad=None\n",
        "    loss.backward()\n",
        "    for p in model.parameters():\n",
        "      p.data -= 0.01 * p.grad\n",
        "  tmp = sum(loss_list) / len(loss_list)\n",
        "  print(f\"Epoch [{epoch+1}/{num_epochs}], loss:{tmp:.4f}\")"
      ],
      "metadata": {
        "colab": {
          "base_uri": "https://localhost:8080/"
        },
        "id": "CzYwZTNbbZN6",
        "outputId": "e6620eb6-6b70-4486-a335-57b0c58f717f"
      },
      "execution_count": null,
      "outputs": [
        {
          "output_type": "stream",
          "name": "stdout",
          "text": [
            "Epoch [1/50], loss:0.6231\n",
            "Epoch [2/50], loss:0.5138\n",
            "Epoch [3/50], loss:0.4787\n",
            "Epoch [4/50], loss:0.4392\n",
            "Epoch [5/50], loss:0.4109\n",
            "Epoch [6/50], loss:0.3864\n",
            "Epoch [7/50], loss:0.3665\n",
            "Epoch [8/50], loss:0.3574\n",
            "Epoch [9/50], loss:0.3465\n",
            "Epoch [10/50], loss:0.3379\n",
            "Epoch [11/50], loss:0.3300\n",
            "Epoch [12/50], loss:0.3223\n",
            "Epoch [13/50], loss:0.3182\n",
            "Epoch [14/50], loss:0.3087\n",
            "Epoch [15/50], loss:0.3070\n",
            "Epoch [16/50], loss:0.3040\n",
            "Epoch [17/50], loss:0.2987\n",
            "Epoch [18/50], loss:0.2967\n",
            "Epoch [19/50], loss:0.2926\n",
            "Epoch [20/50], loss:0.2922\n",
            "Epoch [21/50], loss:0.2917\n",
            "Epoch [22/50], loss:0.2920\n",
            "Epoch [23/50], loss:0.2792\n",
            "Epoch [24/50], loss:0.2831\n",
            "Epoch [25/50], loss:0.2776\n",
            "Epoch [26/50], loss:0.2792\n",
            "Epoch [27/50], loss:0.2714\n",
            "Epoch [28/50], loss:0.2686\n",
            "Epoch [29/50], loss:0.2638\n",
            "Epoch [30/50], loss:0.2621\n",
            "Epoch [31/50], loss:0.2581\n",
            "Epoch [32/50], loss:0.2562\n",
            "Epoch [33/50], loss:0.2550\n",
            "Epoch [34/50], loss:0.2534\n",
            "Epoch [35/50], loss:0.2484\n",
            "Epoch [36/50], loss:0.2437\n",
            "Epoch [37/50], loss:0.2486\n",
            "Epoch [38/50], loss:0.2400\n",
            "Epoch [39/50], loss:0.2402\n",
            "Epoch [40/50], loss:0.2366\n",
            "Epoch [41/50], loss:0.2306\n",
            "Epoch [42/50], loss:0.2295\n",
            "Epoch [43/50], loss:0.2281\n",
            "Epoch [44/50], loss:0.2244\n",
            "Epoch [45/50], loss:0.2214\n",
            "Epoch [46/50], loss:0.2191\n",
            "Epoch [47/50], loss:0.2152\n",
            "Epoch [48/50], loss:0.2197\n",
            "Epoch [49/50], loss:0.2133\n",
            "Epoch [50/50], loss:0.2092\n"
          ]
        }
      ]
    },
    {
      "cell_type": "code",
      "source": [],
      "metadata": {
        "id": "tr8ygWQ7h1tu"
      },
      "execution_count": null,
      "outputs": []
    },
    {
      "cell_type": "code",
      "source": [
        "num_epochs = 100\n",
        "device = torch.device(\"cuda\" if torch.cuda.is_available() else \"cpu\")\n",
        "model.to(device)\n",
        "lossi = []\n",
        "running_loss = 0\n",
        "\n",
        "for epoch in range(num_epochs):\n",
        "\n",
        "  model.train()\n",
        "  train_loss = 0.0\n",
        "  for embeddings, labels in tqdm(train_loader, desc = \"Batching\", leave = True):\n",
        "    embeddings, labels = embeddings.to(device), labels.to(device)\n",
        "\n",
        "    # forward\n",
        "    outputs = model(embeddings).squeeze()\n",
        "    loss=criterion(outputs, labels)\n",
        "\n",
        "    #backward\n",
        "    optimizer.zero_grad()\n",
        "    loss.backward()\n",
        "    optimizer.step()\n",
        "\n",
        "    running_loss+=loss.item()\n",
        "    train_loss +=loss.item() * embeddings.size(0)\n",
        "    lossi.append(loss.item())\n",
        "\n",
        "  train_loss /= len(train_loader.dataset)\n",
        "  print(f\"Epoch [{epoch+1}/{num_epochs}], loss:{train_loss:.4f}\")\n",
        "\n",
        "  model.eval()\n",
        "  correct = 0\n",
        "  total = 0\n",
        "\n",
        "  with torch.no_grad():\n",
        "    for embeddings, labels in test_loader:\n",
        "      embeddings, labels = embeddings.to(device), labels.to(device)\n",
        "      outputs = model(embeddings).squeeze()\n",
        "      predicted = (outputs > 0.5).float()\n",
        "      correct += (predicted == labels).sum().item()\n",
        "      total += labels.size(0)\n",
        "  accuracy = 100*correct / total\n",
        "  print(f'Test Accuracy: {accuracy:.2f}%')"
      ],
      "metadata": {
        "colab": {
          "base_uri": "https://localhost:8080/",
          "height": 1000,
          "referenced_widgets": [
            "0eb4f771197042cfad9bffa1a7046af0",
            "90e579cd01d24de78fb1cce837fd4ea9",
            "c31d955cb49b40a6872997e5a2de83ee",
            "499003a87c2945c7ad02f4989f1a1cfd",
            "1b2e69183f6b418f9eff806c7e9bc014",
            "fa5cfdd3839d40729e725d30810abbe0",
            "1adb83c96af645f5976a3d13eaa556a8",
            "c311ab5c9c41480c8f9f494925f9e6bd",
            "0868b3ed87b14443957730d5851c5688",
            "d91da807cb5e4f1a8b4e0e80a672e264",
            "a6a311994919474ebe5a3b4cbb32dc26",
            "4b2fec03bfd04d0c85d733c1780a7402",
            "b8df9b8209ed4ffeae438ac7de52d011",
            "82e9f09de2774ac49ffe98d68d9ec27e",
            "93064937b7f642419ec64ad221ee6183",
            "0e89c35a6fb34db4934ee007b46413b7",
            "86dc513376b84c50aa343c31b33ee5b2",
            "204af0c48d2f407daae6af43cac47da2",
            "41266e66d48548c080ba4085411bc038",
            "f6615baf95ea4a7799fc3b72a37d9059",
            "89937150e2c740bb9f679323ce96405b",
            "e7863a52554e41cbae128f09baeef634",
            "233ebb270eef4a6ba8e6578033ac01e3",
            "b2e562a69e754ab5baa3e5a386cd4bbc",
            "ebf2da0fabdd4731aa12da858e0472ae",
            "9ea68e7e42c94d06963d5cd8a3d69c65",
            "73c3a7e6410a429c826ac36799b66b9e",
            "b25c681b08a74829a3eb6fa9bc4c1f88",
            "dd6b87e19da146c0993f6d05c8958ac4",
            "620ea68e23694cca8db94112092524f5",
            "24ff9d4f40f94da4ba3c22ca12e50aef",
            "821526a961c24354aa11335f2b2d7cd7",
            "973191dc035249649314687c98f6fac1",
            "1f6eb773baba4de18ec375b0446d2398",
            "47c5413422384171988bcb0754f2f4da",
            "e228c4b245ae44a6aca04aaf40c3c223",
            "7b1151069cf5409b9ff4b77098415433",
            "ed9f48eee4f840c592459b8184e2cc65",
            "f8221b58ea3846119071a1742a358efb",
            "6400f48652cd4a8eae64a1482bcf5571",
            "1f14a4cc93064ba094df6512ec29f383",
            "a4ef471aab5441aaa71fcc58ed394082",
            "b7a9a28d136d4af2ab8f94f4e791e88d",
            "3d3f2e41252a46b9b514759d2c8801af",
            "352d2178d30d4991805b9501b8b3c0df",
            "d6b46ae30e83475f9dd5326905dbe53d",
            "033643445d5e462faed9a23c8c8b3126",
            "f0ae6cf89a474a92a155c52a87f18d3d",
            "f2f51bb82a474603bdbe7b9a18d99f6c",
            "1ff8a30239fb49619acce4bb622187f6",
            "f4ecb117395b4e089ebf0df84ca3f278",
            "d159a11ef816420c99edbb9d7ebd2033",
            "2dd07beffd644f70a95f6a13e3718021",
            "417578312a684689ac47858df6ab2bfd",
            "b03d6cf7bdbd4c6bbc0e4c57ad913e5d",
            "18ecdd7ce5554bc5a35a86264df99b9c",
            "78cbe1267587479380f75251922e0a00",
            "c8095cc491e5461490c69207491559dd",
            "fad3ec62cb5048dd9c5dda35e53fc6cd",
            "e73c1f9cad834911bb9c76048eac315d",
            "e1f8ab001117409f91cbbd62320b0e26",
            "33aa3a732b6c4eb2807d0a71bf5eaf67",
            "49b7df5605484e43871480d22bb89fa7",
            "c8fe6bf155824b7ba755b9d3bc46836f",
            "d58df727626049a68e4cdce5f14661df",
            "fb95489c2afa485f82318dae304cde44",
            "a868ee3a603b4482be0c47c612c0a1ae",
            "48b787a4f8504a23938d0fe6e8a53f5f",
            "892d511c73554c3d833059e53282d1c4",
            "5131e67e9e7346318bb3f6c8de3ffbb7",
            "273545c7e5f846ab9c3fd72b6f3e1c4d",
            "692a2b65cd394fa6839e60180e73cdb8",
            "233e0d7b817049c0b43447bd6c184939",
            "d5d4f1d78ab84913a4475a1ad565c56a",
            "85d8619174e342aca7f01f95ae79dbe7",
            "3ee81cf6d9f8401a8ebf287c87a75570",
            "4ca5c10a280f42ca8abebfe4a475963c",
            "c176154653ae4c8ebf19e542eac9550f",
            "91a0d0c231c04b0f98a21daa82d50cbe",
            "262d87060f69416999ec92c93fe2a680",
            "a07e1ca6e132419c91f2f9578e4c0ae3",
            "31e90d9ff692465dad23f71db3c876e7",
            "15ac7341b2594629a142f51b2624adcf",
            "bb4a5290584c442d999b4e7b3becd308",
            "b029f0296f7f46038453de5f3362da71",
            "d22d703c21af4d86a8e9d01b773097cd",
            "8462a701dfd048b99ab8b4b69f3da047",
            "86ff0089463240c4917fc735765e1450",
            "b4ca9ccd46984bbeb0eb2eb9ad0883a5",
            "31bbbf5c9263451fa17ced0422e96050",
            "8f12c20f00e246e18569d2cef9df7a1d",
            "d2e71f3a4547479caba164f7be1af8c4",
            "c76678545cc5403c8eb5e652c6b589a7",
            "12614e9132ed400286de5a5587db0834",
            "af29532b75f6406db143c1cec6bffdb8",
            "6ae68c42081f46b2b7f4a896a184cd71",
            "4ed622080b6a4821b6a50b6d937ac0ff",
            "7baa5d6a92b948689c210b9a9fe5926e",
            "bd0ff0fbdc76405da37658235f1d8ffd",
            "d7f82f0ac2a4469aa5256f1ea6f86b9a",
            "d346222b77ef47338a5e418ef7c130af",
            "c17e49fd6ba94ea49dbf2b01cae3804a",
            "280a79925da24464b9e798a21f6b9f38",
            "e934e739f1dd4eabb1adf6f970822cb3",
            "eba93be34e994b0f8edf98b574cc4e08",
            "f0380a7de0724e68896408d8cf1a2b24",
            "810a410b9de94e5a91b05b3519ac4ebd",
            "932697f6a52a4fe889174c7feabe3850",
            "702281798b674560a2ec93cbcfe923ac",
            "4a196f3c4dc943ccbfb029b17ddbba2a",
            "b9ba6fabe92e4ee98cf1502faac30d5d",
            "d7d8220d2aff42909cd2bd43e9fac0b8",
            "9b2b95bf5d4444de8d260c7c927bfb3a",
            "1cb020b191bd4917b1488cad0acd5419",
            "6b9e1940783142cabb4dc7028d965360",
            "8b025300f07b45aeb396aeedb4bbde46",
            "e2f3e71acf5d42108f43bd0518bdfa09",
            "7c331b1d90de40e59d41571d73485ad2",
            "de4497436fa04cb096b2173ffa1497ea",
            "fd4f3ae5e5494539bcff863656920c06",
            "29d85edcd32b46ccb55e3f7e0c481348",
            "440286636b49448a89e9418ee88a6bcc",
            "752f41486a5b457aab1e2fd2797e56cb",
            "3d4debb3daa74ea6a65084ea49ec07ff",
            "b3177565c32f4100bc778ad32266422c",
            "aa47db3b79374305a6d01ec1bc2117a0",
            "a16b066d824441dcbf6946953f553f29",
            "953b2b46a60646f4a4b6f6c84369f862",
            "bd8ce5f4b6ea45e78ad13dac6d3b5e07",
            "ab2bd5e0aaff479ca51558c65a233cf7",
            "be774bffc1144e0ca1476e2a9ea4efe5",
            "bc06a7aa0702447f9c371f0cce61dea4",
            "13d18ac250de4dbdb5e6fcd7b91035c2",
            "78a9956b80104f789141c64f2ea0230d",
            "5aed072fb2704f89991436b6eb06279a",
            "74a5ff03452c4aeabda16cb727ab3125",
            "71143545f86b46fcb93012c692951db6",
            "663ca6dad9d24eca9460e756f61d64e6",
            "e4e566ab89a74e9b975e78d1b27f3d86",
            "b85ac32a69ad45b5a514356daca0795b",
            "a49bba992e444714828b9f7327820ae5",
            "83b6bac3e1244bd19991baffb18cd994",
            "f8af92bdfec94ca38ee8baeed5bb2dd8",
            "71890b0f59a343aba4a499664bd5a06a",
            "bf51a8389b61440593c6865822a3c24c",
            "99c6567538c14591986715221e1aa5a9",
            "d81f50bf8f1c40baa19b94785f899caf",
            "961872d63f90451b87c8f48fee2bf679",
            "b7e531eb1e164babb3a435a7ae64bc53",
            "7f5b3d29ada24a0ebd9dd7adc0f96846",
            "f4718026dc004f389c75ab0d48f75cdb",
            "05e43d92bb6c49b78e9494a7a4f3c6e1",
            "d39b7df596704f3e8aa29774ddec65f9",
            "2f53fb0e1aa7484d98e37e1c41ea5959",
            "221f93ca2e5846dda89397f750f7e3a7",
            "bd2ce58a72d34fac92f0f2cb11adc9d3",
            "747a3efa10d8481f98123a8bc9b5f8c6",
            "0dde6e8b665245e1a96497edc86b09a2",
            "aa7cec11fffa4a489f25fce3216d863c",
            "6dbf673ca2e2416ca3020740828745c0",
            "e369cac662314c7fb99e0502f244b256",
            "0335de8b625845dbbb3cf3fe3da9f030",
            "a052ac4efd6840c2a98f142428fee999",
            "1a12350d1ed045e3a14b84c3278ff2a1",
            "6244a18eadeb4135afc4ff05f1c99935",
            "d6ed5d7d945a428c94ece62022ed0e36",
            "afaa4d4db1e142258c3c0329626a6c71",
            "f0b4d06d4be74a2e8cfebdba08472218",
            "a0c66688655c4422810dec372b96e190",
            "edd5e0bb50de4d6597f69d399a82b94d",
            "cb5d4ba6b5ad4b7cafcbcc99798af144",
            "357bb91714cb4b7084b6004e92bcd035",
            "fe917b30847748a8bf999c9c6d466c27",
            "2357197876954b9c8788aa861d957685",
            "5678a5bf113b42499b403f5944dd5cdb",
            "7b68c58009054513b9ddb15731b0b38f",
            "32226c2d13624e098fd946683bd4672a",
            "55e811c1b72145fc91b8d246b6f9762c",
            "b0fb5559d76848d2aa1b1ff3d2b29bf9",
            "7a58caa25a0d4683802a19fcbb407cca",
            "f1314ce00e574c7ab050c2760a1108c6",
            "426ecc40df1f4f3e94db52e6a9647fc2",
            "6c4c6d69592c4cf8b7caee8462b0ea6e",
            "d96638aa95154c1384d41121c45410b3",
            "48ae129b616547e680e31c77a4e77245",
            "87c8ea0b98174fbfa7c9544fd3d78580",
            "2ab20cbabfc346ccb9e51a1a545252cb",
            "0ffad11ace9242a49e3530e65330f98e",
            "7c983c8634874421b4f42b099c4128b2",
            "cfa54e53958d430cb53fbd622a82916c",
            "94bf8e976c9d4baa956936b4017eb4ee",
            "ee6b90cfd35948b68cf29848c68c4256",
            "de4b96bd53ac4c059063caaa9e35dc73",
            "c4197b965ed64f6e943bda60af42a4e6",
            "0102ea5b87ba493f85518735faac474a",
            "5d6c73dcaa6c46ffa9da68c38bddc231",
            "3e662f936d3d41a3ab45b42cb6e4cfa4",
            "c142bf6c20c146818907d4532b5b9777",
            "e3936dd3fadb4ae2bfde928c8681c164",
            "f43158dfac2042e69c89d5ebf38f84af",
            "b6a59e9d12c84de5bc158d8177b57c36",
            "6c4c2c286cf44c1a8fedea826c3e226d",
            "b881e9f947c44eecbd25d0e5fbe0fcdb",
            "25cade1378e943fc9abe9b5417d7633b",
            "08331506a3e7492284be03a5bb0f7609",
            "9680d1d1f28243f999e4517bce06eb27",
            "9e999aedcbb04c689347f4ef10e8f02c",
            "bd965c405f054f599622b230fa905f41",
            "3f20b72745ca4a00ab8900effbdf064b",
            "b40ca2d8657a478abf3a0ea5154d3c2f",
            "458f95862930443086a1e2eb9d3557ab",
            "76257678c01347daa42fc17127e24534",
            "15ae8cb3bfa745669b33e6837619ade5",
            "db030ddb2f334b5c98a4febbd6929abd",
            "79c0c8bd8c8046b7bef6313ae109c71d",
            "de328225bdcd4bc2b5b3bc1389ec5c78",
            "ed257cd0b8c9464f85ab71aa7acbb13b",
            "6d4af844d0bd4810a2077c89c7d90329",
            "8ae02e4ac11b4dbcaa0ebab14efd72f1",
            "d191ab4e6cdc49b7b62f8fb5a1445015",
            "177d30417d1243679c45228c8d563536",
            "078dc9926dee4df79bea774e25130497",
            "6089a36cf0614698b664e2ee533e6d48",
            "7a7ec54c1a914f70abe8bb10457f8ed2",
            "deb483fb135f465dbeb31d774c48a680",
            "610a0ba0be924ac5963643bd1737a2f0",
            "009a245faac2477ebb8b587d7ed42606",
            "e48f7dc9074f4108adcaaa2ec2d408a2",
            "f562585f3b19422a9c9451474a2de994",
            "ab9ea21d8b65475bb75196173a62e827",
            "0c3e866021014c90994854eea6a36290",
            "3133d446e3354a35a4fc64e26de1d138",
            "554a2e3bf1394994aa157819a42d2448",
            "b54a99963ad542689fe860369a0d2187",
            "1ef04a2fe6ab4c62a8654cd47846dc31",
            "ef22403eb89443c3bb487b6492c6884d",
            "3e695a1580824bb1abffab59e40cad9d",
            "e10efd0fa9a747f496d549a7b00d7826",
            "877e73db53a54a4c88661b18260bd81f",
            "8442d14adc1e4295acf420f3fba6466f",
            "22c04426f9d749038361beb2fd7a161d",
            "c63305c329ab4e0e9d4bc8d6b2ab97fe",
            "79ab3298d6e640559addbc2eefb5348a",
            "0118ad2dfa554a6faec84236ea27d977",
            "de6309650c25452fb1eb846e7c091987",
            "ced16773daf24bd0b426d81011e79d8b",
            "2e7ce981b0444db7817d7fd99fb5ff94",
            "b09962b9789749d5beb2e96381ac14e6",
            "40b2c77c413842c4907c57c8ff449e30",
            "59c1c9c0c00b41678e9b391e07088577",
            "46b0fe27f36e481a9686c422315342e8",
            "760884a5e3ca4308b8a545ce6db56fdc",
            "583f19fd08ba4e67924d75e255428d39",
            "d9b28000c7654bd298fa63a63fa35d37",
            "f53cd00083c24229877b4578c13a184f",
            "94cf9ec45fa84fd183b144bbf6bdf45e",
            "74bd1a2ea4dd43ee9031a115125304c6",
            "d167cf527b804baf8a6b321e7b5eec44",
            "eb82a5f3652a43c4ad419b68902fb31d",
            "b224543fdaea48d4b5b9a1befd08bd62",
            "a55810a5fe174821875878991b389f7b",
            "c5b897f1de9e42789fcc1b77e6abb3a8",
            "1b3a10658e4e4626add68c492d865e62",
            "b8f297c9cb004752979e6006e38f41d6",
            "18aad3e7beeb4e3187ddef2cc3e3fc9f",
            "232ee5065a2f4a9e9bacf4a97c457f3c",
            "3e4c13ea03884a54b6d62bf5317a4c5f",
            "f09a313cf876400fb37d249189140e7d",
            "5f4db019582f469dbc6d8d9ee97abded",
            "ae38238bfdba4645b7ce3b7cc94e7729",
            "cb4149a1a5e149f985682138761e3639",
            "1b011ef32cbf4166b325e78d9709c92f",
            "e0e8d245ce8c42a69ca1f63249fe91e2",
            "597988ebed8a4142a71b3d37281fdf80",
            "912d5585432142e19b946cd198b0b7e4",
            "1ae13548da7d42bfa0ff53d92bd9c640",
            "949e58bb2bd34be299f5f2ff87f11460",
            "611dfacf8230453a839d68a32a9f83a4",
            "d5c94fc02119467d93074b5d40d8bdb6",
            "d5b70391ad1341c5b34e2a5b816e452a",
            "8f18ce7619e8417097d6167f7a03cb73",
            "9ee8c35c5bb6458b8a97806deb5fc04b",
            "11bcd25057eb45ef8548e2e413d33b38",
            "1fc403b673614f32a5ef71f55e757ecf",
            "f25df6bd3e3545bdac1503cb35deee0f",
            "89ffb2b3f15548ee91b58aa66b4e3933",
            "8c0045c10c5047d6911fa6a5165ccb98",
            "58c4a451dc744019a17817377fc079c1",
            "75742886c5034e819906964df2039bdd",
            "4a35097d58fa4c95bef9cf192220f3af",
            "5cfd45b545a84fc19df427374e71a193",
            "a094da4353aa40d7a88f220f630bae54",
            "5fa8b2f157d34e4c90241f0cf5d838ee",
            "eb4039ff36f1452683a1d65c8fa1a241",
            "192687caff504e9d96b794d18ec89c94",
            "78e17f4bdf2f4eb8966767f22365a5e7",
            "c7c7d84c06094b45aea6fadfb3ca41e7",
            "44a0914c18004ff2961de6811509a272",
            "3f56d2ee1ae84bca91bc559d6ae37143",
            "15584386eb744be392caef521d0919e6",
            "28f6d5db9d004675b88d57e1b16e9250",
            "22ff1160f7e047c0a3fbbf06d0faccc9",
            "a12706535f9c4f5a8377aacc5fbf2f9d",
            "1fa391264b13416b910c8fa9442fcaea",
            "04a197cb9b4c46b2a5fbe17bef580755",
            "eebbf2b8d0ad4e8187e558bc3d0cb64f",
            "95c67f6a048848a99ce9e3b2c0901903",
            "14d1e156a8af431c9b91ca55107ae7ce",
            "374d0e9fa7f044ef925bd1c83e718e4a",
            "e3503ffb1c9443fbb16f0563e6a5a2ac",
            "3739361ac8d240a08f4a3f8cad51dd40",
            "2fd08f01fb7b4605b89eb7fcff555831",
            "e9d88823d56b410e99434ee8fd99d638",
            "ee0cad55753e4d7b99038a9ea93f4b71",
            "0daf913baabd4ad78777971a94642681",
            "a27d116cc78a45cf89ebc10313e045e3",
            "16fe6e9fc55845e78ee46d1f660dc527",
            "0ff74c0339784351af04bdc5996c083f",
            "c9e31a9b27f845d1b121aa3c8e0b7ce5",
            "4b92fd71dde346e79f0a4488223992ab",
            "57bd9faaca4a47cd86b712001e5420d3",
            "54cb5516bda84ac392da5e10754f658e",
            "61b102e4855948a3a0a17e1c0bf235a7",
            "402f4b647e16400ca021d41a23415988",
            "8ced8f9b056f43de86cabf7d084ed931",
            "4652088ebb1d4e7abca5f54a2d6e411f",
            "79c6a04282ae458ead4d269b8e9a9112",
            "ed2984f65ecf458489cd71e627daaa81",
            "40e503aedfbb4b4087408092de90cca2",
            "928f1b7ce12b4881aed0edbc8b233342",
            "bd4f8014e71b47d1bf6257444cf4f031",
            "be6074699e14452dab437279336c1e7c",
            "5da6af50008048e2a875d0d78e66c735",
            "5415e67fc70945dd9c2539e4983af059",
            "77b5a5b7a8224756a1afc385ece2d33c",
            "2f060c843f0e4d93a0433f8064fdcaaa",
            "0a1b05bdcc824dd08a12847ccf6766b0",
            "870bc61f0de74c1ebe9e87cedab9db27",
            "91e9cd05c5f64ac8a6c2d76c067a15b3",
            "afa5e3466d864d71a5d8a9e13a1b90e5",
            "b1ad92dccdf547c9a6f2d518832947e5",
            "210a70613db7424dba6446d7e6b24e65",
            "00e8870edfae49a88f07c86093b6eeb2",
            "1ee35d4837f74e5e999f2a23d19d149e",
            "596bd42330e645619bd385e15d9008c8",
            "bc6d4d268ae24a21aa34a0b5dd68e42f",
            "76632bb77096405d8016b0ce4a7b746c",
            "7aba87860b764da2909ee12b4f05d7b7",
            "dea91b57f1134ab7bb922190bc2770de",
            "723c64655d484c8f9ac0988e596efbfb",
            "7a41d0021f72488a81fe4374d8e92763",
            "48f469a1129747beaa3b3b5a17b8112e",
            "cdbf23824e764fe08f301d1da15129bc",
            "8133f07211a24e6e9ac7283191395086",
            "e84886b04c8247fbb3659c2fe7a92e9c",
            "4254983856c54ec487ae10e50d516af2",
            "e0ba655e79d14aa1bafb8500feda71c3",
            "1e88c4deb99e4edbaab0d7a70ff4ab31",
            "4c8f3f94b57d4e99aedf002ee0c62b34",
            "6dc7494030854064a7000158281f2f1a",
            "002eff5ef43d424eadc06960b69b43a4",
            "16eef15c8596456b965275fd9b78b790",
            "c78013a365ee41e2a4ce6f0d80298529",
            "32d60c2ba04e4b43887a6b3dd91ef630",
            "3a5dc6e50882472385cf9be0e3bc6505",
            "cf56e96524f34e6a8f222557ec42ae2b",
            "88205f8bece0471294571a8a0778013e",
            "6ee85e862cef434fa18aae9ba36e2984",
            "6e10ea8d1d3f4eb3bac2357fa16ac0bd",
            "19da90906a604ff3b43160aa66648a3b",
            "3a55fd9c5c014312bad8226f7ac04d1a",
            "ea4c81c8d50d4858866b51b13da63110",
            "1dc4f35612184eed93171cf2cccb4b9b",
            "42f88cb01acb48c9b4af6911badf37eb",
            "a3c197211f284284b47849061511ec4a",
            "5ff179372d254398818770d6724d3ca9",
            "a42f6686e5cd4d69abe57bc218209d46",
            "0e1742fde96247259f6260847a747953",
            "1628c5531a7c44d4aa67e1662a5438c9",
            "2185c0982d2c492794ea7cb546fffa0b",
            "70510be842f9450782064daeb07dab2f",
            "1a6efc6926694fe5a80e2d153de9a74b",
            "20209d0b1bfb4f6fb34763eedb1c04c3",
            "40fe2ab3f36a4bc0bda541ce0c0c0220",
            "40a4333e2fcd4ad5b9880c5bf877d550",
            "5c5bea23da66460c92c0cda1f1e09a82",
            "a5b4f30f0beb4a16857e917bb2aa864a",
            "6ef84c3fd51849e1910109ba4f4f0111",
            "df9e32c528d0466ebcea20193fd6e8f0",
            "9e5c830312c64d17964605d4f4fed4da",
            "ff0843e3a06b4f15bf5856992ddddc2a",
            "09e42fbe3fa44540b893b2b7cb8e6934",
            "e0ef9aa92c374fca87d9ab3eefdb8cae",
            "30ad5abbe41f411db3cef17d3a8b7efc",
            "4f669cda4d4749f39b81c57820fff5d5",
            "875887927e3f47959096d70a24626e84",
            "4634a034cef64bb59dcca0877d7d09a4",
            "c5a2e359580044548627b2cfe2c87c74",
            "c1248b57762c4231935f0fa3afce81a6",
            "620d07450c3841159f49f2f1c20ab244",
            "feb7daf91e8745e6a98d09e8499d2624",
            "2f1441ee4906419c96cf5091cce7cb75",
            "77bf1fae922f4b22805a9baec39e6d1d",
            "31dbb1fb08b64bb98807d9e750ccdd6b",
            "459cfb77be0740648b9bd0bb8044ff9a",
            "7628b674d228444086fee9af520f96aa",
            "97a4fa3a03f14dd68b375ffcf75e674d",
            "8dbebbc7aec8425fa16f50221e45ef88",
            "09386f27b9ec41d58c8468d57640ee64",
            "db2dd30903674e4d8c40ff4d69bf874b",
            "399e8f331a684ec2a2444738fbf96713",
            "71b0c55a9b2b4f70a2777ced779c8bf9",
            "9cf67aa5e9dc4a8aba6812cce80218cc",
            "8e72bfa037df4a3293f8ab28fc5d15f3",
            "cd0164a3997343039c49bff644661d99",
            "8c25432dc3054abb9de25d0107e0dc33",
            "f0d8d31175ba45928e7060922f0fc47f",
            "56d2bc5ced30408cb6dd371dc6f1135c",
            "7e8529016f12408bb6e1336f75f24842",
            "38f7dbe888924adc8501425623f4a2d4",
            "54e003fc6ba146b0a1d8b3bf9b5971a3",
            "4a91c3e3c47641f0b80b34e6db07252f",
            "aaa065bc83054357980743cc7ef73ca8",
            "b8c435a3454b4a02be33498bf0f5c07d",
            "9e4eebe48bf14e5384a40cc90d17c5d8",
            "9ae67028ddbb44cebbebcb53b01a3f05",
            "adecb84e75cc4c32ac949d0ca770f75e",
            "e4f8df64142b4a2295022fcee500a62a",
            "e1e5b488e6474057af6ea2cb3ccf1bb9",
            "ad8b6e1bc587494983748ea7f1644b19",
            "f1fe6979c86c4a3ba877fadf22b8032d",
            "3dd798acac0241d5a3dc36b40c80be1e",
            "8722df321d334be2bafa45ff94f59233",
            "a5c86702c0b448b8ae193e588b0973cb",
            "2834b43cad144339964a1b326a794ccd",
            "43474afe892a4914bb0d2c7de974e4a6",
            "6db5e966877c4e77b06e89f33930fbec",
            "c60cb3d615a941c9ba3166162f8f0dc3",
            "8a9d4b078b21481a9079e20268f730e5",
            "e0d22b2760704f2f9a37d5f1d955ff69",
            "0d6cc7480fa1434898152536793687bc",
            "d2d681f1293c495cba8f6adbc0704ffa",
            "47403e56d37148ea91e31af5e786e773",
            "d5895bf899f44e8ebab6fbbf4a653418",
            "6123dca8715c4873a9d29c31b565fa95",
            "f7fcf771245d4583acc3064f7713c33f",
            "42c3e6dbeccf4ae395468a1399534b61",
            "34c722e3149b4fdcb927ec825aef4255",
            "b33d0650ad2b4be0b9b6f36e9addfb3b",
            "5edd45a7e0b34739bf10a5468854d5d1",
            "f410dfcc380a4769b3b54b80415892c5",
            "85a884f721ec4d1bbfbe2a17bb738fcd",
            "64f256bc13934213bc0bb53227ac7c7a",
            "efdc2b046bb04882b4e599add5920318",
            "7c2107d6d9914ae186c2062249b6d0d3",
            "7e685f7358e8472bb6a78fef059e3f4f",
            "b8b470cd69c24538a498ee3889565532",
            "6206a3775ab44fb49da128b83a4b1a13",
            "e66b9ba3296846dc888ab145e12288a8",
            "06437d5cb6264f7e84991c521b5cfa60",
            "a66056dfaa2246f882e95fb1a9caf85e",
            "47722a66199341abb5d42c455f46491d",
            "e7a750fea8e34b75871f79f0dbed64eb",
            "1c2b746589fa4f77af662fe4174c98dc",
            "9e4f24443c6d4e7084a327774dd9f6bc",
            "1623a8cbaa944ec2b0435de13fbb2bc2",
            "cbb95eb04338425eb07200bfdf868e18",
            "082ef296d2cc40848235f1931646dff2",
            "8940dd9cd4ea4e9abb7a03284574bcf1",
            "ca887ef8286d441cbf1f0a9accef7b8c",
            "81445a54d48d43c99b9a63f003ddb6e0",
            "fdcb783ef4424bafae485daa704f7f73",
            "784f112c81264886938ba78f16c15804",
            "86027cd24d6f41cfb5e6d8b76e713ad5",
            "bf19437e37504019be23d634bc1fa42c",
            "86ea4a1811ad45dd9bd961e9b11eb0a3",
            "ad12286febee4213bce3190ab2cf0933",
            "5c65034c18c7494c97f612f8ef4a5459",
            "98fcba38cf4340158751650370340688",
            "cd2047218c534bc99ca2f86cfdc23466",
            "7ee13a6c9c054ded837d656fd3246d4f",
            "49a091ddf9584aa3a86e70d93f33e836",
            "4135fd0d37224a928ab9c1114e8b0f56",
            "d300afbdd6e447a380381d2d31959f77",
            "dc0087de39d84b17a183a4ff15a7e0c7",
            "afd1505023d74ae4b92f2c144f3fd847",
            "5d1a92b6350346b6b2dc92112347c430",
            "888a20ac77304520b67325c1b69a7430",
            "fbcd7e01f1744c45827b79e76e832a73",
            "8239083a492b4f468188d258943c8dac",
            "51c259112e0e43659ed26837f67785b4",
            "8a26a549d7404123ac3c78562e157c90",
            "f3677f07986444dca74c5cfd17c4ba67",
            "d927c202f2b142cca1cdd76b9fe83c11",
            "6c854e3c3ad14a79b599c2f3dab17c85",
            "3082f1055b6a4427b30f1c1085656fbc",
            "fa2643da5af94b73a8dee821e0fc9d46",
            "ee39961e16d94955bff862f5840d4c80",
            "5bd7455b2ce54e17a3c996b4a8d622d1",
            "e05992c042b34ceea2489b56f3703654",
            "4c2be88da82b4f9fa9e1e675659e3b3c",
            "bb3746a7c2cf4270adf68fc88c3dbb67",
            "eacd8bc983454823b5013b82a2b338f3",
            "ad027b118e41411e85146436b2317099",
            "7a805570f5304cf7a2781acfda925d41",
            "9afec16d1162434fbc6b023fa4a30550",
            "eca60f6bbe204880b703d902cb001c8b",
            "fc6242266b2a4fb6b5da8536b1219da6",
            "8a0424f89d3d47adabb348d3932a6de0",
            "b177f8fc9dc24f998bb88c653f98810b",
            "2ce3dac0059141abbc6b05add4985500",
            "de37e6eb566f47ebb9be610bef7a04a3",
            "f8eefdd4b1e84a2e9724f7792249c7f6",
            "fd9b045015eb4fd4851ae4735cd0fb5d",
            "5c0a83f101104f27bb361f699bd27c79",
            "850e544fc2684114ad5ca6cd2f5d703b",
            "8599113699bb4e25a47c03e29dcff5d1",
            "a20df43e4bc84e7eb0e778504a6abff5",
            "65e45771ae7f4dc19b5a5391d5f89755",
            "debca5c4a61d4fc084b3ca1ceb57dd11",
            "575f4a17197a461eb2276cb44a58d30a",
            "e102a50506a141da873cffe61bced96f",
            "189c97fb6b3e4e2fb5b8ba8005389b11",
            "5694a03094fd492bb3f53d96b801d4b3",
            "18620aa6d3954a0f8894cddb75a8b7ef",
            "f5980191bcc9471abdc03b39a425f111",
            "b234062c47624fb6befbc867fd69d7a9",
            "484e265e8ecd457a8cd80515337b5faf",
            "b65efd1dc9504620918a823e9f8fda3a",
            "56f0a4c0281b429f975b76cf7e8dec3d",
            "7e5ec92296a044ad9272e69202d20775",
            "fff28309e77045f7a0ff14d1085ceb9b",
            "e562d9d3dd6d4280900db007fa5d5d07",
            "b7b0214821204fd7bbe112ff7372ce8a",
            "e6d7935987a443588e566513e297ab40",
            "58a9bd359cf740e6932019c85ada14f1",
            "d0d0d37ab0ac4edd806bfca9051b19de",
            "10f5c736149b47ed87e94ae7f16148a8",
            "413a8a457d4442f7904353d78d9f0c3b",
            "81fae8641f564a2a83dfc541cf6cbf88",
            "3bc772e8e0df4da983ceaf09ab37d3ea",
            "118734f3fbcd44d7838f94640a439543",
            "d404a4b51af14a43868682d47aeb72e8",
            "6369d5e8ebe3446799a7a14240da04d1",
            "0f4cf87d5de44aedb7fa2f2f13c5b325",
            "805a646b523c4ca485dc1e7b8b0b7b20",
            "72309892b59844f4ac8534c5d8b9cb4c",
            "85931e6dcff94a78b6ec800053296c8a",
            "6ce6d0ade8c04fe69a3b12b840e0974c",
            "c7eaacff3d734f8983a793b58ac41abe",
            "f117c2264b53441cb8a19bf9f5f04bbf",
            "bf6f05e6cb244dada527e5519873bdac",
            "c73bace9d7bc43e9b02c6ad12c594d59",
            "24f6afab45494ef2a1c26b4780cdaf40",
            "aeaeb0cdbfcb45e2a31ffc20bad84e06",
            "4edf9f9833114fa49f2a25cce629eddd",
            "7d9964608ae542ab9ebf0b646279dcd1",
            "fd8901492b644a3a87b50972d0beac74",
            "e5ec352abc704abdaef753d6c0cc0994",
            "3301c9c5e6f040beb39a1ab1eb3d200f",
            "c29411e228df424398546bc2cb264ae1",
            "565cf0018a9e40c0815db8e641e493b6",
            "45b5bd0fa96045dbb43ce62e6176cb03",
            "b3655576873346d7bd61383b54d4565d",
            "753ea32163b446f1a5378f86f9442f99",
            "6e54b14f52f44ce986d579296c54eba4",
            "90e42efc0e0e4040b68295496b75ff65",
            "402588d1aadf40abb84870947d96f662",
            "fdf44eade3dd4951b967ac9005c32e5f",
            "93eabb1dbad7419ab59067f0bb7e5763",
            "ddd0b4e407f040259da2c48fe13bd992",
            "bdf7b372d22e4f4abde7012e8836e415",
            "2a35eff18e924cfe99951a028f5da508",
            "d7584fca575b47fd8b70428da9a116af",
            "acee62ce3157488cae349744ba5e9eae",
            "c84c631be3804f788bd6969b5a13d996",
            "0342457ae9c7434bb03f4528d5f4b94e",
            "6bc9c49e8346442ea94fc116def5c283",
            "2547fff39097445e83307c0406e2e2cb",
            "1d83dc59e58541979805e38b717a5296",
            "07a4458466fe4d09b17eb7b21ed5e4b8",
            "228f493b460040d3818014534f1c3005",
            "4ee4139b8cd04e8c92d33dc4a501415b",
            "53d98419234a44d59f7df66bc03617a0",
            "e7bc3ecce8a44d1f9695071c2742aab1",
            "f84a452b867f43f889c7181af6ea4345",
            "158be752017141e891a244562eb66248",
            "c185246541de4bc084f33c2eadf03dbf",
            "7006640786fe4864ba993466ec8d59fe",
            "e7bd330331d94b4ab6ca633c3233ebf9",
            "96e3af6716c64e4f9f36a5c9ef856d2f",
            "820a6b0482b4414aa7d8f2cd4a71c00a",
            "ea90dc38c25d4111a980b499fb8b8e54",
            "3d1033fa25cc472a8e5504d76b3de60d",
            "097dda30c6ae4be5981eed2eba292f93",
            "2cddf8ade20942e599db3125d86bf820",
            "2f90461c82a540f4b8daf1c912bfe13f",
            "e336df13c4e04d00a9a993e96aa07d96",
            "8bde280eadf449d68df60b734faef1c5",
            "d076eb5c8e4846069905bab3957fe48e",
            "6b191b59f2734e8bb5cd3ef0bd4170a9",
            "4313300f473d4bcb95d20dc6cf718466",
            "dd1d1111a6c140bf828b19b50b9eae0e",
            "d12f8050f7be4b47bb1ba78deeae96a8",
            "e3f2743d991648c1a6145ac3135b8d17",
            "e6dae22dd62b4607b8b8d5befc5ebcf1",
            "f7afb0b53eba436da64e2ade4929a5d2",
            "0d3463ff288b49a18022a55b91f95e8b",
            "b5de8083e80146bf8ba4bbfc33abf26a",
            "677a1f1ac70a426396b90c3fc8e07c77",
            "ed0c9c631dc04ebdb943fb9e18fa637f",
            "6b764bb08a084721a204814b866bd3aa",
            "29c51b396a084bdb8e58ac6791432ac9",
            "ea71a4b8bbe84ff39094b8518ddd7ed9",
            "2fd852157a0e4e3cb213aa183b68ebf6",
            "9dba7aabc1784b99b2b3bf969e1a71d9",
            "a9f75a79e9444ba19932e7930a0e6618",
            "2b8fdaa3b2a04f5cbc0e21667f82a191",
            "c75afdeb1fe14f92a15a42a3a1dd29a2",
            "d5e1aeab845c48dca1829561a8415737",
            "f1fb33ae6c054fb6a9edc95ba03b7bf1",
            "075fd9f14f454d09bd0df81058ca3123",
            "4f309594f0404d0cb767a72d0fc9a143",
            "9a3318364d8d4527a338e6e22da74910",
            "7945efd61646460ebd5bd0a5af886308",
            "5d0a3b3957634b959490abf0febee117",
            "adb50b9d43164bbc9bfcb8417c512a5a",
            "22e46ea62a044df1a4896b8e76fecc95",
            "fefb48ef05014de2be899ae281356355",
            "3ba9652bcab74f0f94f76748107b90b9",
            "43e73d2212804e2c9619e2d54c74ba20",
            "d5bdd25ab39344488bab463cae2c5ea6",
            "fb8292abe3ae4d4ea587d12e4fd2203b",
            "14046413a3fc4b9a922243739ed8d72e",
            "83182ff93a1d4c1890a3eff3bf08aa3b",
            "231f08ff639c458cbf1facd7b5014c1e",
            "e8c048d6cfba45e9846df59640ba7ac1",
            "5f7ffd4ea1ce4c3493830e6e2ff43a51",
            "920cf123bb874cbb80c710f78ae09fe8",
            "3b8300222cc64e44a01a10b8e300f447",
            "d8eeec1322614882a7b6111dedaa89e3",
            "65d5fe8f427f4661bde1f5bdbc10ee72",
            "1482315a825f4307b6506de61afd812f",
            "82905e3c496a48e79d277471fceaa77f",
            "d3ff316cd6e9434e8e8930de5f997a02",
            "0762a70111774e9f8a0916c972aad16e",
            "09f3744dd16d4735adad53b4f533cf93",
            "7d4c8d03e0ea4a62b12c279e42aa5840",
            "08729623e5754eba95e18571a1fd9471",
            "a762f3e8e9824a5d8b08ffd29583b4f4",
            "dc7a140dcc0b4a10977345e58d1179fa",
            "1c230fdd32a34820a084629d2026d9b4",
            "2bebc6aa129f41c484a26f22da126360",
            "27b39536389044bc8a4f26ccd64806ed",
            "8cbd83f297734dec80ada6a18f5244c4",
            "9c91a29084c9482884e9ce299aa98fff",
            "99a6334dd89542b4bd5409b8c98c875a",
            "2c4970e65e014e9294d97300c3e91f9b",
            "ba17804196ed4a408d7246c6706c2e3d",
            "5ae60b795f564d7d91a0a4e9e3b592f0",
            "17592fb2ce7540c0b0e623b1cc1c0e24",
            "8908ec5abcb14f93b0da1528283cd1f9",
            "fe451b7f40df4316b4ff0b6d03477f8f",
            "87e7438aa3e2469a9a4539e0c612e57e",
            "ad20c54bcad54a928b1ce94759e42c14",
            "13ed17b07e004054af95027bac34b6ff",
            "fc9401f1d6ce4d2b90bc10ecba660738",
            "9f5d5183969a4f9f8ba7e81ed6bdb1c6",
            "51b024f0abd44e7aa2b6c8af45526eb1",
            "2adfebcac3d6408fbe36399179507849",
            "44318cf5d11a41b5b7a69d9ed24857fc",
            "2320fd5bdb3e46258198b19f288e4df2",
            "ad843f35ac0a40e8a1e9e52998cab1a5",
            "be42a7dfc9bc40c0b73ac1d7431bc132",
            "9addd329681c4fffad2aeb34e04c83a6",
            "584608f299a348c5b6bc7f60aef06033",
            "d072563e1aa64ebaa229371c1274584d",
            "62ebe52ce0934afb85e1af3e0cfe8ba1",
            "ed714a9e200444f2a3d8b7e59440b56a",
            "288047d41e954042841832a1eafe7c16",
            "9d7ea331e64d4fdaa29a82b133a975e7",
            "74c1a8471fcd4e60aab42028a50b2281",
            "04e79d8c5af2483da5e03a7712f39860",
            "e8496da79d5c4f7db0228fb1d3664312",
            "5099894ef4dc446eb0c2559ec8e2249f",
            "65539824326946679d2eaffbb4317ef6",
            "3fbbb334c51b41cb93f2cb90d460a57a",
            "2b6384e9996a4072ba8d010d636e92f3",
            "633f042af66d4022b9cdc1890684fc71",
            "175e2f5140684e3a8824ee6b4651c627",
            "07bbf430e2174178ab124ae807cef240",
            "c8f48bd02e594a8cb5af1767ad746cf2",
            "716a1850c2424f018e76b9abecc06a74",
            "4aa5d29a26a249918b2afd6f4618cde1",
            "d811917c36e3404cabe58fbd2f355e68",
            "937b2386583840b99b05a498bb6234b4",
            "5377328dbb3e44adafa8642a393f284b",
            "42ae8bd4fb174b1ba2536cb1fcea0145",
            "efed28b89e174eb386ade9e130a80160",
            "6e54fd1fac194e9384a3adb86020088a",
            "82e4bb1b0ec546d09da61fa71415b1c6",
            "77421f5c91404d4b926aa2f698abdc06",
            "c8fcd3ed93b444adabb5e458224eb39e",
            "2adac6595ed147b693bf5b3a4bd624c8",
            "8d9bf6cc649c441297834e07727de64e",
            "8ef90255f3a64b639934b12d68d4697e",
            "79d3007cea044401a616dfdfd771c3b5",
            "edbb48f203684bd7a359354de4a350b5",
            "962ef83afe404b95858cdbc491d8fa3a",
            "32edf4a52d224a9f8fa63c79922abca3",
            "5b46860723284975b5b681ffe7ed5921",
            "a6d9df8e9512419b94636df1b3b3e50d",
            "c8ade04d6d504295896bd6057cfd1497",
            "4806ca5f281e4faebc51d62c0780600d",
            "ee76bcee58c14ee5bf23cc0dc7252fd1",
            "ee0d1af09cad4d78892c71df9ad18090",
            "18ba4580dbcd4901be52470e6a02d4a7",
            "0416eb52d0ea44cb8a5ad3bbc520b827",
            "6ca3cf77887e49d4b3edfac1e5c52a1e",
            "b4bb3453aef944f6a7f174945515f261",
            "d3b1fd2aaa3f4d5eb0d3d80cf264dfa8",
            "90062effe83040dea5ea6a35fcc171d6",
            "6f29454b408044fdacea39e29eead9f6",
            "065e20da3ee443dd934b48b31c703587",
            "56b9edd5ff754002a44488d82efed703",
            "fa5d22e2670d4e2f8919efaf52fef316",
            "5c454ff98bb34d3b82186dd949d60b4c",
            "c5e71f7e31be457da18279aeba17ebfe",
            "ac66bfad3c1148e4811a829eb7b198fb",
            "9bb231babe1046b2bdc90d33772c52d9",
            "9b4347ede7f54a2dac4fc52a84e59730",
            "064d42a1297a466bb9b7b50596ad4fad",
            "1df47e239e0f4f9eb706851187159312",
            "bfb1eefa73c94f2880d126b002a651d3",
            "ddfe7048dc1e4ab2af260f99b9dc68de",
            "1ca0015441574850a403df880d2d6a16",
            "c07b01810cbb4fffa2712f48647dc4e9",
            "ca8c485406c14c5ea51bfe10aa98f922",
            "0bdced161d2647fdb00e0c0cb9e012a8",
            "6379e5b445f540c7bc1ea6bd2254c546",
            "6331f528ebc945878a4f09fb4fc255a9",
            "6959fbf5c48d4663a87df2d57e50ad8b",
            "9057b236099c487490310cb771326a2b",
            "6305638ea72d4b3294bd6bd3d4f7f7a1",
            "bb59e58f05624e7a861dd009d691195e",
            "b077b38a7f744b97b882e8d6d08d64d5",
            "d2d4547599cb400f8fa7ab38b03941e6",
            "d270de0c1b4c4d8680b890050b1621e2",
            "aca0e3fa154644a5b7e1279939128a6c",
            "b43c5309f1734e43b55cf185a5613fc2",
            "bb6a24c421c2412cadb283b1ebdf4f07",
            "22db57b146c44ed6929981decbe2413f",
            "17c122ed2ff84ea0af12dd2289f483cc",
            "4ceecb7017084d9b8c585fb0094fb855",
            "9de75a092e6a49d9b8d5b0b99c6fcc2d",
            "eee09528a66c47bba373031a1624ed0d",
            "7c08ca021f0b4e038aaf1a4b7ac573c0",
            "45351c6a1727482485a17470ca5ee3d8",
            "f38517d82e66440cbf7ba464d8cb9306",
            "c2f65480e4bd489386cf36ac5f49b3e0",
            "d5f0826dfc30461395cc2ec7e7f1c20f",
            "fbb494cb10b7482fac6b8e60a8fe6db4",
            "c703c859ca794a1c9476bbc7f249598c",
            "d7a636728d384626b769414717e501b4",
            "5ba826c334344bd3992522aeb537170e",
            "dca541238ec8428281646b16fb847397",
            "d77f03d94b07470e85e568818605a340",
            "f69839eba2c2446fbf87ac8b3561e48a",
            "796633227f7c4e36ad01d5668ea1b9d6",
            "4a062fd37a94452e80747373138d436e",
            "999d4d4b4af44f91ad48aa42b78ab9ce",
            "44d6cc9e81284b0b861b5ece7e9385b3",
            "6fb6573b09fa45ee88c8ad79a21fb6a5",
            "b86d58eaa7df46b6a621ba10c37cb095",
            "1505034c03b744b19b83ba067594d005",
            "6affc48d2e4d45439e50caca32a20445",
            "5e72d35b5b2a49d58205e42b98044c5d",
            "10fd8074055945df8bb1d37bdd7e818d",
            "ebcaf627112744fe90f06d5d35cd66e7",
            "3be0263dc740486b841a910500273ad0",
            "6d09c2c4749143ea8791d9a5f67ef13b",
            "585aa61a810c4f17a65cb077681dd579",
            "43d26881492d4aeabee6ab4400435719",
            "eee8a44d63124325b063e96e1ba8ce8a",
            "262723338a2249969d56b0210552645d",
            "994e242d46f24093a4999e9cc0214f1b",
            "efef1a9dcadb46318d976b295f561d04",
            "28dffe92b5c44bdca30b670628739d42",
            "66af0f36b985411b882be0e9a412a892",
            "5e534dc6bcff4cb19bf5ea4e55bde1a3",
            "402a17096ffe4cd791ecfcdbb8da009b",
            "d7074fe4a2ec450ca7624f5625eb435b",
            "5be1df2c59fc4e41ac06a7b346cf9097",
            "5a798e46e0d246fa85b716940268d26c",
            "5bdfc6ac15714a488b9b7b61bb8a9a28",
            "95c511ec3178408ebf05f2e577945e39",
            "70141333dbd4440aab2106fdbe6d0e9c",
            "246f02624e864347a50616f3c6f805aa",
            "4151d83d1da742c58bd2f5e35d991184",
            "8a11378bfce24042bdf9eb2b91777eb0",
            "2b4c8462be58405da6afa7d82525a8f9",
            "17a611d545a84968945013b40a7c96b8",
            "5501b839eed7449286d8d975215a51ff",
            "20c34449adbb4bd49bd6593371f29146",
            "05b4184c17a94208ac294d8932b3a849",
            "5d5ca5d29370450580e9d2e8cedbde17",
            "2a28d4748e814774967d93d7fa0d2db2",
            "b5c44f9b72174eeaae1f8c6d2fcccd9e",
            "ff804f09cfd748f5865bdbbf863864cc",
            "aa7cfbc295324399bbc638f50a9a9c34",
            "e09caa57537a45bab499a92d64f7f987",
            "5d791b7ea7fd40999ceea17f8a1d94a0",
            "7b171f0e1d9645e7819cdcf86e5ddc3b",
            "f78e56985c5a4337910e69eef10a24a4",
            "395eaeef3f4849b787afaf4506f96f00",
            "a3f57c9c746645d092184ec9c2f3c530",
            "b460bffea81f471fb85235c37970f61b",
            "b65104f445964b49a60bf06f732372ad",
            "3dcc0b16984c43f9bbad0a6d71a745e8",
            "2d66fed7237c4e269a2a6549269fb78e",
            "b13662fb3e154f829886bb66ff4fde62",
            "813b1cd7afc54c42b35742fc48953513",
            "d5ebac588b034094ae417a13903fe1ec",
            "a579887390914adb86e5f63e93ccde12",
            "ded91cd7a9dc41d28a993a3b9572a927",
            "0874ada9415c4da8a6ed15f8a40ea576",
            "eee1f5145d8b4bbdb9d0d8b629240b42",
            "d2f2602b3fce458da4f59a74f42eb01e",
            "d551962b866e428c96b204693c765784",
            "922c8d47161d416695042d0ec9b4b6e4",
            "bf3bce03e6fd48b5ae7dcf2af9566909",
            "70102ff3ec2b45e185b3b85133ae20cb",
            "0577576f7f5f4ec1b8ed977037110ec9",
            "a08bdcb7378049b9b4d59092540fc0d7",
            "3d81dc65369a4de7a0624d2a6cc27743",
            "101f8d3639e04710beca30f3354c1b32",
            "5e92ec9737584b55a4008cff3e192146",
            "6c6fe1593fb9440280a2de1567c0905b",
            "2af7a582b8b3421ea77f84732a7edf3e",
            "673c746052f641c1bff170ed07dde5b3",
            "d015a588598d41cd80433d228c25be63",
            "d71c46a8a68c483886b1704ed1f8145e",
            "6b5ffc900c044fb8939384d0cad43708",
            "289c0aa15fcb4b5882093a6f8dc83928",
            "d6875d16b79c46748582c27883ad5814",
            "966e8bcada4f4298a629218b5bd6728c",
            "058768067003460387bff0dc55262c90",
            "bacf965bd3d143cfadfc20cddfc388e7",
            "161025a993ad4d16984f195fcd3f02cd",
            "f34fee67afa440ffbc1311f301619cc6",
            "f5b4dbd6f7c94b40827c2826b083596a",
            "3a8ab34d416942169a16a08726edb4cf",
            "caba1edeabc246ba8e9fa4d591a2c5cc",
            "b83c52ba247549b7917865c3c1168cb1",
            "f33302ea34ec4f80af2a796dabde2d35",
            "b94e5accb19b49babbae2a79f73545a6",
            "5ff2c8b2990a415298c2220cb68117f4",
            "8dbd537136c34112b7e6c001ec5c7588",
            "3ecc18c65fbe408a8b451529709c5001",
            "ccdbfa02dd3e43c1a9c216a99704ea2c",
            "925d7f8d55ae4aa78ab5ab48bd60f259",
            "a77bb6a113e04c9e90a98abd8083d550",
            "b92bdb6ec00b4cabbea251534927e8c3",
            "4ebb5263a30a40d58d8469866f823194",
            "a75adcf4198f4172bde636830078f6e9",
            "61c8594d58fd41b7b37f04e869558b78",
            "f907e2b3ef0e4c9693c96717dc4a2b78",
            "3a182f7845b249ef900a1ad102c1b86f",
            "93e01f2cf0b34e10b759b31d9d7854cc",
            "d9f2d2ba96e043f49616d056cd13fbb4",
            "779e2c12d9d94f7e89a718d096f010a3",
            "f4142d81429d4d24940b4ddb64f1cf46",
            "91c1ee0b75c54bd0872681f4e8d30757",
            "59d08d02d4614fd28b7809e15d883bc0",
            "b842957c7ebf48e08170fa5506c89612",
            "dbffb3e033ab4abe83c274a30e7830e7",
            "cebb094cc17b4ab294f2002685e2d289",
            "76974b7f33d7468383ed03548e1da64c",
            "ca96a8fa56904311bf4a33ec01aab257",
            "07c5aac88c83431c906c84eb18649259",
            "0b5e140a85514172bfee5d4d1ea6a635",
            "143b64407271403e82c8c1092cf721e0",
            "a11d89800ded4cdab35570f9243e88ec",
            "c61f5ce4a9ac40aaafafd6d8ee8c7a58",
            "e572d5e79246461da2a33e14dd97780a",
            "50bc5f75197e455db14e0c0f5e8a7941",
            "01ee23fb1392434ab6a3796df1e6952a",
            "3791672b81a940a5a3a2a29918f6e3d4",
            "bf184501ad294d63b136f0893b42e539",
            "8f86396f39284bfea14a41324fbd396d",
            "3870776709b040fd9bff11a409c4da1e",
            "6f3c181fc4f147ddb0893380eb525a67",
            "40dd39b08e7d4340adca52bab8919fb9",
            "987435aba3804a3ea6e682cee1cdb245",
            "07a55fc7767e4af8b202f1ebe668e679",
            "fe25897e875d4e46adc43353b9971dae",
            "773db7e3ad034575851d1bb895f9a150",
            "c9b101084beb4c978c770c3452bb90aa",
            "b7ca782862844db5a109f2d2a15527aa",
            "9c9f7288cfac48438907c1822b159e89",
            "761847a62b8641cba00957c1e1aed369",
            "da94c876ece949a0860845b5397d832e",
            "eb63584098c646f4a7279d4614c9b509",
            "ed1467982c6046b6b9e123542d044d54",
            "a9a5396db2a142cba82988fb6f16557e",
            "8919ec6272cd4b91b3340beb31fca0e8",
            "0b575f808c1e4591ae51499a51de471d",
            "6179993824fd42c580e803c8f15e519b",
            "358170de0faf45bbb2e1ea17ee1d643a",
            "330982ffd0c24ad9bf7e13a9de7b6303",
            "535e7e6191ef4a9fa9df5da4d5c0e710",
            "9d9bed5206914352aadaf4caa26243d4",
            "2c1ee65fc7a24d7888afb1958af8908e",
            "84f1459a1e174387bad1d704a163c384",
            "7d4cb9e2cc5e4910bf1c0c919fcbf166",
            "ae5f9301cceb4c1587797ba3d9175c21",
            "e1b1283b3d2a4ccaa8e92d65515010ee",
            "97739ebded1b41938ba4a4d5625baade",
            "f967539e8d864462999851878044804f",
            "ba62e947ae4f4d639df9a778bdf37ae3",
            "0dc1ca02d93547af8cc00b27ed21b1f0",
            "fa08db1521bf4db89e307702b8552a40",
            "7cb3d6d82464421fa1f93ec59f2c7e10",
            "20485f63bcd44065835f6f1a6728fea7",
            "7f654711b61644688d9eb3565cd52ec2",
            "1bcd74c41c2049f88841d6904c9f1af6",
            "61490dee45f84864939828d9a9333c62",
            "3054cf0c40aa4bd1b9e68a1f6ecc87f3",
            "b7ce0dc0f43c4858914e572e9c44ae19",
            "cdd8858e7e70477eb1f9433e97621ba5",
            "92cfbfc683e540dab06751355eb5fa59",
            "76ef05e91bad4231a74015178216e3c5",
            "25058064c58644bf956307bf7670462a",
            "ee6bbc94b47143d3b4eb8e570b6d69bc",
            "6810054c7e2f4785980a9ccc06f96704",
            "2093afdc2ee74c1c94b1807d112e6532",
            "74aae09193e942cdbf4b1c8fb2902e54",
            "154cc2cfdd784751ad6a62f7df8f4dcf",
            "d3fc4a6cc270404298d04f6dc0d0a6db",
            "ab1aa9de03404fcb8d37d104150b1a98",
            "4e0867076e184b3ca9937c48ce28cdc4",
            "e54cdebd79074a9b862b34674a835160",
            "3c5ed96385f74dc48c8cfc0f86e00f8b",
            "17372bfe321d4557ba3f677b2414b8f5",
            "5fbdf8051d95486da9b3b1b7c9202951",
            "20103d3eade14609933acb0fa1911253",
            "2b598e94a24346f8be51b070ce9f3d76",
            "2cd8dfe9532243c1a9c8dde327816fd3",
            "fd9e340ec58248c6b2c658ad49266344",
            "2b33ba782bb1496ea58582daf16dec37",
            "91cab49df2784fb7865556511fda94b6",
            "14b2bc1d5b2a4680ba0e1ca76124afde",
            "2d2aebca6f124283bc6cc63ff4a83107",
            "00b960106b7d4291940d57794ce2bd44",
            "f0da2bb000334ac29905627d43feb145",
            "9fc8ce0259f04fa6b013c0c1d8236182",
            "f20dfe6c34e942d0ac30fae0f7617da7",
            "751e905cc4474585bcb00f0f58227e89",
            "2ff605ec143f4e279f4cf3ac90143773",
            "497f38f696874c53b64eafd725558cb6",
            "ea57bba5b25c4b95920827f8b43ef48b",
            "4abc4b2fac464882aa27314e6ea47be5",
            "487f1babcac544d5ac513790efd831e9",
            "fbb5152c349b404290f1c6b731428b65",
            "7e2f647b3eaf43f4b0511b47105a8f0c",
            "33e624bab6204ff88156f018a2bb623a",
            "088651983c03481aa986c6738aaf738c",
            "04ea793d339240f195607ff1b5fafb88",
            "e78d230dbb4d478d910f04ffc9afcd12",
            "f6234c43df4b4b1fb94f0d7980d99800",
            "aa8008a93fd640379d3729a05ea19c4d",
            "c254d8ac15f5445fa13e902cacecfb13",
            "d3c8a4a93f984ac3955241a79dfd9886",
            "34f47313bb294801ac0c18ddb8ec20ee",
            "fa37737cf3c04fa4b37f9bcdd17e37ff",
            "64ca2da1ad5c469cbdd65fa2961a3c94",
            "7f2e847a02dd49a9b0020facf9819790",
            "b1e64c6dd0f942dda55e406873b9c291",
            "ff634b67f84b4403ab059be4fc2b19d8",
            "164d0036556448568b023fc06638e7eb",
            "869f0a041872489d94473015a94888b6",
            "deb53dd864a0446c822b1a56bd119047",
            "dd5916fe35f842019e0a59e0eeb38aa7",
            "eda3d40fdc224ad2a449ed7cd6bedf7b",
            "8f615cde224a42bfa6ec58471ac46901",
            "e59dc6cc0c9647b1af8b33648ac40860",
            "17ecea0ce7404c87ab52a0c06ebff0f5",
            "7f70631ce6124fe8a6b10152e6fae197",
            "4f1f5229acac499ebbeb33e982205ecc",
            "10ff6440bc2b4507bf7ed77d72e6ad0b",
            "b8e96753793d4ef08f07f18546e9d806",
            "7c76692e715c4a628c49d3a87e2ed989",
            "084bcc637e254a26a6bda1ac036b5674",
            "3a5ce504b7084913af2a4a43af0e00b3",
            "8b9962161b214a7a917b7245a0ca47e6",
            "88d75827e06f479e9acb27ead0c9d9cc",
            "c3e034e89efa4208b128c79b825ec4e7",
            "cdf2a681afb54faea066e7b04be89506",
            "0775c56abca54374b9450ebc1fc3f7f8",
            "4f0fd4ca4bc5425e81e5e2c86b623732",
            "57175e21f3b242b5b4f9d8d25e8bc22e",
            "9dcf8acf817d4c1cbed377cf21d7e351",
            "25b0536bcfed41189971ed6c0d1b3a27",
            "ef5c7304aba94667b6c245280630052b",
            "ab6c0856b7094b9993a702acd9f58856",
            "c936c3aff834474999de2e8f8379287c",
            "b1edcbbba3bb482a8ccd0fa148046094",
            "d091b0947f1b4b2195d1224851a7348e",
            "f1d87628378f4769947dcb2692343ff9",
            "14e8312f0271430eb2f9ffef75ceeaca",
            "37379f0e399c4964b0bd4941b67f8a60",
            "1f3aa4e6685a4b119e2f717921dcdb46",
            "4ac39c3c24704da68cdf133e304a87b2",
            "5352842f7a25495eaf7f817d33eb9ef3",
            "198395190d4443559c146c73436a962b",
            "25c4baafcf5a4b998aa66ec4902bb11b",
            "c3c1f97e07474ca1ac636b99cdc3c0c2",
            "70aa39fe935e4c7daf9644e308f3ff13",
            "b4b628d8cccb4e1eabecb60ff847cf53",
            "0c1ad52e5f8d4fe2b68e58de0b7d48b7",
            "cd28a16269374af4a525730fdc5a861c",
            "93d0a31b3bc1495c8d2c6c859e6701d5",
            "ae67619a05614919a00697e389d3072e",
            "f35e1854ca914047b002c3c7c246d78a",
            "d253581dcf8a43e3be22f3662515d796",
            "92db75296df145f5bfec1ce415699783",
            "ded8fa0c41574e79825d2e2354afc982",
            "d96020755a8b4984921db401c17c0dc0",
            "0e16362920544f929c8274503d6fb395",
            "5191da8d70904ea5b7575e455ab878e6",
            "1e39ec057b7e4bcd8e8cb2217148671a",
            "92a39247915046d88698087495b18005",
            "e34f90fe1a2646628d474cea83f42f2f",
            "5e5982c5afc74b0c8e21252064987f5c",
            "3940f616a8a9421fbb00e62bdac29cb1",
            "52a69fb293a84bcda16aac64342b8cf7",
            "85064ecba26041698b4f3266a0badc96",
            "b0c2191dfee448b39d16d81e4ac1e38b",
            "b2e3257539ed46779de10e7d8067e1ea",
            "8bdb524f21524fd8a20275b39ead416d",
            "a6e063cf5e76471d9a0ba2ff21988485",
            "c98a6616f6cb4a41a6358b61e7c40144",
            "b38f91956a824f3ebb708f315c1bfd30",
            "f170bcf93513450d95dc8a069bc7d14c",
            "c200285a602648a48448ff76c9bbf5bf",
            "14a7462cc66b4722b3bfc762f3b8ee4d",
            "8262970a5916489e8157f27f2318fe10",
            "6dddb0599eed463c90aab7bbfa25fa5e",
            "1c94a17e8bda424784207481ca336bd5",
            "12e7cf76a9a14e14915af7de0b0ebe57",
            "8fb923061769483aba34295467935a32",
            "03daa0c52b044028be232443208b9ab0",
            "699cc9be4539400a82cc18da604ad085",
            "3bbdd04a03b4417291212172da4f38bf",
            "5da09701e6ce47f1ac9a7b50205e1e49",
            "64d3ae364c33451b804ec4340c18b3d0",
            "3f5366c517cc4b7ba6f10ed6532977b3",
            "0385453bcea44852917810b40d96c768",
            "07aa537ebf444c18a922f05be59673f5",
            "4995bc859cc248b19f1b0895a88ac630",
            "c4cd844f4be0438b9eb627d47320cdc3",
            "7b758cb05830483abee1a4117e358026",
            "7ae0e68f3a974aa2bef9321765619f62",
            "15a1002d4d164329aa23f28e3405d77a",
            "933ca2d063574be687c8e551b7af139f",
            "0fbee0267b60458fa99afcab8d37a0ca",
            "10d85e1865554499b45d4b58a1dfa283",
            "b6b2da9a48454677a8c68915c8d79271",
            "39353643682f450f8904564b5934837c",
            "c7372fd6f2e3449a909719064f41ecc5",
            "872df1ad112140688bd195e129020a82",
            "1ff312d26c6c4a87af6f230fff364140",
            "a3cd0598af2544da8e2f66a74242a0b5",
            "5e8c034b75e64939b3e0123ad1228efd",
            "5db1a8eeda9047fdbd73c5defba49f01",
            "910a78d8b380403185b3843cdabb1e25",
            "bef5107fac0d4e8cbffb9ff41aec6d8b",
            "ff5b066c7f3b409f8d271be8608e759a",
            "53246729fa3d445395ba413ad867a783",
            "084a981545ed4c0a937d50a32d141e9d",
            "72a042bb552b4e18b63d41d7a1010aaa",
            "0acd954127b84d22aa00a1a113a135c0",
            "bb5b568ee78649f4b444b4c9c8ebb0af",
            "28813f78b4a6466c8884434234e6e438",
            "93cd3d488b2344f39fe873d8211c299a",
            "ed948e2d457646a2a860fae72a755d99",
            "08ae09cee8d04ebabf839bc7404a22e7",
            "26e3caffc26a408abe32629a25b22631",
            "b140d801f63742f19001979eeb236abb",
            "4743fca7e15d48c38e5ff88093ffe833",
            "d6b21f7366cf46ad983be05ab1427718",
            "82bca84606244bbab3c0a50871bdb87b",
            "aaf421fdf03e4fceb6e553f0c85203a0",
            "1f3389e8198943959642e04e51013d57",
            "b6589fa8c54247cda0618c5df9df3e82",
            "d9effd2076564cc790429ec71b13ac03",
            "71fa6653a3b249039437901fe34671c8",
            "60f52fda33104ff19da207eb6c5562da",
            "e5a3a4643d734c319de86c9a832c5aca",
            "c76ff10529074788b81eab52e268e0f6"
          ]
        },
        "id": "nip3anXydfha",
        "outputId": "dbaa5d0f-e10f-412c-ee44-37e651436cdc"
      },
      "execution_count": null,
      "outputs": [
        {
          "output_type": "display_data",
          "data": {
            "text/plain": [
              "Batching:   0%|          | 0/52 [00:00<?, ?it/s]"
            ],
            "application/vnd.jupyter.widget-view+json": {
              "version_major": 2,
              "version_minor": 0,
              "model_id": "0eb4f771197042cfad9bffa1a7046af0"
            }
          },
          "metadata": {}
        },
        {
          "output_type": "stream",
          "name": "stdout",
          "text": [
            "Epoch [1/100], loss:0.0022\n",
            "Test Accuracy: 88.05%\n"
          ]
        },
        {
          "output_type": "display_data",
          "data": {
            "text/plain": [
              "Batching:   0%|          | 0/52 [00:00<?, ?it/s]"
            ],
            "application/vnd.jupyter.widget-view+json": {
              "version_major": 2,
              "version_minor": 0,
              "model_id": "4b2fec03bfd04d0c85d733c1780a7402"
            }
          },
          "metadata": {}
        },
        {
          "output_type": "stream",
          "name": "stdout",
          "text": [
            "Epoch [2/100], loss:0.0029\n",
            "Test Accuracy: 87.32%\n"
          ]
        },
        {
          "output_type": "display_data",
          "data": {
            "text/plain": [
              "Batching:   0%|          | 0/52 [00:00<?, ?it/s]"
            ],
            "application/vnd.jupyter.widget-view+json": {
              "version_major": 2,
              "version_minor": 0,
              "model_id": "233ebb270eef4a6ba8e6578033ac01e3"
            }
          },
          "metadata": {}
        },
        {
          "output_type": "stream",
          "name": "stdout",
          "text": [
            "Epoch [3/100], loss:0.0015\n",
            "Test Accuracy: 87.56%\n"
          ]
        },
        {
          "output_type": "display_data",
          "data": {
            "text/plain": [
              "Batching:   0%|          | 0/52 [00:00<?, ?it/s]"
            ],
            "application/vnd.jupyter.widget-view+json": {
              "version_major": 2,
              "version_minor": 0,
              "model_id": "1f6eb773baba4de18ec375b0446d2398"
            }
          },
          "metadata": {}
        },
        {
          "output_type": "stream",
          "name": "stdout",
          "text": [
            "Epoch [4/100], loss:0.0010\n",
            "Test Accuracy: 87.56%\n"
          ]
        },
        {
          "output_type": "display_data",
          "data": {
            "text/plain": [
              "Batching:   0%|          | 0/52 [00:00<?, ?it/s]"
            ],
            "application/vnd.jupyter.widget-view+json": {
              "version_major": 2,
              "version_minor": 0,
              "model_id": "352d2178d30d4991805b9501b8b3c0df"
            }
          },
          "metadata": {}
        },
        {
          "output_type": "stream",
          "name": "stdout",
          "text": [
            "Epoch [5/100], loss:0.0016\n",
            "Test Accuracy: 88.05%\n"
          ]
        },
        {
          "output_type": "display_data",
          "data": {
            "text/plain": [
              "Batching:   0%|          | 0/52 [00:00<?, ?it/s]"
            ],
            "application/vnd.jupyter.widget-view+json": {
              "version_major": 2,
              "version_minor": 0,
              "model_id": "18ecdd7ce5554bc5a35a86264df99b9c"
            }
          },
          "metadata": {}
        },
        {
          "output_type": "stream",
          "name": "stdout",
          "text": [
            "Epoch [6/100], loss:0.0052\n",
            "Test Accuracy: 87.80%\n"
          ]
        },
        {
          "output_type": "display_data",
          "data": {
            "text/plain": [
              "Batching:   0%|          | 0/52 [00:00<?, ?it/s]"
            ],
            "application/vnd.jupyter.widget-view+json": {
              "version_major": 2,
              "version_minor": 0,
              "model_id": "a868ee3a603b4482be0c47c612c0a1ae"
            }
          },
          "metadata": {}
        },
        {
          "output_type": "stream",
          "name": "stdout",
          "text": [
            "Epoch [7/100], loss:0.0057\n",
            "Test Accuracy: 88.29%\n"
          ]
        },
        {
          "output_type": "display_data",
          "data": {
            "text/plain": [
              "Batching:   0%|          | 0/52 [00:00<?, ?it/s]"
            ],
            "application/vnd.jupyter.widget-view+json": {
              "version_major": 2,
              "version_minor": 0,
              "model_id": "c176154653ae4c8ebf19e542eac9550f"
            }
          },
          "metadata": {}
        },
        {
          "output_type": "stream",
          "name": "stdout",
          "text": [
            "Epoch [8/100], loss:0.0035\n",
            "Test Accuracy: 88.54%\n"
          ]
        },
        {
          "output_type": "display_data",
          "data": {
            "text/plain": [
              "Batching:   0%|          | 0/52 [00:00<?, ?it/s]"
            ],
            "application/vnd.jupyter.widget-view+json": {
              "version_major": 2,
              "version_minor": 0,
              "model_id": "b4ca9ccd46984bbeb0eb2eb9ad0883a5"
            }
          },
          "metadata": {}
        },
        {
          "output_type": "stream",
          "name": "stdout",
          "text": [
            "Epoch [9/100], loss:0.0021\n",
            "Test Accuracy: 87.80%\n"
          ]
        },
        {
          "output_type": "display_data",
          "data": {
            "text/plain": [
              "Batching:   0%|          | 0/52 [00:00<?, ?it/s]"
            ],
            "application/vnd.jupyter.widget-view+json": {
              "version_major": 2,
              "version_minor": 0,
              "model_id": "d7f82f0ac2a4469aa5256f1ea6f86b9a"
            }
          },
          "metadata": {}
        },
        {
          "output_type": "stream",
          "name": "stdout",
          "text": [
            "Epoch [10/100], loss:0.0010\n",
            "Test Accuracy: 87.07%\n"
          ]
        },
        {
          "output_type": "display_data",
          "data": {
            "text/plain": [
              "Batching:   0%|          | 0/52 [00:00<?, ?it/s]"
            ],
            "application/vnd.jupyter.widget-view+json": {
              "version_major": 2,
              "version_minor": 0,
              "model_id": "b9ba6fabe92e4ee98cf1502faac30d5d"
            }
          },
          "metadata": {}
        },
        {
          "output_type": "stream",
          "name": "stdout",
          "text": [
            "Epoch [11/100], loss:0.0003\n",
            "Test Accuracy: 87.07%\n"
          ]
        },
        {
          "output_type": "display_data",
          "data": {
            "text/plain": [
              "Batching:   0%|          | 0/52 [00:00<?, ?it/s]"
            ],
            "application/vnd.jupyter.widget-view+json": {
              "version_major": 2,
              "version_minor": 0,
              "model_id": "440286636b49448a89e9418ee88a6bcc"
            }
          },
          "metadata": {}
        },
        {
          "output_type": "stream",
          "name": "stdout",
          "text": [
            "Epoch [12/100], loss:0.0003\n",
            "Test Accuracy: 86.83%\n"
          ]
        },
        {
          "output_type": "display_data",
          "data": {
            "text/plain": [
              "Batching:   0%|          | 0/52 [00:00<?, ?it/s]"
            ],
            "application/vnd.jupyter.widget-view+json": {
              "version_major": 2,
              "version_minor": 0,
              "model_id": "13d18ac250de4dbdb5e6fcd7b91035c2"
            }
          },
          "metadata": {}
        },
        {
          "output_type": "stream",
          "name": "stdout",
          "text": [
            "Epoch [13/100], loss:0.0002\n",
            "Test Accuracy: 86.83%\n"
          ]
        },
        {
          "output_type": "display_data",
          "data": {
            "text/plain": [
              "Batching:   0%|          | 0/52 [00:00<?, ?it/s]"
            ],
            "application/vnd.jupyter.widget-view+json": {
              "version_major": 2,
              "version_minor": 0,
              "model_id": "71890b0f59a343aba4a499664bd5a06a"
            }
          },
          "metadata": {}
        },
        {
          "output_type": "stream",
          "name": "stdout",
          "text": [
            "Epoch [14/100], loss:0.0003\n",
            "Test Accuracy: 87.07%\n"
          ]
        },
        {
          "output_type": "display_data",
          "data": {
            "text/plain": [
              "Batching:   0%|          | 0/52 [00:00<?, ?it/s]"
            ],
            "application/vnd.jupyter.widget-view+json": {
              "version_major": 2,
              "version_minor": 0,
              "model_id": "221f93ca2e5846dda89397f750f7e3a7"
            }
          },
          "metadata": {}
        },
        {
          "output_type": "stream",
          "name": "stdout",
          "text": [
            "Epoch [15/100], loss:0.0003\n",
            "Test Accuracy: 87.32%\n"
          ]
        },
        {
          "output_type": "display_data",
          "data": {
            "text/plain": [
              "Batching:   0%|          | 0/52 [00:00<?, ?it/s]"
            ],
            "application/vnd.jupyter.widget-view+json": {
              "version_major": 2,
              "version_minor": 0,
              "model_id": "d6ed5d7d945a428c94ece62022ed0e36"
            }
          },
          "metadata": {}
        },
        {
          "output_type": "stream",
          "name": "stdout",
          "text": [
            "Epoch [16/100], loss:0.0009\n",
            "Test Accuracy: 87.07%\n"
          ]
        },
        {
          "output_type": "display_data",
          "data": {
            "text/plain": [
              "Batching:   0%|          | 0/52 [00:00<?, ?it/s]"
            ],
            "application/vnd.jupyter.widget-view+json": {
              "version_major": 2,
              "version_minor": 0,
              "model_id": "32226c2d13624e098fd946683bd4672a"
            }
          },
          "metadata": {}
        },
        {
          "output_type": "stream",
          "name": "stdout",
          "text": [
            "Epoch [17/100], loss:0.0003\n",
            "Test Accuracy: 87.32%\n"
          ]
        },
        {
          "output_type": "display_data",
          "data": {
            "text/plain": [
              "Batching:   0%|          | 0/52 [00:00<?, ?it/s]"
            ],
            "application/vnd.jupyter.widget-view+json": {
              "version_major": 2,
              "version_minor": 0,
              "model_id": "0ffad11ace9242a49e3530e65330f98e"
            }
          },
          "metadata": {}
        },
        {
          "output_type": "stream",
          "name": "stdout",
          "text": [
            "Epoch [18/100], loss:0.0002\n",
            "Test Accuracy: 87.32%\n"
          ]
        },
        {
          "output_type": "display_data",
          "data": {
            "text/plain": [
              "Batching:   0%|          | 0/52 [00:00<?, ?it/s]"
            ],
            "application/vnd.jupyter.widget-view+json": {
              "version_major": 2,
              "version_minor": 0,
              "model_id": "e3936dd3fadb4ae2bfde928c8681c164"
            }
          },
          "metadata": {}
        },
        {
          "output_type": "stream",
          "name": "stdout",
          "text": [
            "Epoch [19/100], loss:0.0002\n",
            "Test Accuracy: 87.56%\n"
          ]
        },
        {
          "output_type": "display_data",
          "data": {
            "text/plain": [
              "Batching:   0%|          | 0/52 [00:00<?, ?it/s]"
            ],
            "application/vnd.jupyter.widget-view+json": {
              "version_major": 2,
              "version_minor": 0,
              "model_id": "b40ca2d8657a478abf3a0ea5154d3c2f"
            }
          },
          "metadata": {}
        },
        {
          "output_type": "stream",
          "name": "stdout",
          "text": [
            "Epoch [20/100], loss:0.0003\n",
            "Test Accuracy: 87.32%\n"
          ]
        },
        {
          "output_type": "display_data",
          "data": {
            "text/plain": [
              "Batching:   0%|          | 0/52 [00:00<?, ?it/s]"
            ],
            "application/vnd.jupyter.widget-view+json": {
              "version_major": 2,
              "version_minor": 0,
              "model_id": "177d30417d1243679c45228c8d563536"
            }
          },
          "metadata": {}
        },
        {
          "output_type": "stream",
          "name": "stdout",
          "text": [
            "Epoch [21/100], loss:0.0002\n",
            "Test Accuracy: 87.56%\n"
          ]
        },
        {
          "output_type": "display_data",
          "data": {
            "text/plain": [
              "Batching:   0%|          | 0/52 [00:00<?, ?it/s]"
            ],
            "application/vnd.jupyter.widget-view+json": {
              "version_major": 2,
              "version_minor": 0,
              "model_id": "3133d446e3354a35a4fc64e26de1d138"
            }
          },
          "metadata": {}
        },
        {
          "output_type": "stream",
          "name": "stdout",
          "text": [
            "Epoch [22/100], loss:0.0030\n",
            "Test Accuracy: 88.05%\n"
          ]
        },
        {
          "output_type": "display_data",
          "data": {
            "text/plain": [
              "Batching:   0%|          | 0/52 [00:00<?, ?it/s]"
            ],
            "application/vnd.jupyter.widget-view+json": {
              "version_major": 2,
              "version_minor": 0,
              "model_id": "79ab3298d6e640559addbc2eefb5348a"
            }
          },
          "metadata": {}
        },
        {
          "output_type": "stream",
          "name": "stdout",
          "text": [
            "Epoch [23/100], loss:0.0200\n",
            "Test Accuracy: 86.59%\n"
          ]
        },
        {
          "output_type": "display_data",
          "data": {
            "text/plain": [
              "Batching:   0%|          | 0/52 [00:00<?, ?it/s]"
            ],
            "application/vnd.jupyter.widget-view+json": {
              "version_major": 2,
              "version_minor": 0,
              "model_id": "d9b28000c7654bd298fa63a63fa35d37"
            }
          },
          "metadata": {}
        },
        {
          "output_type": "stream",
          "name": "stdout",
          "text": [
            "Epoch [24/100], loss:0.0138\n",
            "Test Accuracy: 88.78%\n"
          ]
        },
        {
          "output_type": "display_data",
          "data": {
            "text/plain": [
              "Batching:   0%|          | 0/52 [00:00<?, ?it/s]"
            ],
            "application/vnd.jupyter.widget-view+json": {
              "version_major": 2,
              "version_minor": 0,
              "model_id": "18aad3e7beeb4e3187ddef2cc3e3fc9f"
            }
          },
          "metadata": {}
        },
        {
          "output_type": "stream",
          "name": "stdout",
          "text": [
            "Epoch [25/100], loss:0.0056\n",
            "Test Accuracy: 88.29%\n"
          ]
        },
        {
          "output_type": "display_data",
          "data": {
            "text/plain": [
              "Batching:   0%|          | 0/52 [00:00<?, ?it/s]"
            ],
            "application/vnd.jupyter.widget-view+json": {
              "version_major": 2,
              "version_minor": 0,
              "model_id": "1ae13548da7d42bfa0ff53d92bd9c640"
            }
          },
          "metadata": {}
        },
        {
          "output_type": "stream",
          "name": "stdout",
          "text": [
            "Epoch [26/100], loss:0.0016\n",
            "Test Accuracy: 88.78%\n"
          ]
        },
        {
          "output_type": "display_data",
          "data": {
            "text/plain": [
              "Batching:   0%|          | 0/52 [00:00<?, ?it/s]"
            ],
            "application/vnd.jupyter.widget-view+json": {
              "version_major": 2,
              "version_minor": 0,
              "model_id": "8c0045c10c5047d6911fa6a5165ccb98"
            }
          },
          "metadata": {}
        },
        {
          "output_type": "stream",
          "name": "stdout",
          "text": [
            "Epoch [27/100], loss:0.0036\n",
            "Test Accuracy: 87.80%\n"
          ]
        },
        {
          "output_type": "display_data",
          "data": {
            "text/plain": [
              "Batching:   0%|          | 0/52 [00:00<?, ?it/s]"
            ],
            "application/vnd.jupyter.widget-view+json": {
              "version_major": 2,
              "version_minor": 0,
              "model_id": "44a0914c18004ff2961de6811509a272"
            }
          },
          "metadata": {}
        },
        {
          "output_type": "stream",
          "name": "stdout",
          "text": [
            "Epoch [28/100], loss:0.0036\n",
            "Test Accuracy: 89.27%\n"
          ]
        },
        {
          "output_type": "display_data",
          "data": {
            "text/plain": [
              "Batching:   0%|          | 0/52 [00:00<?, ?it/s]"
            ],
            "application/vnd.jupyter.widget-view+json": {
              "version_major": 2,
              "version_minor": 0,
              "model_id": "374d0e9fa7f044ef925bd1c83e718e4a"
            }
          },
          "metadata": {}
        },
        {
          "output_type": "stream",
          "name": "stdout",
          "text": [
            "Epoch [29/100], loss:0.0006\n",
            "Test Accuracy: 89.51%\n"
          ]
        },
        {
          "output_type": "display_data",
          "data": {
            "text/plain": [
              "Batching:   0%|          | 0/52 [00:00<?, ?it/s]"
            ],
            "application/vnd.jupyter.widget-view+json": {
              "version_major": 2,
              "version_minor": 0,
              "model_id": "4b92fd71dde346e79f0a4488223992ab"
            }
          },
          "metadata": {}
        },
        {
          "output_type": "stream",
          "name": "stdout",
          "text": [
            "Epoch [30/100], loss:0.0005\n",
            "Test Accuracy: 88.78%\n"
          ]
        },
        {
          "output_type": "display_data",
          "data": {
            "text/plain": [
              "Batching:   0%|          | 0/52 [00:00<?, ?it/s]"
            ],
            "application/vnd.jupyter.widget-view+json": {
              "version_major": 2,
              "version_minor": 0,
              "model_id": "bd4f8014e71b47d1bf6257444cf4f031"
            }
          },
          "metadata": {}
        },
        {
          "output_type": "stream",
          "name": "stdout",
          "text": [
            "Epoch [31/100], loss:0.0006\n",
            "Test Accuracy: 88.54%\n"
          ]
        },
        {
          "output_type": "display_data",
          "data": {
            "text/plain": [
              "Batching:   0%|          | 0/52 [00:00<?, ?it/s]"
            ],
            "application/vnd.jupyter.widget-view+json": {
              "version_major": 2,
              "version_minor": 0,
              "model_id": "210a70613db7424dba6446d7e6b24e65"
            }
          },
          "metadata": {}
        },
        {
          "output_type": "stream",
          "name": "stdout",
          "text": [
            "Epoch [32/100], loss:0.0006\n",
            "Test Accuracy: 88.29%\n"
          ]
        },
        {
          "output_type": "display_data",
          "data": {
            "text/plain": [
              "Batching:   0%|          | 0/52 [00:00<?, ?it/s]"
            ],
            "application/vnd.jupyter.widget-view+json": {
              "version_major": 2,
              "version_minor": 0,
              "model_id": "cdbf23824e764fe08f301d1da15129bc"
            }
          },
          "metadata": {}
        },
        {
          "output_type": "stream",
          "name": "stdout",
          "text": [
            "Epoch [33/100], loss:0.0033\n",
            "Test Accuracy: 88.29%\n"
          ]
        },
        {
          "output_type": "display_data",
          "data": {
            "text/plain": [
              "Batching:   0%|          | 0/52 [00:00<?, ?it/s]"
            ],
            "application/vnd.jupyter.widget-view+json": {
              "version_major": 2,
              "version_minor": 0,
              "model_id": "32d60c2ba04e4b43887a6b3dd91ef630"
            }
          },
          "metadata": {}
        },
        {
          "output_type": "stream",
          "name": "stdout",
          "text": [
            "Epoch [34/100], loss:0.0184\n",
            "Test Accuracy: 85.85%\n"
          ]
        },
        {
          "output_type": "display_data",
          "data": {
            "text/plain": [
              "Batching:   0%|          | 0/52 [00:00<?, ?it/s]"
            ],
            "application/vnd.jupyter.widget-view+json": {
              "version_major": 2,
              "version_minor": 0,
              "model_id": "a3c197211f284284b47849061511ec4a"
            }
          },
          "metadata": {}
        },
        {
          "output_type": "stream",
          "name": "stdout",
          "text": [
            "Epoch [35/100], loss:0.0654\n",
            "Test Accuracy: 89.02%\n"
          ]
        },
        {
          "output_type": "display_data",
          "data": {
            "text/plain": [
              "Batching:   0%|          | 0/52 [00:00<?, ?it/s]"
            ],
            "application/vnd.jupyter.widget-view+json": {
              "version_major": 2,
              "version_minor": 0,
              "model_id": "5c5bea23da66460c92c0cda1f1e09a82"
            }
          },
          "metadata": {}
        },
        {
          "output_type": "stream",
          "name": "stdout",
          "text": [
            "Epoch [36/100], loss:0.0084\n",
            "Test Accuracy: 89.51%\n"
          ]
        },
        {
          "output_type": "display_data",
          "data": {
            "text/plain": [
              "Batching:   0%|          | 0/52 [00:00<?, ?it/s]"
            ],
            "application/vnd.jupyter.widget-view+json": {
              "version_major": 2,
              "version_minor": 0,
              "model_id": "4634a034cef64bb59dcca0877d7d09a4"
            }
          },
          "metadata": {}
        },
        {
          "output_type": "stream",
          "name": "stdout",
          "text": [
            "Epoch [37/100], loss:0.0056\n",
            "Test Accuracy: 88.29%\n"
          ]
        },
        {
          "output_type": "display_data",
          "data": {
            "text/plain": [
              "Batching:   0%|          | 0/52 [00:00<?, ?it/s]"
            ],
            "application/vnd.jupyter.widget-view+json": {
              "version_major": 2,
              "version_minor": 0,
              "model_id": "8dbebbc7aec8425fa16f50221e45ef88"
            }
          },
          "metadata": {}
        },
        {
          "output_type": "stream",
          "name": "stdout",
          "text": [
            "Epoch [38/100], loss:0.0025\n",
            "Test Accuracy: 89.76%\n"
          ]
        },
        {
          "output_type": "display_data",
          "data": {
            "text/plain": [
              "Batching:   0%|          | 0/52 [00:00<?, ?it/s]"
            ],
            "application/vnd.jupyter.widget-view+json": {
              "version_major": 2,
              "version_minor": 0,
              "model_id": "7e8529016f12408bb6e1336f75f24842"
            }
          },
          "metadata": {}
        },
        {
          "output_type": "stream",
          "name": "stdout",
          "text": [
            "Epoch [39/100], loss:0.0012\n",
            "Test Accuracy: 89.27%\n"
          ]
        },
        {
          "output_type": "display_data",
          "data": {
            "text/plain": [
              "Batching:   0%|          | 0/52 [00:00<?, ?it/s]"
            ],
            "application/vnd.jupyter.widget-view+json": {
              "version_major": 2,
              "version_minor": 0,
              "model_id": "ad8b6e1bc587494983748ea7f1644b19"
            }
          },
          "metadata": {}
        },
        {
          "output_type": "stream",
          "name": "stdout",
          "text": [
            "Epoch [40/100], loss:0.0007\n",
            "Test Accuracy: 89.02%\n"
          ]
        },
        {
          "output_type": "display_data",
          "data": {
            "text/plain": [
              "Batching:   0%|          | 0/52 [00:00<?, ?it/s]"
            ],
            "application/vnd.jupyter.widget-view+json": {
              "version_major": 2,
              "version_minor": 0,
              "model_id": "0d6cc7480fa1434898152536793687bc"
            }
          },
          "metadata": {}
        },
        {
          "output_type": "stream",
          "name": "stdout",
          "text": [
            "Epoch [41/100], loss:0.0003\n",
            "Test Accuracy: 89.02%\n"
          ]
        },
        {
          "output_type": "display_data",
          "data": {
            "text/plain": [
              "Batching:   0%|          | 0/52 [00:00<?, ?it/s]"
            ],
            "application/vnd.jupyter.widget-view+json": {
              "version_major": 2,
              "version_minor": 0,
              "model_id": "85a884f721ec4d1bbfbe2a17bb738fcd"
            }
          },
          "metadata": {}
        },
        {
          "output_type": "stream",
          "name": "stdout",
          "text": [
            "Epoch [42/100], loss:0.0002\n",
            "Test Accuracy: 88.78%\n"
          ]
        },
        {
          "output_type": "display_data",
          "data": {
            "text/plain": [
              "Batching:   0%|          | 0/52 [00:00<?, ?it/s]"
            ],
            "application/vnd.jupyter.widget-view+json": {
              "version_major": 2,
              "version_minor": 0,
              "model_id": "e7a750fea8e34b75871f79f0dbed64eb"
            }
          },
          "metadata": {}
        },
        {
          "output_type": "stream",
          "name": "stdout",
          "text": [
            "Epoch [43/100], loss:0.0001\n",
            "Test Accuracy: 88.78%\n"
          ]
        },
        {
          "output_type": "display_data",
          "data": {
            "text/plain": [
              "Batching:   0%|          | 0/52 [00:00<?, ?it/s]"
            ],
            "application/vnd.jupyter.widget-view+json": {
              "version_major": 2,
              "version_minor": 0,
              "model_id": "86027cd24d6f41cfb5e6d8b76e713ad5"
            }
          },
          "metadata": {}
        },
        {
          "output_type": "stream",
          "name": "stdout",
          "text": [
            "Epoch [44/100], loss:0.0001\n",
            "Test Accuracy: 88.78%\n"
          ]
        },
        {
          "output_type": "display_data",
          "data": {
            "text/plain": [
              "Batching:   0%|          | 0/52 [00:00<?, ?it/s]"
            ],
            "application/vnd.jupyter.widget-view+json": {
              "version_major": 2,
              "version_minor": 0,
              "model_id": "dc0087de39d84b17a183a4ff15a7e0c7"
            }
          },
          "metadata": {}
        },
        {
          "output_type": "stream",
          "name": "stdout",
          "text": [
            "Epoch [45/100], loss:0.0001\n",
            "Test Accuracy: 88.78%\n"
          ]
        },
        {
          "output_type": "display_data",
          "data": {
            "text/plain": [
              "Batching:   0%|          | 0/52 [00:00<?, ?it/s]"
            ],
            "application/vnd.jupyter.widget-view+json": {
              "version_major": 2,
              "version_minor": 0,
              "model_id": "3082f1055b6a4427b30f1c1085656fbc"
            }
          },
          "metadata": {}
        },
        {
          "output_type": "stream",
          "name": "stdout",
          "text": [
            "Epoch [46/100], loss:0.0001\n",
            "Test Accuracy: 88.78%\n"
          ]
        },
        {
          "output_type": "display_data",
          "data": {
            "text/plain": [
              "Batching:   0%|          | 0/52 [00:00<?, ?it/s]"
            ],
            "application/vnd.jupyter.widget-view+json": {
              "version_major": 2,
              "version_minor": 0,
              "model_id": "eca60f6bbe204880b703d902cb001c8b"
            }
          },
          "metadata": {}
        },
        {
          "output_type": "stream",
          "name": "stdout",
          "text": [
            "Epoch [47/100], loss:0.0001\n",
            "Test Accuracy: 88.78%\n"
          ]
        },
        {
          "output_type": "display_data",
          "data": {
            "text/plain": [
              "Batching:   0%|          | 0/52 [00:00<?, ?it/s]"
            ],
            "application/vnd.jupyter.widget-view+json": {
              "version_major": 2,
              "version_minor": 0,
              "model_id": "a20df43e4bc84e7eb0e778504a6abff5"
            }
          },
          "metadata": {}
        },
        {
          "output_type": "stream",
          "name": "stdout",
          "text": [
            "Epoch [48/100], loss:0.0001\n",
            "Test Accuracy: 88.78%\n"
          ]
        },
        {
          "output_type": "display_data",
          "data": {
            "text/plain": [
              "Batching:   0%|          | 0/52 [00:00<?, ?it/s]"
            ],
            "application/vnd.jupyter.widget-view+json": {
              "version_major": 2,
              "version_minor": 0,
              "model_id": "b65efd1dc9504620918a823e9f8fda3a"
            }
          },
          "metadata": {}
        },
        {
          "output_type": "stream",
          "name": "stdout",
          "text": [
            "Epoch [49/100], loss:0.0001\n",
            "Test Accuracy: 88.78%\n"
          ]
        },
        {
          "output_type": "display_data",
          "data": {
            "text/plain": [
              "Batching:   0%|          | 0/52 [00:00<?, ?it/s]"
            ],
            "application/vnd.jupyter.widget-view+json": {
              "version_major": 2,
              "version_minor": 0,
              "model_id": "81fae8641f564a2a83dfc541cf6cbf88"
            }
          },
          "metadata": {}
        },
        {
          "output_type": "stream",
          "name": "stdout",
          "text": [
            "Epoch [50/100], loss:0.0001\n",
            "Test Accuracy: 88.78%\n"
          ]
        },
        {
          "output_type": "display_data",
          "data": {
            "text/plain": [
              "Batching:   0%|          | 0/52 [00:00<?, ?it/s]"
            ],
            "application/vnd.jupyter.widget-view+json": {
              "version_major": 2,
              "version_minor": 0,
              "model_id": "f117c2264b53441cb8a19bf9f5f04bbf"
            }
          },
          "metadata": {}
        },
        {
          "output_type": "stream",
          "name": "stdout",
          "text": [
            "Epoch [51/100], loss:0.0001\n",
            "Test Accuracy: 88.78%\n"
          ]
        },
        {
          "output_type": "display_data",
          "data": {
            "text/plain": [
              "Batching:   0%|          | 0/52 [00:00<?, ?it/s]"
            ],
            "application/vnd.jupyter.widget-view+json": {
              "version_major": 2,
              "version_minor": 0,
              "model_id": "565cf0018a9e40c0815db8e641e493b6"
            }
          },
          "metadata": {}
        },
        {
          "output_type": "stream",
          "name": "stdout",
          "text": [
            "Epoch [52/100], loss:0.0001\n",
            "Test Accuracy: 89.02%\n"
          ]
        },
        {
          "output_type": "display_data",
          "data": {
            "text/plain": [
              "Batching:   0%|          | 0/52 [00:00<?, ?it/s]"
            ],
            "application/vnd.jupyter.widget-view+json": {
              "version_major": 2,
              "version_minor": 0,
              "model_id": "2a35eff18e924cfe99951a028f5da508"
            }
          },
          "metadata": {}
        },
        {
          "output_type": "stream",
          "name": "stdout",
          "text": [
            "Epoch [53/100], loss:0.0001\n",
            "Test Accuracy: 89.02%\n"
          ]
        },
        {
          "output_type": "display_data",
          "data": {
            "text/plain": [
              "Batching:   0%|          | 0/52 [00:00<?, ?it/s]"
            ],
            "application/vnd.jupyter.widget-view+json": {
              "version_major": 2,
              "version_minor": 0,
              "model_id": "53d98419234a44d59f7df66bc03617a0"
            }
          },
          "metadata": {}
        },
        {
          "output_type": "stream",
          "name": "stdout",
          "text": [
            "Epoch [54/100], loss:0.0001\n",
            "Test Accuracy: 89.02%\n"
          ]
        },
        {
          "output_type": "display_data",
          "data": {
            "text/plain": [
              "Batching:   0%|          | 0/52 [00:00<?, ?it/s]"
            ],
            "application/vnd.jupyter.widget-view+json": {
              "version_major": 2,
              "version_minor": 0,
              "model_id": "097dda30c6ae4be5981eed2eba292f93"
            }
          },
          "metadata": {}
        },
        {
          "output_type": "stream",
          "name": "stdout",
          "text": [
            "Epoch [55/100], loss:0.0001\n",
            "Test Accuracy: 89.02%\n"
          ]
        },
        {
          "output_type": "display_data",
          "data": {
            "text/plain": [
              "Batching:   0%|          | 0/52 [00:00<?, ?it/s]"
            ],
            "application/vnd.jupyter.widget-view+json": {
              "version_major": 2,
              "version_minor": 0,
              "model_id": "e6dae22dd62b4607b8b8d5befc5ebcf1"
            }
          },
          "metadata": {}
        },
        {
          "output_type": "stream",
          "name": "stdout",
          "text": [
            "Epoch [56/100], loss:0.0000\n",
            "Test Accuracy: 89.02%\n"
          ]
        },
        {
          "output_type": "display_data",
          "data": {
            "text/plain": [
              "Batching:   0%|          | 0/52 [00:00<?, ?it/s]"
            ],
            "application/vnd.jupyter.widget-view+json": {
              "version_major": 2,
              "version_minor": 0,
              "model_id": "a9f75a79e9444ba19932e7930a0e6618"
            }
          },
          "metadata": {}
        },
        {
          "output_type": "stream",
          "name": "stdout",
          "text": [
            "Epoch [57/100], loss:0.0000\n",
            "Test Accuracy: 89.02%\n"
          ]
        },
        {
          "output_type": "display_data",
          "data": {
            "text/plain": [
              "Batching:   0%|          | 0/52 [00:00<?, ?it/s]"
            ],
            "application/vnd.jupyter.widget-view+json": {
              "version_major": 2,
              "version_minor": 0,
              "model_id": "22e46ea62a044df1a4896b8e76fecc95"
            }
          },
          "metadata": {}
        },
        {
          "output_type": "stream",
          "name": "stdout",
          "text": [
            "Epoch [58/100], loss:0.0000\n",
            "Test Accuracy: 89.02%\n"
          ]
        },
        {
          "output_type": "display_data",
          "data": {
            "text/plain": [
              "Batching:   0%|          | 0/52 [00:00<?, ?it/s]"
            ],
            "application/vnd.jupyter.widget-view+json": {
              "version_major": 2,
              "version_minor": 0,
              "model_id": "920cf123bb874cbb80c710f78ae09fe8"
            }
          },
          "metadata": {}
        },
        {
          "output_type": "stream",
          "name": "stdout",
          "text": [
            "Epoch [59/100], loss:0.0000\n",
            "Test Accuracy: 88.78%\n"
          ]
        },
        {
          "output_type": "display_data",
          "data": {
            "text/plain": [
              "Batching:   0%|          | 0/52 [00:00<?, ?it/s]"
            ],
            "application/vnd.jupyter.widget-view+json": {
              "version_major": 2,
              "version_minor": 0,
              "model_id": "a762f3e8e9824a5d8b08ffd29583b4f4"
            }
          },
          "metadata": {}
        },
        {
          "output_type": "stream",
          "name": "stdout",
          "text": [
            "Epoch [60/100], loss:0.0000\n",
            "Test Accuracy: 89.02%\n"
          ]
        },
        {
          "output_type": "display_data",
          "data": {
            "text/plain": [
              "Batching:   0%|          | 0/52 [00:00<?, ?it/s]"
            ],
            "application/vnd.jupyter.widget-view+json": {
              "version_major": 2,
              "version_minor": 0,
              "model_id": "17592fb2ce7540c0b0e623b1cc1c0e24"
            }
          },
          "metadata": {}
        },
        {
          "output_type": "stream",
          "name": "stdout",
          "text": [
            "Epoch [61/100], loss:0.0000\n",
            "Test Accuracy: 89.02%\n"
          ]
        },
        {
          "output_type": "display_data",
          "data": {
            "text/plain": [
              "Batching:   0%|          | 0/52 [00:00<?, ?it/s]"
            ],
            "application/vnd.jupyter.widget-view+json": {
              "version_major": 2,
              "version_minor": 0,
              "model_id": "2320fd5bdb3e46258198b19f288e4df2"
            }
          },
          "metadata": {}
        },
        {
          "output_type": "stream",
          "name": "stdout",
          "text": [
            "Epoch [62/100], loss:0.0000\n",
            "Test Accuracy: 89.02%\n"
          ]
        },
        {
          "output_type": "display_data",
          "data": {
            "text/plain": [
              "Batching:   0%|          | 0/52 [00:00<?, ?it/s]"
            ],
            "application/vnd.jupyter.widget-view+json": {
              "version_major": 2,
              "version_minor": 0,
              "model_id": "04e79d8c5af2483da5e03a7712f39860"
            }
          },
          "metadata": {}
        },
        {
          "output_type": "stream",
          "name": "stdout",
          "text": [
            "Epoch [63/100], loss:0.0000\n",
            "Test Accuracy: 89.02%\n"
          ]
        },
        {
          "output_type": "display_data",
          "data": {
            "text/plain": [
              "Batching:   0%|          | 0/52 [00:00<?, ?it/s]"
            ],
            "application/vnd.jupyter.widget-view+json": {
              "version_major": 2,
              "version_minor": 0,
              "model_id": "4aa5d29a26a249918b2afd6f4618cde1"
            }
          },
          "metadata": {}
        },
        {
          "output_type": "stream",
          "name": "stdout",
          "text": [
            "Epoch [64/100], loss:0.0000\n",
            "Test Accuracy: 88.78%\n"
          ]
        },
        {
          "output_type": "display_data",
          "data": {
            "text/plain": [
              "Batching:   0%|          | 0/52 [00:00<?, ?it/s]"
            ],
            "application/vnd.jupyter.widget-view+json": {
              "version_major": 2,
              "version_minor": 0,
              "model_id": "8d9bf6cc649c441297834e07727de64e"
            }
          },
          "metadata": {}
        },
        {
          "output_type": "stream",
          "name": "stdout",
          "text": [
            "Epoch [65/100], loss:0.0000\n",
            "Test Accuracy: 88.78%\n"
          ]
        },
        {
          "output_type": "display_data",
          "data": {
            "text/plain": [
              "Batching:   0%|          | 0/52 [00:00<?, ?it/s]"
            ],
            "application/vnd.jupyter.widget-view+json": {
              "version_major": 2,
              "version_minor": 0,
              "model_id": "ee0d1af09cad4d78892c71df9ad18090"
            }
          },
          "metadata": {}
        },
        {
          "output_type": "stream",
          "name": "stdout",
          "text": [
            "Epoch [66/100], loss:0.0000\n",
            "Test Accuracy: 88.78%\n"
          ]
        },
        {
          "output_type": "display_data",
          "data": {
            "text/plain": [
              "Batching:   0%|          | 0/52 [00:00<?, ?it/s]"
            ],
            "application/vnd.jupyter.widget-view+json": {
              "version_major": 2,
              "version_minor": 0,
              "model_id": "5c454ff98bb34d3b82186dd949d60b4c"
            }
          },
          "metadata": {}
        },
        {
          "output_type": "stream",
          "name": "stdout",
          "text": [
            "Epoch [67/100], loss:0.0000\n",
            "Test Accuracy: 88.78%\n"
          ]
        },
        {
          "output_type": "display_data",
          "data": {
            "text/plain": [
              "Batching:   0%|          | 0/52 [00:00<?, ?it/s]"
            ],
            "application/vnd.jupyter.widget-view+json": {
              "version_major": 2,
              "version_minor": 0,
              "model_id": "ca8c485406c14c5ea51bfe10aa98f922"
            }
          },
          "metadata": {}
        },
        {
          "output_type": "stream",
          "name": "stdout",
          "text": [
            "Epoch [68/100], loss:0.0000\n",
            "Test Accuracy: 88.78%\n"
          ]
        },
        {
          "output_type": "display_data",
          "data": {
            "text/plain": [
              "Batching:   0%|          | 0/52 [00:00<?, ?it/s]"
            ],
            "application/vnd.jupyter.widget-view+json": {
              "version_major": 2,
              "version_minor": 0,
              "model_id": "aca0e3fa154644a5b7e1279939128a6c"
            }
          },
          "metadata": {}
        },
        {
          "output_type": "stream",
          "name": "stdout",
          "text": [
            "Epoch [69/100], loss:0.0000\n",
            "Test Accuracy: 88.78%\n"
          ]
        },
        {
          "output_type": "display_data",
          "data": {
            "text/plain": [
              "Batching:   0%|          | 0/52 [00:00<?, ?it/s]"
            ],
            "application/vnd.jupyter.widget-view+json": {
              "version_major": 2,
              "version_minor": 0,
              "model_id": "c2f65480e4bd489386cf36ac5f49b3e0"
            }
          },
          "metadata": {}
        },
        {
          "output_type": "stream",
          "name": "stdout",
          "text": [
            "Epoch [70/100], loss:0.0000\n",
            "Test Accuracy: 88.78%\n"
          ]
        },
        {
          "output_type": "display_data",
          "data": {
            "text/plain": [
              "Batching:   0%|          | 0/52 [00:00<?, ?it/s]"
            ],
            "application/vnd.jupyter.widget-view+json": {
              "version_major": 2,
              "version_minor": 0,
              "model_id": "999d4d4b4af44f91ad48aa42b78ab9ce"
            }
          },
          "metadata": {}
        },
        {
          "output_type": "stream",
          "name": "stdout",
          "text": [
            "Epoch [71/100], loss:0.0000\n",
            "Test Accuracy: 88.78%\n"
          ]
        },
        {
          "output_type": "display_data",
          "data": {
            "text/plain": [
              "Batching:   0%|          | 0/52 [00:00<?, ?it/s]"
            ],
            "application/vnd.jupyter.widget-view+json": {
              "version_major": 2,
              "version_minor": 0,
              "model_id": "585aa61a810c4f17a65cb077681dd579"
            }
          },
          "metadata": {}
        },
        {
          "output_type": "stream",
          "name": "stdout",
          "text": [
            "Epoch [72/100], loss:0.0000\n",
            "Test Accuracy: 88.78%\n"
          ]
        },
        {
          "output_type": "display_data",
          "data": {
            "text/plain": [
              "Batching:   0%|          | 0/52 [00:00<?, ?it/s]"
            ],
            "application/vnd.jupyter.widget-view+json": {
              "version_major": 2,
              "version_minor": 0,
              "model_id": "5be1df2c59fc4e41ac06a7b346cf9097"
            }
          },
          "metadata": {}
        },
        {
          "output_type": "stream",
          "name": "stdout",
          "text": [
            "Epoch [73/100], loss:0.0000\n",
            "Test Accuracy: 88.78%\n"
          ]
        },
        {
          "output_type": "display_data",
          "data": {
            "text/plain": [
              "Batching:   0%|          | 0/52 [00:00<?, ?it/s]"
            ],
            "application/vnd.jupyter.widget-view+json": {
              "version_major": 2,
              "version_minor": 0,
              "model_id": "20c34449adbb4bd49bd6593371f29146"
            }
          },
          "metadata": {}
        },
        {
          "output_type": "stream",
          "name": "stdout",
          "text": [
            "Epoch [74/100], loss:0.0000\n",
            "Test Accuracy: 88.78%\n"
          ]
        },
        {
          "output_type": "display_data",
          "data": {
            "text/plain": [
              "Batching:   0%|          | 0/52 [00:00<?, ?it/s]"
            ],
            "application/vnd.jupyter.widget-view+json": {
              "version_major": 2,
              "version_minor": 0,
              "model_id": "395eaeef3f4849b787afaf4506f96f00"
            }
          },
          "metadata": {}
        },
        {
          "output_type": "stream",
          "name": "stdout",
          "text": [
            "Epoch [75/100], loss:0.0000\n",
            "Test Accuracy: 88.78%\n"
          ]
        },
        {
          "output_type": "display_data",
          "data": {
            "text/plain": [
              "Batching:   0%|          | 0/52 [00:00<?, ?it/s]"
            ],
            "application/vnd.jupyter.widget-view+json": {
              "version_major": 2,
              "version_minor": 0,
              "model_id": "0874ada9415c4da8a6ed15f8a40ea576"
            }
          },
          "metadata": {}
        },
        {
          "output_type": "stream",
          "name": "stdout",
          "text": [
            "Epoch [76/100], loss:0.0000\n",
            "Test Accuracy: 88.78%\n"
          ]
        },
        {
          "output_type": "display_data",
          "data": {
            "text/plain": [
              "Batching:   0%|          | 0/52 [00:00<?, ?it/s]"
            ],
            "application/vnd.jupyter.widget-view+json": {
              "version_major": 2,
              "version_minor": 0,
              "model_id": "5e92ec9737584b55a4008cff3e192146"
            }
          },
          "metadata": {}
        },
        {
          "output_type": "stream",
          "name": "stdout",
          "text": [
            "Epoch [77/100], loss:0.0000\n",
            "Test Accuracy: 88.78%\n"
          ]
        },
        {
          "output_type": "display_data",
          "data": {
            "text/plain": [
              "Batching:   0%|          | 0/52 [00:00<?, ?it/s]"
            ],
            "application/vnd.jupyter.widget-view+json": {
              "version_major": 2,
              "version_minor": 0,
              "model_id": "bacf965bd3d143cfadfc20cddfc388e7"
            }
          },
          "metadata": {}
        },
        {
          "output_type": "stream",
          "name": "stdout",
          "text": [
            "Epoch [78/100], loss:0.0000\n",
            "Test Accuracy: 88.78%\n"
          ]
        },
        {
          "output_type": "display_data",
          "data": {
            "text/plain": [
              "Batching:   0%|          | 0/52 [00:00<?, ?it/s]"
            ],
            "application/vnd.jupyter.widget-view+json": {
              "version_major": 2,
              "version_minor": 0,
              "model_id": "3ecc18c65fbe408a8b451529709c5001"
            }
          },
          "metadata": {}
        },
        {
          "output_type": "stream",
          "name": "stdout",
          "text": [
            "Epoch [79/100], loss:0.0000\n",
            "Test Accuracy: 88.78%\n"
          ]
        },
        {
          "output_type": "display_data",
          "data": {
            "text/plain": [
              "Batching:   0%|          | 0/52 [00:00<?, ?it/s]"
            ],
            "application/vnd.jupyter.widget-view+json": {
              "version_major": 2,
              "version_minor": 0,
              "model_id": "d9f2d2ba96e043f49616d056cd13fbb4"
            }
          },
          "metadata": {}
        },
        {
          "output_type": "stream",
          "name": "stdout",
          "text": [
            "Epoch [80/100], loss:0.0000\n",
            "Test Accuracy: 88.78%\n"
          ]
        },
        {
          "output_type": "display_data",
          "data": {
            "text/plain": [
              "Batching:   0%|          | 0/52 [00:00<?, ?it/s]"
            ],
            "application/vnd.jupyter.widget-view+json": {
              "version_major": 2,
              "version_minor": 0,
              "model_id": "0b5e140a85514172bfee5d4d1ea6a635"
            }
          },
          "metadata": {}
        },
        {
          "output_type": "stream",
          "name": "stdout",
          "text": [
            "Epoch [81/100], loss:0.0000\n",
            "Test Accuracy: 88.78%\n"
          ]
        },
        {
          "output_type": "display_data",
          "data": {
            "text/plain": [
              "Batching:   0%|          | 0/52 [00:00<?, ?it/s]"
            ],
            "application/vnd.jupyter.widget-view+json": {
              "version_major": 2,
              "version_minor": 0,
              "model_id": "6f3c181fc4f147ddb0893380eb525a67"
            }
          },
          "metadata": {}
        },
        {
          "output_type": "stream",
          "name": "stdout",
          "text": [
            "Epoch [82/100], loss:0.0000\n",
            "Test Accuracy: 88.78%\n"
          ]
        },
        {
          "output_type": "display_data",
          "data": {
            "text/plain": [
              "Batching:   0%|          | 0/52 [00:00<?, ?it/s]"
            ],
            "application/vnd.jupyter.widget-view+json": {
              "version_major": 2,
              "version_minor": 0,
              "model_id": "eb63584098c646f4a7279d4614c9b509"
            }
          },
          "metadata": {}
        },
        {
          "output_type": "stream",
          "name": "stdout",
          "text": [
            "Epoch [83/100], loss:0.0000\n",
            "Test Accuracy: 88.78%\n"
          ]
        },
        {
          "output_type": "display_data",
          "data": {
            "text/plain": [
              "Batching:   0%|          | 0/52 [00:00<?, ?it/s]"
            ],
            "application/vnd.jupyter.widget-view+json": {
              "version_major": 2,
              "version_minor": 0,
              "model_id": "84f1459a1e174387bad1d704a163c384"
            }
          },
          "metadata": {}
        },
        {
          "output_type": "stream",
          "name": "stdout",
          "text": [
            "Epoch [84/100], loss:0.0000\n",
            "Test Accuracy: 88.78%\n"
          ]
        },
        {
          "output_type": "display_data",
          "data": {
            "text/plain": [
              "Batching:   0%|          | 0/52 [00:00<?, ?it/s]"
            ],
            "application/vnd.jupyter.widget-view+json": {
              "version_major": 2,
              "version_minor": 0,
              "model_id": "7f654711b61644688d9eb3565cd52ec2"
            }
          },
          "metadata": {}
        },
        {
          "output_type": "stream",
          "name": "stdout",
          "text": [
            "Epoch [85/100], loss:0.0000\n",
            "Test Accuracy: 88.78%\n"
          ]
        },
        {
          "output_type": "display_data",
          "data": {
            "text/plain": [
              "Batching:   0%|          | 0/52 [00:00<?, ?it/s]"
            ],
            "application/vnd.jupyter.widget-view+json": {
              "version_major": 2,
              "version_minor": 0,
              "model_id": "2093afdc2ee74c1c94b1807d112e6532"
            }
          },
          "metadata": {}
        },
        {
          "output_type": "stream",
          "name": "stdout",
          "text": [
            "Epoch [86/100], loss:0.0000\n",
            "Test Accuracy: 88.78%\n"
          ]
        },
        {
          "output_type": "display_data",
          "data": {
            "text/plain": [
              "Batching:   0%|          | 0/52 [00:00<?, ?it/s]"
            ],
            "application/vnd.jupyter.widget-view+json": {
              "version_major": 2,
              "version_minor": 0,
              "model_id": "2b598e94a24346f8be51b070ce9f3d76"
            }
          },
          "metadata": {}
        },
        {
          "output_type": "stream",
          "name": "stdout",
          "text": [
            "Epoch [87/100], loss:0.0000\n",
            "Test Accuracy: 88.78%\n"
          ]
        },
        {
          "output_type": "display_data",
          "data": {
            "text/plain": [
              "Batching:   0%|          | 0/52 [00:00<?, ?it/s]"
            ],
            "application/vnd.jupyter.widget-view+json": {
              "version_major": 2,
              "version_minor": 0,
              "model_id": "751e905cc4474585bcb00f0f58227e89"
            }
          },
          "metadata": {}
        },
        {
          "output_type": "stream",
          "name": "stdout",
          "text": [
            "Epoch [88/100], loss:0.0000\n",
            "Test Accuracy: 88.78%\n"
          ]
        },
        {
          "output_type": "display_data",
          "data": {
            "text/plain": [
              "Batching:   0%|          | 0/52 [00:00<?, ?it/s]"
            ],
            "application/vnd.jupyter.widget-view+json": {
              "version_major": 2,
              "version_minor": 0,
              "model_id": "e78d230dbb4d478d910f04ffc9afcd12"
            }
          },
          "metadata": {}
        },
        {
          "output_type": "stream",
          "name": "stdout",
          "text": [
            "Epoch [89/100], loss:0.0000\n",
            "Test Accuracy: 88.78%\n"
          ]
        },
        {
          "output_type": "display_data",
          "data": {
            "text/plain": [
              "Batching:   0%|          | 0/52 [00:00<?, ?it/s]"
            ],
            "application/vnd.jupyter.widget-view+json": {
              "version_major": 2,
              "version_minor": 0,
              "model_id": "164d0036556448568b023fc06638e7eb"
            }
          },
          "metadata": {}
        },
        {
          "output_type": "stream",
          "name": "stdout",
          "text": [
            "Epoch [90/100], loss:0.0000\n",
            "Test Accuracy: 88.78%\n"
          ]
        },
        {
          "output_type": "display_data",
          "data": {
            "text/plain": [
              "Batching:   0%|          | 0/52 [00:00<?, ?it/s]"
            ],
            "application/vnd.jupyter.widget-view+json": {
              "version_major": 2,
              "version_minor": 0,
              "model_id": "b8e96753793d4ef08f07f18546e9d806"
            }
          },
          "metadata": {}
        },
        {
          "output_type": "stream",
          "name": "stdout",
          "text": [
            "Epoch [91/100], loss:0.0000\n",
            "Test Accuracy: 88.78%\n"
          ]
        },
        {
          "output_type": "display_data",
          "data": {
            "text/plain": [
              "Batching:   0%|          | 0/52 [00:00<?, ?it/s]"
            ],
            "application/vnd.jupyter.widget-view+json": {
              "version_major": 2,
              "version_minor": 0,
              "model_id": "9dcf8acf817d4c1cbed377cf21d7e351"
            }
          },
          "metadata": {}
        },
        {
          "output_type": "stream",
          "name": "stdout",
          "text": [
            "Epoch [92/100], loss:0.0000\n",
            "Test Accuracy: 88.78%\n"
          ]
        },
        {
          "output_type": "display_data",
          "data": {
            "text/plain": [
              "Batching:   0%|          | 0/52 [00:00<?, ?it/s]"
            ],
            "application/vnd.jupyter.widget-view+json": {
              "version_major": 2,
              "version_minor": 0,
              "model_id": "4ac39c3c24704da68cdf133e304a87b2"
            }
          },
          "metadata": {}
        },
        {
          "output_type": "stream",
          "name": "stdout",
          "text": [
            "Epoch [93/100], loss:0.0000\n",
            "Test Accuracy: 88.78%\n"
          ]
        },
        {
          "output_type": "display_data",
          "data": {
            "text/plain": [
              "Batching:   0%|          | 0/52 [00:00<?, ?it/s]"
            ],
            "application/vnd.jupyter.widget-view+json": {
              "version_major": 2,
              "version_minor": 0,
              "model_id": "f35e1854ca914047b002c3c7c246d78a"
            }
          },
          "metadata": {}
        },
        {
          "output_type": "stream",
          "name": "stdout",
          "text": [
            "Epoch [94/100], loss:0.0000\n",
            "Test Accuracy: 88.78%\n"
          ]
        },
        {
          "output_type": "display_data",
          "data": {
            "text/plain": [
              "Batching:   0%|          | 0/52 [00:00<?, ?it/s]"
            ],
            "application/vnd.jupyter.widget-view+json": {
              "version_major": 2,
              "version_minor": 0,
              "model_id": "3940f616a8a9421fbb00e62bdac29cb1"
            }
          },
          "metadata": {}
        },
        {
          "output_type": "stream",
          "name": "stdout",
          "text": [
            "Epoch [95/100], loss:0.0000\n",
            "Test Accuracy: 88.78%\n"
          ]
        },
        {
          "output_type": "display_data",
          "data": {
            "text/plain": [
              "Batching:   0%|          | 0/52 [00:00<?, ?it/s]"
            ],
            "application/vnd.jupyter.widget-view+json": {
              "version_major": 2,
              "version_minor": 0,
              "model_id": "14a7462cc66b4722b3bfc762f3b8ee4d"
            }
          },
          "metadata": {}
        },
        {
          "output_type": "stream",
          "name": "stdout",
          "text": [
            "Epoch [96/100], loss:0.0000\n",
            "Test Accuracy: 88.78%\n"
          ]
        },
        {
          "output_type": "display_data",
          "data": {
            "text/plain": [
              "Batching:   0%|          | 0/52 [00:00<?, ?it/s]"
            ],
            "application/vnd.jupyter.widget-view+json": {
              "version_major": 2,
              "version_minor": 0,
              "model_id": "3f5366c517cc4b7ba6f10ed6532977b3"
            }
          },
          "metadata": {}
        },
        {
          "output_type": "stream",
          "name": "stdout",
          "text": [
            "Epoch [97/100], loss:0.0000\n",
            "Test Accuracy: 88.78%\n"
          ]
        },
        {
          "output_type": "display_data",
          "data": {
            "text/plain": [
              "Batching:   0%|          | 0/52 [00:00<?, ?it/s]"
            ],
            "application/vnd.jupyter.widget-view+json": {
              "version_major": 2,
              "version_minor": 0,
              "model_id": "b6b2da9a48454677a8c68915c8d79271"
            }
          },
          "metadata": {}
        },
        {
          "output_type": "stream",
          "name": "stdout",
          "text": [
            "Epoch [98/100], loss:0.0000\n",
            "Test Accuracy: 88.78%\n"
          ]
        },
        {
          "output_type": "display_data",
          "data": {
            "text/plain": [
              "Batching:   0%|          | 0/52 [00:00<?, ?it/s]"
            ],
            "application/vnd.jupyter.widget-view+json": {
              "version_major": 2,
              "version_minor": 0,
              "model_id": "53246729fa3d445395ba413ad867a783"
            }
          },
          "metadata": {}
        },
        {
          "output_type": "stream",
          "name": "stdout",
          "text": [
            "Epoch [99/100], loss:0.0000\n",
            "Test Accuracy: 88.78%\n"
          ]
        },
        {
          "output_type": "display_data",
          "data": {
            "text/plain": [
              "Batching:   0%|          | 0/52 [00:00<?, ?it/s]"
            ],
            "application/vnd.jupyter.widget-view+json": {
              "version_major": 2,
              "version_minor": 0,
              "model_id": "4743fca7e15d48c38e5ff88093ffe833"
            }
          },
          "metadata": {}
        },
        {
          "output_type": "stream",
          "name": "stdout",
          "text": [
            "Epoch [100/100], loss:0.0000\n",
            "Test Accuracy: 88.78%\n"
          ]
        }
      ]
    },
    {
      "cell_type": "code",
      "source": [
        "import matplotlib.pyplot as plt\n",
        "plt.plot(torch.tensor(lossi).view(-1, 20).mean(1))"
      ],
      "metadata": {
        "colab": {
          "base_uri": "https://localhost:8080/",
          "height": 451
        },
        "id": "12CXMmxMh2eZ",
        "outputId": "6a3fabba-7189-435a-a0a8-ec141d982b62"
      },
      "execution_count": null,
      "outputs": [
        {
          "output_type": "execute_result",
          "data": {
            "text/plain": [
              "[<matplotlib.lines.Line2D at 0x7eca62782c50>]"
            ]
          },
          "metadata": {},
          "execution_count": 71
        },
        {
          "output_type": "display_data",
          "data": {
            "text/plain": [
              "<Figure size 640x480 with 1 Axes>"
            ],
            "image/png": "[encoded data removed]"
          },
          "metadata": {}
        }
      ]
    },
    {
      "cell_type": "markdown",
      "source": [],
      "metadata": {
        "id": "az8Y_ZKkdNpD"
      }
    }
  ]
}
