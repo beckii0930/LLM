{
  "nbformat": 4,
  "nbformat_minor": 0,
  "metadata": {
    "colab": {
      "provenance": [],
      "authorship_tag": "ABX9TyMd7+vl5hol03LfE51oWo1n",
      "include_colab_link": true
    },
    "kernelspec": {
      "name": "python3",
      "display_name": "Python 3"
    },
    "language_info": {
      "name": "python"
    }


  },
  "cells": [
    {
      "cell_type": "markdown",
      "metadata": {
        "id": "view-in-github",
        "colab_type": "text"
      },
      "source": [
        "<a href=\"https://colab.research.google.com/github/beckii0930/LLM/blob/main/esm2_binding.ipynb\" target=\"_parent\"><img src=\"https://colab.research.google.com/assets/colab-badge.svg\" alt=\"Open In Colab\"/></a>"
      ]
    },
    {
      "cell_type": "code",
      "execution_count": 9,
      "metadata": {
        "colab": {
          "base_uri": "https://localhost:8080/"
        },
        "id": "maWJw9ixTjp6",
        "outputId": "d39670a4-6a73-4a78-e99b-804f356a1b96"
      },
      "outputs": [
        {
          "output_type": "stream",
          "name": "stdout",
          "text": [
            "Mounted at /content/drive\n"
          ]
        }
      ],
      "source": [
        "from google.colab import files\n",
        "from google.colab import drive\n",
        "drive.mount('/content/drive')\n",
        "# files.upload()  # Upload kaggle.json\n",
        "# !mkdir -p ~/.kaggle\n",
        "# !cp kaggle.json ~/.kaggle/\n",
        "# !chmod 600 ~/.kaggle/kaggle.json"
      ]
    },
    {
      "cell_type": "code",
      "source": [
        "!ls drive/MyDrive/Colab\\ Notebooks/subset_binding_data.csv"
      ],
      "metadata": {
        "colab": {
          "base_uri": "https://localhost:8080/"
        },
        "id": "1DEZzXfwC6pY",
        "outputId": "2372fe2a-cf8c-4dc7-f8b1-9e609fccf1bb"
      },
      "execution_count": 18,
      "outputs": [
        {
          "output_type": "stream",
          "name": "stdout",
          "text": [
            " chembert_BBBP.ipynb    esm2_binding.ipynb\n",
            "'Copy of Yibei.ipynb'   subset_binding_data.csv\n"
          ]
        }
      ]
    },
    {
      "cell_type": "code",
      "source": [
        "import pandas as pd\n",
        "\n",
        "# Load full dataset\n",
        "df = pd.read_csv(\"drive/MyDrive/Colab Notebooks/subset_binding_data.csv\")\n"
      ],
      "metadata": {
        "id": "IBOwx0xTT31l"
      },
      "execution_count": 22,
      "outputs": []
    },
    {
      "cell_type": "code",
      "source": [
        "df.head()# df_filtered = df.dropna(subset=[\"aa_seq\", \"ddG_ML\"])\n",
        "\n",
        "# # Step 3: Rename and extract relevant columns\n",
        "# df_model_input = df_filtered[[\"aa_seq\", \"ddG_ML\"]].copy()\n",
        "# df_model_input = df_model_input.rename(columns={\n",
        "#     \"aa_seq\": \"sequence\",\n",
        "#     \"ddG_ML\": \"ddg\"\n",
        "# })\n"
      ],
      "metadata": {
        "colab": {
          "base_uri": "https://localhost:8080/",
          "height": 256
        },
        "id": "bHR_nCglCFtl",
        "outputId": "9e7f6861-99fc-46f3-d045-05fc2357c454"
      },
      "execution_count": 24,
      "outputs": [
        {
          "output_type": "execute_result",
          "data": {
            "text/plain": [
              "                         name  \\\n",
              "0             2LCL.pdb_insA51   \n",
              "1               2RRT.pdb_V56K   \n",
              "2               2KT8.pdb_K62R   \n",
              "3    2KGT.pdb_hnet3_T40A:Q51C   \n",
              "4  r6_831_TrROS_Hall.pdb_V16K   \n",
              "\n",
              "                                             dna_seq  log10_K50_t  \\\n",
              "0  TCTGCGGGTGGTTCCGCTGGTGGTGCGACTCCATATCCGGGCGACA...    -1.064787   \n",
              "1  TCTGCGTCTGAAGAAGAAATCCGTGAAGCGTTCCGTGTTTTCGACA...    -0.375956   \n",
              "2  TCTGCGGCGGAAAAGACCGGTATCGTTAATGTTTCTTCTTCTCTGA...     2.515073   \n",
              "3  TCTGCTGGCGGCTCCGCTGGCGGTCTGGGTCCGAAATACGTTGGTC...    -0.420311   \n",
              "4  TCCGCGGGTGGCTCTGCTGGTGGCATGGTTTACAAAATCCGTGACA...    -0.679932   \n",
              "\n",
              "   log10_K50_t_95CI_high  log10_K50_t_95CI_low  log10_K50_t_95CI  \\\n",
              "0              -1.006837             -1.147820          0.140983   \n",
              "1              -0.371520             -0.382949          0.011429   \n",
              "2               2.585186              2.460655          0.124531   \n",
              "3              -0.348913             -0.444899          0.095985   \n",
              "4              -0.623467             -0.805034          0.181567   \n",
              "\n",
              "   fitting_error_t  log10_K50unfolded_t   deltaG_t  deltaG_t_95CI_high  ...  \\\n",
              "0         0.046020            -1.235202  -0.424914           -0.213474  ...   \n",
              "1         0.054913            -0.867813   0.432072            0.440799  ...   \n",
              "2         0.078765            -0.873917  15.000000           25.000000  ...   \n",
              "3         0.072363            -1.314094   1.115097            1.223305  ...   \n",
              "4         0.042416            -0.785199  -0.749894           -0.461134  ...   \n",
              "\n",
              "                                              aa_seq   mut_type  \\\n",
              "0  ATPYPGDKVIITEGAFEGFQAIFTEPDGEARSMLLLNLINKEIKHS...     insA51   \n",
              "1  SEEEIREAFRVFDKDGNGYISAADLRHVMTNLGEKLTDEEVDEMIR...       V56K   \n",
              "2  AEKTGIVNVSSSLNVREGASTSSKVIGSLSGNTKVTIVGEEGAFYK...       K62R   \n",
              "3  LGPKYVGLWDFKSRTDEELSFRAGDVFHVARKEEQWWWAALLDEAG...  T40A:Q51C   \n",
              "4  MVYKIRDKETGKVYEKTIDEETNEITVYDVKTGKPVKTVNMTIEEL...       V16K   \n",
              "\n",
              "                 WT_name  WT_cluster  log10_K50_trypsin_ML  \\\n",
              "0               2LCL.pdb         131   -1.0647869107579346   \n",
              "1               2RRT.pdb         186   -0.3759559230904258   \n",
              "2               2KT8.pdb          44                 >2.25   \n",
              "3               2KGT.pdb          15   -0.4203113179664294   \n",
              "4  r6_831_TrROS_Hall.pdb        hall   -0.6799320693182083   \n",
              "\n",
              "   log10_K50_chymotrypsin_ML                dG_ML               ddG_ML  \\\n",
              "0         -2.243871736716254  -0.3603994746424429  -1.0710246962721528   \n",
              "1        -1.2250190908144811   0.8955175909836419   -2.547742410612835   \n",
              "2                      >1.75                   >5                    -   \n",
              "3        -1.7438100390016809   1.2261035761269212  -0.8283828183840722   \n",
              "4          -2.13127695213514  -0.5652537844714536  -3.9804835899703503   \n",
              "\n",
              "   Stabilizing_mut       pair_name  \n",
              "0            False             NaN  \n",
              "1            False             NaN  \n",
              "2                -             NaN  \n",
              "3            False  2KGT.pdb_hnet3  \n",
              "4            False             NaN  \n",
              "\n",
              "[5 rows x 37 columns]"
            ],
            "text/html": [
              "\n",
              "  <div id=\"df-8821aa0c-5717-4b4b-bdcc-624ec10ec644\" class=\"colab-df-container\">\n",
              "    <div>\n",
              "<style scoped>\n",
              "    .dataframe tbody tr th:only-of-type {\n",
              "        vertical-align: middle;\n",
              "    }\n",
              "\n",
              "    .dataframe tbody tr th {\n",
              "        vertical-align: top;\n",
              "    }\n",
              "\n",
              "    .dataframe thead th {\n",
              "        text-align: right;\n",
              "    }\n",
              "</style>\n",
              "<table border=\"1\" class=\"dataframe\">\n",
              "  <thead>\n",
              "    <tr style=\"text-align: right;\">\n",
              "      <th></th>\n",
              "      <th>name</th>\n",
              "      <th>dna_seq</th>\n",
              "      <th>log10_K50_t</th>\n",
              "      <th>log10_K50_t_95CI_high</th>\n",
              "      <th>log10_K50_t_95CI_low</th>\n",
              "      <th>log10_K50_t_95CI</th>\n",
              "      <th>fitting_error_t</th>\n",
              "      <th>log10_K50unfolded_t</th>\n",
              "      <th>deltaG_t</th>\n",
              "      <th>deltaG_t_95CI_high</th>\n",
              "      <th>...</th>\n",
              "      <th>aa_seq</th>\n",
              "      <th>mut_type</th>\n",
              "      <th>WT_name</th>\n",
              "      <th>WT_cluster</th>\n",
              "      <th>log10_K50_trypsin_ML</th>\n",
              "      <th>log10_K50_chymotrypsin_ML</th>\n",
              "      <th>dG_ML</th>\n",
              "      <th>ddG_ML</th>\n",
              "      <th>Stabilizing_mut</th>\n",
              "      <th>pair_name</th>\n",
              "    </tr>\n",
              "  </thead>\n",
              "  <tbody>\n",
              "    <tr>\n",
              "      <th>0</th>\n",
              "      <td>2LCL.pdb_insA51</td>\n",
              "      <td>TCTGCGGGTGGTTCCGCTGGTGGTGCGACTCCATATCCGGGCGACA...</td>\n",
              "      <td>-1.064787</td>\n",
              "      <td>-1.006837</td>\n",
              "      <td>-1.147820</td>\n",
              "      <td>0.140983</td>\n",
              "      <td>0.046020</td>\n",
              "      <td>-1.235202</td>\n",
              "      <td>-0.424914</td>\n",
              "      <td>-0.213474</td>\n",
              "      <td>...</td>\n",
              "      <td>ATPYPGDKVIITEGAFEGFQAIFTEPDGEARSMLLLNLINKEIKHS...</td>\n",
              "      <td>insA51</td>\n",
              "      <td>2LCL.pdb</td>\n",
              "      <td>131</td>\n",
              "      <td>-1.0647869107579346</td>\n",
              "      <td>-2.243871736716254</td>\n",
              "      <td>-0.3603994746424429</td>\n",
              "      <td>-1.0710246962721528</td>\n",
              "      <td>False</td>\n",
              "      <td>NaN</td>\n",
              "    </tr>\n",
              "    <tr>\n",
              "      <th>1</th>\n",
              "      <td>2RRT.pdb_V56K</td>\n",
              "      <td>TCTGCGTCTGAAGAAGAAATCCGTGAAGCGTTCCGTGTTTTCGACA...</td>\n",
              "      <td>-0.375956</td>\n",
              "      <td>-0.371520</td>\n",
              "      <td>-0.382949</td>\n",
              "      <td>0.011429</td>\n",
              "      <td>0.054913</td>\n",
              "      <td>-0.867813</td>\n",
              "      <td>0.432072</td>\n",
              "      <td>0.440799</td>\n",
              "      <td>...</td>\n",
              "      <td>SEEEIREAFRVFDKDGNGYISAADLRHVMTNLGEKLTDEEVDEMIR...</td>\n",
              "      <td>V56K</td>\n",
              "      <td>2RRT.pdb</td>\n",
              "      <td>186</td>\n",
              "      <td>-0.3759559230904258</td>\n",
              "      <td>-1.2250190908144811</td>\n",
              "      <td>0.8955175909836419</td>\n",
              "      <td>-2.547742410612835</td>\n",
              "      <td>False</td>\n",
              "      <td>NaN</td>\n",
              "    </tr>\n",
              "    <tr>\n",
              "      <th>2</th>\n",
              "      <td>2KT8.pdb_K62R</td>\n",
              "      <td>TCTGCGGCGGAAAAGACCGGTATCGTTAATGTTTCTTCTTCTCTGA...</td>\n",
              "      <td>2.515073</td>\n",
              "      <td>2.585186</td>\n",
              "      <td>2.460655</td>\n",
              "      <td>0.124531</td>\n",
              "      <td>0.078765</td>\n",
              "      <td>-0.873917</td>\n",
              "      <td>15.000000</td>\n",
              "      <td>25.000000</td>\n",
              "      <td>...</td>\n",
              "      <td>AEKTGIVNVSSSLNVREGASTSSKVIGSLSGNTKVTIVGEEGAFYK...</td>\n",
              "      <td>K62R</td>\n",
              "      <td>2KT8.pdb</td>\n",
              "      <td>44</td>\n",
              "      <td>&gt;2.25</td>\n",
              "      <td>&gt;1.75</td>\n",
              "      <td>&gt;5</td>\n",
              "      <td>-</td>\n",
              "      <td>-</td>\n",
              "      <td>NaN</td>\n",
              "    </tr>\n",
              "    <tr>\n",
              "      <th>3</th>\n",
              "      <td>2KGT.pdb_hnet3_T40A:Q51C</td>\n",
              "      <td>TCTGCTGGCGGCTCCGCTGGCGGTCTGGGTCCGAAATACGTTGGTC...</td>\n",
              "      <td>-0.420311</td>\n",
              "      <td>-0.348913</td>\n",
              "      <td>-0.444899</td>\n",
              "      <td>0.095985</td>\n",
              "      <td>0.072363</td>\n",
              "      <td>-1.314094</td>\n",
              "      <td>1.115097</td>\n",
              "      <td>1.223305</td>\n",
              "      <td>...</td>\n",
              "      <td>LGPKYVGLWDFKSRTDEELSFRAGDVFHVARKEEQWWWAALLDEAG...</td>\n",
              "      <td>T40A:Q51C</td>\n",
              "      <td>2KGT.pdb</td>\n",
              "      <td>15</td>\n",
              "      <td>-0.4203113179664294</td>\n",
              "      <td>-1.7438100390016809</td>\n",
              "      <td>1.2261035761269212</td>\n",
              "      <td>-0.8283828183840722</td>\n",
              "      <td>False</td>\n",
              "      <td>2KGT.pdb_hnet3</td>\n",
              "    </tr>\n",
              "    <tr>\n",
              "      <th>4</th>\n",
              "      <td>r6_831_TrROS_Hall.pdb_V16K</td>\n",
              "      <td>TCCGCGGGTGGCTCTGCTGGTGGCATGGTTTACAAAATCCGTGACA...</td>\n",
              "      <td>-0.679932</td>\n",
              "      <td>-0.623467</td>\n",
              "      <td>-0.805034</td>\n",
              "      <td>0.181567</td>\n",
              "      <td>0.042416</td>\n",
              "      <td>-0.785199</td>\n",
              "      <td>-0.749894</td>\n",
              "      <td>-0.461134</td>\n",
              "      <td>...</td>\n",
              "      <td>MVYKIRDKETGKVYEKTIDEETNEITVYDVKTGKPVKTVNMTIEEL...</td>\n",
              "      <td>V16K</td>\n",
              "      <td>r6_831_TrROS_Hall.pdb</td>\n",
              "      <td>hall</td>\n",
              "      <td>-0.6799320693182083</td>\n",
              "      <td>-2.13127695213514</td>\n",
              "      <td>-0.5652537844714536</td>\n",
              "      <td>-3.9804835899703503</td>\n",
              "      <td>False</td>\n",
              "      <td>NaN</td>\n",
              "    </tr>\n",
              "  </tbody>\n",
              "</table>\n",
              "<p>5 rows × 37 columns</p>\n",
              "</div>\n",
              "    <div class=\"colab-df-buttons\">\n",
              "\n",
              "  <div class=\"colab-df-container\">\n",
              "    <button class=\"colab-df-convert\" onclick=\"convertToInteractive('df-8821aa0c-5717-4b4b-bdcc-624ec10ec644')\"\n",
              "            title=\"Convert this dataframe to an interactive table.\"\n",
              "            style=\"display:none;\">\n",
              "\n",
              "  <svg xmlns=\"http://www.w3.org/2000/svg\" height=\"24px\" viewBox=\"0 -960 960 960\">\n",
              "    <path d=\"M120-120v-720h720v720H120Zm60-500h600v-160H180v160Zm220 220h160v-160H400v160Zm0 220h160v-160H400v160ZM180-400h160v-160H180v160Zm440 0h160v-160H620v160ZM180-180h160v-160H180v160Zm440 0h160v-160H620v160Z\"/>\n",
              "  </svg>\n",
              "    </button>\n",
              "\n",
              "  <style>\n",
              "    .colab-df-container {\n",
              "      display:flex;\n",
              "      gap: 12px;\n",
              "    }\n",
              "\n",
              "    .colab-df-convert {\n",
              "      background-color: #E8F0FE;\n",
              "      border: none;\n",
              "      border-radius: 50%;\n",
              "      cursor: pointer;\n",
              "      display: none;\n",
              "      fill: #1967D2;\n",
              "      height: 32px;\n",
              "      padding: 0 0 0 0;\n",
              "      width: 32px;\n",
              "    }\n",
              "\n",
              "    .colab-df-convert:hover {\n",
              "      background-color: #E2EBFA;\n",
              "      box-shadow: 0px 1px 2px rgba(60, 64, 67, 0.3), 0px 1px 3px 1px rgba(60, 64, 67, 0.15);\n",
              "      fill: #174EA6;\n",
              "    }\n",
              "\n",
              "    .colab-df-buttons div {\n",
              "      margin-bottom: 4px;\n",
              "    }\n",
              "\n",
              "    [theme=dark] .colab-df-convert {\n",
              "      background-color: #3B4455;\n",
              "      fill: #D2E3FC;\n",
              "    }\n",
              "\n",
              "    [theme=dark] .colab-df-convert:hover {\n",
              "      background-color: #434B5C;\n",
              "      box-shadow: 0px 1px 3px 1px rgba(0, 0, 0, 0.15);\n",
              "      filter: drop-shadow(0px 1px 2px rgba(0, 0, 0, 0.3));\n",
              "      fill: #FFFFFF;\n",
              "    }\n",
              "  </style>\n",
              "\n",
              "    <script>\n",
              "      const buttonEl =\n",
              "        document.querySelector('#df-8821aa0c-5717-4b4b-bdcc-624ec10ec644 button.colab-df-convert');\n",
              "      buttonEl.style.display =\n",
              "        google.colab.kernel.accessAllowed ? 'block' : 'none';\n",
              "\n",
              "      async function convertToInteractive(key) {\n",
              "        const element = document.querySelector('#df-8821aa0c-5717-4b4b-bdcc-624ec10ec644');\n",
              "        const dataTable =\n",
              "          await google.colab.kernel.invokeFunction('convertToInteractive',\n",
              "                                                    [key], {});\n",
              "        if (!dataTable) return;\n",
              "\n",
              "        const docLinkHtml = 'Like what you see? Visit the ' +\n",
              "          '<a target=\"_blank\" href=https://colab.research.google.com/notebooks/data_table.ipynb>data table notebook</a>'\n",
              "          + ' to learn more about interactive tables.';\n",
              "        element.innerHTML = '';\n",
              "        dataTable['output_type'] = 'display_data';\n",
              "        await google.colab.output.renderOutput(dataTable, element);\n",
              "        const docLink = document.createElement('div');\n",
              "        docLink.innerHTML = docLinkHtml;\n",
              "        element.appendChild(docLink);\n",
              "      }\n",
              "    </script>\n",
              "  </div>\n",
              "\n",
              "\n",
              "    <div id=\"df-631933ff-38db-4ae6-b412-6262ad948441\">\n",
              "      <button class=\"colab-df-quickchart\" onclick=\"quickchart('df-631933ff-38db-4ae6-b412-6262ad948441')\"\n",
              "                title=\"Suggest charts\"\n",
              "                style=\"display:none;\">\n",
              "\n",
              "<svg xmlns=\"http://www.w3.org/2000/svg\" height=\"24px\"viewBox=\"0 0 24 24\"\n",
              "     width=\"24px\">\n",
              "    <g>\n",
              "        <path d=\"M19 3H5c-1.1 0-2 .9-2 2v14c0 1.1.9 2 2 2h14c1.1 0 2-.9 2-2V5c0-1.1-.9-2-2-2zM9 17H7v-7h2v7zm4 0h-2V7h2v10zm4 0h-2v-4h2v4z\"/>\n",
              "    </g>\n",
              "</svg>\n",
              "      </button>\n",
              "\n",
              "<style>\n",
              "  .colab-df-quickchart {\n",
              "      --bg-color: #E8F0FE;\n",
              "      --fill-color: #1967D2;\n",
              "      --hover-bg-color: #E2EBFA;\n",
              "      --hover-fill-color: #174EA6;\n",
              "      --disabled-fill-color: #AAA;\n",
              "      --disabled-bg-color: #DDD;\n",
              "  }\n",
              "\n",
              "  [theme=dark] .colab-df-quickchart {\n",
              "      --bg-color: #3B4455;\n",
              "      --fill-color: #D2E3FC;\n",
              "      --hover-bg-color: #434B5C;\n",
              "      --hover-fill-color: #FFFFFF;\n",
              "      --disabled-bg-color: #3B4455;\n",
              "      --disabled-fill-color: #666;\n",
              "  }\n",
              "\n",
              "  .colab-df-quickchart {\n",
              "    background-color: var(--bg-color);\n",
              "    border: none;\n",
              "    border-radius: 50%;\n",
              "    cursor: pointer;\n",
              "    display: none;\n",
              "    fill: var(--fill-color);\n",
              "    height: 32px;\n",
              "    padding: 0;\n",
              "    width: 32px;\n",
              "  }\n",
              "\n",
              "  .colab-df-quickchart:hover {\n",
              "    background-color: var(--hover-bg-color);\n",
              "    box-shadow: 0 1px 2px rgba(60, 64, 67, 0.3), 0 1px 3px 1px rgba(60, 64, 67, 0.15);\n",
              "    fill: var(--button-hover-fill-color);\n",
              "  }\n",
              "\n",
              "  .colab-df-quickchart-complete:disabled,\n",
              "  .colab-df-quickchart-complete:disabled:hover {\n",
              "    background-color: var(--disabled-bg-color);\n",
              "    fill: var(--disabled-fill-color);\n",
              "    box-shadow: none;\n",
              "  }\n",
              "\n",
              "  .colab-df-spinner {\n",
              "    border: 2px solid var(--fill-color);\n",
              "    border-color: transparent;\n",
              "    border-bottom-color: var(--fill-color);\n",
              "    animation:\n",
              "      spin 1s steps(1) infinite;\n",
              "  }\n",
              "\n",
              "  @keyframes spin {\n",
              "    0% {\n",
              "      border-color: transparent;\n",
              "      border-bottom-color: var(--fill-color);\n",
              "      border-left-color: var(--fill-color);\n",
              "    }\n",
              "    20% {\n",
              "      border-color: transparent;\n",
              "      border-left-color: var(--fill-color);\n",
              "      border-top-color: var(--fill-color);\n",
              "    }\n",
              "    30% {\n",
              "      border-color: transparent;\n",
              "      border-left-color: var(--fill-color);\n",
              "      border-top-color: var(--fill-color);\n",
              "      border-right-color: var(--fill-color);\n",
              "    }\n",
              "    40% {\n",
              "      border-color: transparent;\n",
              "      border-right-color: var(--fill-color);\n",
              "      border-top-color: var(--fill-color);\n",
              "    }\n",
              "    60% {\n",
              "      border-color: transparent;\n",
              "      border-right-color: var(--fill-color);\n",
              "    }\n",
              "    80% {\n",
              "      border-color: transparent;\n",
              "      border-right-color: var(--fill-color);\n",
              "      border-bottom-color: var(--fill-color);\n",
              "    }\n",
              "    90% {\n",
              "      border-color: transparent;\n",
              "      border-bottom-color: var(--fill-color);\n",
              "    }\n",
              "  }\n",
              "</style>\n",
              "\n",
              "      <script>\n",
              "        async function quickchart(key) {\n",
              "          const quickchartButtonEl =\n",
              "            document.querySelector('#' + key + ' button');\n",
              "          quickchartButtonEl.disabled = true;  // To prevent multiple clicks.\n",
              "          quickchartButtonEl.classList.add('colab-df-spinner');\n",
              "          try {\n",
              "            const charts = await google.colab.kernel.invokeFunction(\n",
              "                'suggestCharts', [key], {});\n",
              "          } catch (error) {\n",
              "            console.error('Error during call to suggestCharts:', error);\n",
              "          }\n",
              "          quickchartButtonEl.classList.remove('colab-df-spinner');\n",
              "          quickchartButtonEl.classList.add('colab-df-quickchart-complete');\n",
              "        }\n",
              "        (() => {\n",
              "          let quickchartButtonEl =\n",
              "            document.querySelector('#df-631933ff-38db-4ae6-b412-6262ad948441 button');\n",
              "          quickchartButtonEl.style.display =\n",
              "            google.colab.kernel.accessAllowed ? 'block' : 'none';\n",
              "        })();\n",
              "      </script>\n",
              "    </div>\n",
              "\n",
              "    </div>\n",
              "  </div>\n"
            ],
            "application/vnd.google.colaboratory.intrinsic+json": {
              "type": "dataframe"
            }
          },
          "metadata": {},
          "execution_count": 24
        }
      ]
    },
    {
      "cell_type": "code",
      "source": [
        "!pip install fair-esm\n"
      ],
      "metadata": {
        "colab": {
          "base_uri": "https://localhost:8080/"
        },
        "id": "AKAtroQACl6g",
        "outputId": "abb61b4f-523a-4a8e-a0e2-a22d516c1bc6"
      },
      "execution_count": 27,
      "outputs": [
        {
          "output_type": "stream",
          "name": "stdout",
          "text": [
            "Collecting fair-esm\n",
            "  Downloading fair_esm-2.0.0-py3-none-any.whl.metadata (37 kB)\n",
            "Downloading fair_esm-2.0.0-py3-none-any.whl (93 kB)\n",
            "\u001b[2K   \u001b[90m━━━━━━━━━━━━━━━━━━━━━━━━━━━━━━━━━━━━━━━━\u001b[0m \u001b[32m93.1/93.1 kB\u001b[0m \u001b[31m4.4 MB/s\u001b[0m eta \u001b[36m0:00:00\u001b[0m\n",
            "\u001b[?25hInstalling collected packages: fair-esm\n",
            "Successfully installed fair-esm-2.0.0\n"
          ]
        }
      ]
    },
    {
      "cell_type": "code",
      "source": [
        "import torch, esm\n",
        "\n",
        "import pandas as pd\n",
        "import torch\n",
        "from torch.utils.data import Dataset, DataLoader\n",
        "from transformers import AutoTokenizer, AutoModel\n",
        "\n",
        "tokenizer = AutoTokenizer.from_pretrained(\"facebook/esm2_t6_8M_UR50D\")\n",
        "pretrained_model = AutoModel.from_pretrained(\"facebook/esm2_t6_8M_UR50D\")\n",
        "#esm2_t33_650M_UR50D too big\n",
        "\n",
        "# tokenizer\n",
        "def seq_to_embedding(sequence):\n",
        "  inputs = tokenizer(sequence, return_tensors='pt', padding = True,\n",
        "                     truncation = True)\n",
        "  with torch.no_grad():\n",
        "    outputs = pretrained_model(**inputs)\n",
        "\n",
        "  embedding = outputs.last_hidden_state.mean(dim=1).squeeze()\n",
        "  return embedding"
      ],
      "metadata": {
        "colab": {
          "base_uri": "https://localhost:8080/",
          "height": 320,
          "referenced_widgets": [
            "835bb6883dd648da8f2cb7938f067127",
            "e6e616d1e16b423facef9dda5866e8b8",
            "9d5817474ecb475e99116678adfe85f8",
            "69c3515be1bf46db8bb83daf16cbcf5c",
            "339d7ace256241ca90a496c582b97f77",
            "1d03b3d43c0a4935af97028c2c9804a4",
            "9b6f1f7f3b6d4db290e50a2eb378b0df",
            "2c40c0c4c8594b879d8b91bff3625db5",
            "305719f3d6ea4bddba4555f30b553808",
            "26daf4b93d1c4478a8e571c07b740294",
            "bab60268a3cd4b6abfc6d35903bd503f",
            "e732e6b487f048058f8d3bf1823f242e",
            "dea3b302cc1e417c91c60e6585a6a845",
            "ad03dd144a73470b8f9d2b4ad8e321b8",
            "933db3d89abc45c1912a821a13a5953d",
            "86296b3692ce47cd80500923b426941b",
            "dbaa23b8354348dc99a96a9339c5d810",
            "d086fcdb2aaf430ca3e79602575cb04d",
            "e1b43d2d6f2b4505a54b77d32081202b",
            "115557fdd3a043bf9ab117721a38c0b5",
            "6c44f3da01134a688b950ae42b3922e6",
            "718a0ca7766048209d437ff515a0d5f3",
            "bc3b47a76fda4ce89876b0ffe2dee363",
            "95f3974cbed34de0a7b0f22b6a9d51d6",
            "62b9a271b3ee4873a4ce348bfefb10c4",
            "ada9530b9e41491596f172400aca128c",
            "6165a2ae58354906a270441dad223b87",
            "3051111bc9264259b94bb3e1905e4bdd",
            "37b421d600c247b7b9773e05a8651301",
            "f4c02985eddb4a0f873c595c46535113",
            "9422b9c74d2c4a51926ca1bfd3fbfa4e",
            "307225b0ffc94c6c86e6aed92c52a7af",
            "fecac81687ac4966953d29b433be740d",
            "e80845fddd2e477382d2008311aeb08b",
            "140155e7607b4747bb02ab8908d1a1a1",
            "a9e2bf46dc2248d78c7d7bb531999bba",
            "00944fa470164afa9b1eb8853c8c4e7b",
            "3f50d14e967d42eda9d5175dd3f4df93",
            "ff438988898444f4a2300e09c6041925",
            "6853be650b774505a3a109cf0d0b4c8c",
            "16bddb7d362f41568ee0cd3b7c24c368",
            "16503b8ded2f4744a3a5001f84f93a44",
            "deca281545cd44a3991997edd8203027",
            "790c527262d5483892526cd24c13aa2b",
            "5d36c3a3803642eca2762866c8357413",
            "4950658ab8f048c9ba7df7ecfffcf3a5",
            "5a12a193a1d149128f8f9b3031ec3128",
            "705731cc8b49450798acc9c6e224b7ce",
            "9178f39e8f5840a19e856d060be1c0ad",
            "0cf42552f6464f3a9227748b0116652b",
            "f092e057a6e948be87c8eb75559819e1",
            "2ed6ff9c482b4c4c862fb1c6600136dd",
            "aa0f014691c54462afe528406c62fbed",
            "935905fdacd14b1c9fe670bc443dc463",
            "bcb336886e7a403d9b5c797ae141a1d3"
          ]
        },
        "id": "Gcte4SXsWaj9",
        "outputId": "4ef70307-3c03-4f2f-facd-0829c6499b58"
      },
      "execution_count": 28,
      "outputs": [
        {
          "output_type": "stream",
          "name": "stderr",
          "text": [
            "/usr/local/lib/python3.11/dist-packages/huggingface_hub/utils/_auth.py:94: UserWarning: \n",
            "The secret `HF_TOKEN` does not exist in your Colab secrets.\n",
            "To authenticate with the Hugging Face Hub, create a token in your settings tab (https://huggingface.co/settings/tokens), set it as secret in your Google Colab and restart your session.\n",
            "You will be able to reuse this secret in all of your notebooks.\n",
            "Please note that authentication is recommended but still optional to access public models or datasets.\n",
            "  warnings.warn(\n"
          ]
        },
        {
          "output_type": "display_data",
          "data": {
            "text/plain": [
              "tokenizer_config.json:   0%|          | 0.00/95.0 [00:00<?, ?B/s]"
            ],
            "application/vnd.jupyter.widget-view+json": {
              "version_major": 2,
              "version_minor": 0,
              "model_id": "835bb6883dd648da8f2cb7938f067127"
            }
          },
          "metadata": {}
        },
        {
          "output_type": "display_data",
          "data": {
            "text/plain": [
              "vocab.txt:   0%|          | 0.00/93.0 [00:00<?, ?B/s]"
            ],
            "application/vnd.jupyter.widget-view+json": {
              "version_major": 2,
              "version_minor": 0,
              "model_id": "e732e6b487f048058f8d3bf1823f242e"
            }
          },
          "metadata": {}
        },
        {
          "output_type": "display_data",
          "data": {
            "text/plain": [
              "special_tokens_map.json:   0%|          | 0.00/125 [00:00<?, ?B/s]"
            ],
            "application/vnd.jupyter.widget-view+json": {
              "version_major": 2,
              "version_minor": 0,
              "model_id": "bc3b47a76fda4ce89876b0ffe2dee363"
            }
          },
          "metadata": {}
        },
        {
          "output_type": "display_data",
          "data": {
            "text/plain": [
              "config.json:   0%|          | 0.00/775 [00:00<?, ?B/s]"
            ],
            "application/vnd.jupyter.widget-view+json": {
              "version_major": 2,
              "version_minor": 0,
              "model_id": "e80845fddd2e477382d2008311aeb08b"
            }
          },
          "metadata": {}
        },
        {
          "output_type": "display_data",
          "data": {
            "text/plain": [
              "model.safetensors:   0%|          | 0.00/31.4M [00:00<?, ?B/s]"
            ],
            "application/vnd.jupyter.widget-view+json": {
              "version_major": 2,
              "version_minor": 0,
              "model_id": "5d36c3a3803642eca2762866c8357413"
            }
          },
          "metadata": {}
        },
        {
          "output_type": "stream",
          "name": "stderr",
          "text": [
            "Some weights of EsmModel were not initialized from the model checkpoint at facebook/esm2_t6_8M_UR50D and are newly initialized: ['pooler.dense.bias', 'pooler.dense.weight']\n",
            "You should probably TRAIN this model on a down-stream task to be able to use it for predictions and inference.\n"
          ]
        }
      ]
    },
    {
      "cell_type": "code",
      "source": [
        "from tqdm.notebook import tqdm\n",
        "from sklearn.preprocessing import StandardScaler\n",
        "\n",
        "class Binding_Dataset(Dataset):\n",
        "  def __init__(self, csv_file,  max_len=1022):\n",
        "      self.df = pd.read_csv(csv_file).sample(n=5000, random_state=42)\n",
        "\n",
        "\n",
        "      self.df[\"ddg\"] = pd.to_numeric(self.df[\"ddG_ML\"], errors=\"coerce\")  # convert '-' to NaN\n",
        "      self.df = self.df.dropna(subset=[\"ddg\"])  # remove rows with invalid/missing ddg\n",
        "\n",
        "      # Scale ddg\n",
        "      scaler = StandardScaler()\n",
        "      self.df[\"ddg_scaled\"] = scaler.fit_transform(self.df[\"ddg\"].values.reshape(-1, 1))\n",
        "\n",
        "      self.labels =  self.df['ddg_scaled'].values\n",
        "      self.sequences = self.df['aa_seq'].to_list()\n",
        "\n",
        "      self.max_len = max_len\n",
        "      self.embeddings = [seq_to_embedding(seq) for seq in tqdm(self.sequences,\n",
        "                                                desc=\"Embedding Sequences\")]\n",
        "\n",
        "  def __len__(self):\n",
        "    return len(self.embeddings)\n",
        "\n",
        "  def __getitem__(self, idx):\n",
        "    embedding = self.embeddings[idx]\n",
        "    label = self.labels[idx]\n",
        "\n",
        "    label_tensor = torch.tensor(label, dtype=torch.float32)\n",
        "    return embedding, label_tensor"
      ],
      "metadata": {
        "id": "ZydFAHzhWwBP"
      },
      "execution_count": 29,
      "outputs": []
    },
    {
      "cell_type": "code",
      "source": [
        "binding_dataset = Binding_Dataset(\"drive/MyDrive/Colab Notebooks/subset_binding_data.csv\")\n",
        "\n",
        "from torch.utils.data import random_split\n",
        "train_size = int(0.8 * len(binding_dataset))\n",
        "test_size = len(binding_dataset) - train_size\n",
        "\n",
        "train_dataset, test_dataset = random_split(binding_dataset, [train_size, test_size])\n",
        "train_loader = DataLoader(train_dataset, batch_size=32, shuffle = True)\n",
        "test_loader = DataLoader(test_dataset, batch_size=32, shuffle = False)"
      ],
      "metadata": {
        "colab": {
          "base_uri": "https://localhost:8080/",
          "height": 67,
          "referenced_widgets": [
            "c28d851d7c7f41db808ee5f5d21ea7b0",
            "7b19217d2e0346868f4c55c899ed248c",
            "02901430ec664f15b2aa80b70e648f01",
            "a4f3129d43b840c788abe003d1b43388",
            "b8e65d5e5262449999f114fd9527a65d",
            "8a34ece5ae8345c8877c94e2aec395b8",
            "4a275bc32918402a91263a018a7bd904",
            "a95fcfaaa8b5430f9bfa0b4ab809c13c",
            "739507f57446456e8ee6efbd360a6a3b",
            "a8bc2bcf02234145a610c156345c60a8",
            "550eb6b981c04d7f91aa7c5f21abb8be"
          ]
        },
        "id": "Zv5QzjDhY1-s",
        "outputId": "9149f990-dcd9-4151-dde2-0e30146f950b"
      },
      "execution_count": 31,
      "outputs": [
        {
          "output_type": "display_data",
          "data": {
            "text/plain": [
              "Embedding Sequences:   0%|          | 0/3895 [00:00<?, ?it/s]"
            ],
            "application/vnd.jupyter.widget-view+json": {
              "version_major": 2,
              "version_minor": 0,
              "model_id": "c28d851d7c7f41db808ee5f5d21ea7b0"
            }
          },
          "metadata": {}
        },
        {
          "output_type": "stream",
          "name": "stderr",
          "text": [
            "Asking to truncate to max_length but no maximum length is provided and the model has no predefined maximum length. Default to no truncation.\n"
          ]
        }
      ]
    },
    {
      "cell_type": "code",
      "source": [
        "tokenizer"
      ],
      "metadata": {
        "id": "o3FY-rU1bLfT"
      },
      "execution_count": null,
      "outputs": []
    },
    {
      "cell_type": "code",
      "source": [
        "import torch.nn as nn\n",
        "import torch.optim as optim\n",
        "model = nn.Sequential(\n",
        "    nn.Linear(320, 128),\n",
        "    nn.ReLU(),\n",
        "    nn.Linear(128, 64),\n",
        "    nn.ReLU(),\n",
        "    nn.Linear(64, 1)\n",
        "    # nn.Sigmoid()\n",
        ")\n",
        "# model = nn.Linear(320, 1)\n",
        "\n",
        "criterion = nn.MSELoss()\n",
        "optimizer = optim.Adam(model.parameters(), lr=0.001)"
      ],
      "metadata": {
        "id": "JV6GKTt9adRe"
      },
      "execution_count": null,
      "outputs": []
    },
    {
      "cell_type": "markdown",
      "source": [
        "# BAD OPTIMIZER, MANUAL SGD"
      ],
      "metadata": {
        "id": "FNi4s0aCKvZl"
      }
    },
    {
      "cell_type": "code",
      "source": [
        "num_epochs = 50\n",
        "for epoch in range(num_epochs):\n",
        "  model.train()\n",
        "  loss_list = []\n",
        "  for embeddings, labels in train_loader:\n",
        "    outputs = model(embeddings).squeeze()\n",
        "    loss=nn.MSELoss()(outputs, labels)\n",
        "    loss_list.append(loss.item())\n",
        "\n",
        "    for p in model.parameters():\n",
        "      p.grad=None\n",
        "    loss.backward()\n",
        "    for p in model.parameters():\n",
        "      p.data -= 0.01 * p.grad\n",
        "  tmp = sum(loss_list) / len(loss_list)\n",
        "  print(f\"Epoch [{epoch+1}/{num_epochs}], loss:{tmp:.4f}\")"
      ],
      "metadata": {
        "colab": {
          "base_uri": "https://localhost:8080/"
        },
        "id": "CzYwZTNbbZN6",
        "outputId": "1601a873-7384-4aa2-a832-f38582c50080"
      },
      "execution_count": 59,
      "outputs": [
        {
          "output_type": "stream",
          "name": "stdout",
          "text": [
            "Epoch [1/50], loss:0.9746\n",
            "Epoch [2/50], loss:0.9637\n",
            "Epoch [3/50], loss:0.9487\n",
            "Epoch [4/50], loss:0.9483\n",
            "Epoch [5/50], loss:0.9400\n",
            "Epoch [6/50], loss:0.9419\n",
            "Epoch [7/50], loss:0.9596\n",
            "Epoch [8/50], loss:0.9423\n",
            "Epoch [9/50], loss:0.9467\n",
            "Epoch [10/50], loss:0.9449\n",
            "Epoch [11/50], loss:0.9403\n",
            "Epoch [12/50], loss:0.9506\n",
            "Epoch [13/50], loss:0.9462\n",
            "Epoch [14/50], loss:0.9236\n",
            "Epoch [15/50], loss:0.9454\n",
            "Epoch [16/50], loss:0.9319\n",
            "Epoch [17/50], loss:0.9431\n",
            "Epoch [18/50], loss:0.9338\n",
            "Epoch [19/50], loss:0.9340\n",
            "Epoch [20/50], loss:0.9446\n",
            "Epoch [21/50], loss:0.9278\n",
            "Epoch [22/50], loss:0.9379\n",
            "Epoch [23/50], loss:0.9229\n",
            "Epoch [24/50], loss:0.9395\n",
            "Epoch [25/50], loss:0.9393\n",
            "Epoch [26/50], loss:0.9353\n",
            "Epoch [27/50], loss:0.9382\n",
            "Epoch [28/50], loss:0.9186\n",
            "Epoch [29/50], loss:0.9297\n",
            "Epoch [30/50], loss:0.9195\n",
            "Epoch [31/50], loss:0.9150\n",
            "Epoch [32/50], loss:0.9159\n",
            "Epoch [33/50], loss:0.9171\n",
            "Epoch [34/50], loss:0.9110\n",
            "Epoch [35/50], loss:0.9295\n",
            "Epoch [36/50], loss:0.9240\n",
            "Epoch [37/50], loss:0.9099\n",
            "Epoch [38/50], loss:0.9050\n",
            "Epoch [39/50], loss:0.9162\n",
            "Epoch [40/50], loss:0.9201\n",
            "Epoch [41/50], loss:0.9150\n",
            "Epoch [42/50], loss:0.9044\n",
            "Epoch [43/50], loss:0.9027\n",
            "Epoch [44/50], loss:0.9030\n",
            "Epoch [45/50], loss:0.9039\n",
            "Epoch [46/50], loss:0.9285\n",
            "Epoch [47/50], loss:0.9012\n",
            "Epoch [48/50], loss:0.8948\n",
            "Epoch [49/50], loss:0.8917\n",
            "Epoch [50/50], loss:0.8817\n"
          ]
        }
      ]
    },
    {
      "cell_type": "code",
      "source": [],
      "metadata": {
        "id": "tr8ygWQ7h1tu"
      },
      "execution_count": 59,
      "outputs": []
    },
    {
      "cell_type": "markdown",
      "source": [
        "# Adam with adjusted learning rate"
      ],
      "metadata": {
        "id": "mPdsuCb-K0SX"
      }
    },
    {
      "cell_type": "code",
      "source": [
        "num_epochs = 200\n",
        "device = torch.device(\"cuda\" if torch.cuda.is_available() else \"cpu\")\n",
        "model.to(device)\n",
        "lossi = []\n",
        "val_losses = []\n",
        "train_losses = []\n",
        "\n",
        "running_loss = 0\n",
        "best_val_loss = float(\"inf\")\n",
        "patience = 10  # stop after x epochs with no improvement\n",
        "wait = 0\n",
        "best_model_state = None\n",
        "for epoch in range(num_epochs):\n",
        "\n",
        "  model.train()\n",
        "  train_loss = 0.0\n",
        "  for embeddings, labels in tqdm(train_loader, desc = \"Batching\", leave = True):\n",
        "    embeddings, labels = embeddings.to(device), labels.to(device)\n",
        "\n",
        "    # forward\n",
        "    outputs = model(embeddings).squeeze()\n",
        "    loss=criterion(outputs, labels)\n",
        "\n",
        "    #backward\n",
        "    optimizer.zero_grad()\n",
        "    loss.backward()\n",
        "    optimizer.step()\n",
        "\n",
        "    running_loss+=loss.item()\n",
        "    train_loss +=loss.item() * embeddings.size(0)\n",
        "    lossi.append(loss.item())\n",
        "\n",
        "  train_loss /= len(train_loader.dataset)\n",
        "  train_losses.append(train_loss)\n",
        "  print(f\"Epoch [{epoch+1}/{num_epochs}], loss:{train_loss:.4f}\")\n",
        "\n",
        "  from sklearn.metrics import mean_squared_error, r2_score\n",
        "  model.eval()\n",
        "  y_true = []\n",
        "  y_pred = []\n",
        "  val_loss = 0.0\n",
        "  with torch.no_grad():\n",
        "      for embeddings, labels in test_loader:\n",
        "          embeddings, labels = embeddings.to(device), labels.to(device)\n",
        "          outputs = model(embeddings).squeeze()\n",
        "          y_true.extend(labels.cpu().numpy())\n",
        "          y_pred.extend(outputs.cpu().numpy())\n",
        "          loss = criterion(outputs, labels)\n",
        "          val_loss += loss.item() * embeddings.size(0)\n",
        "  val_loss /= len(test_loader.dataset)\n",
        "  val_losses.append(val_loss)\n",
        "\n",
        "  r2 = r2_score(y_true, y_pred)\n",
        "\n",
        "  rmse =  np.sqrt(mean_squared_error(y_true, y_pred))\n",
        "  print(f\"Test R²: {r2:.3f}, RMSE: {rmse:.3f}\")\n",
        "\n",
        "  # Early stopping check\n",
        "  if rmse < best_val_loss:\n",
        "      best_val_loss = rmse\n",
        "      wait = 0\n",
        "      best_model_state = model.state_dict()  # Save best model\n",
        "  else:\n",
        "      wait += 1\n",
        "      if wait >= patience:\n",
        "          print(f\"Early stopping at epoch {epoch+1}\")\n",
        "          break"
      ],
      "metadata": {
        "id": "nip3anXydfha"
      },
      "execution_count": null,
      "outputs": []
    },
    {
      "cell_type": "code",
      "source": [
        "import matplotlib.pyplot as plt\n",
        "# plt.plot(torch.tensor(lossi).view(-1, 20).mean(1))\n",
        "plt.figure(figsize=(8, 5))\n",
        "# plt.plot(range(1, num_epochs + 1), lossi, marker='o', label='Train Loss')\n",
        "plt.plot(train_losses, label='Train Loss')\n",
        "plt.plot(val_losses, label='Val Loss')\n",
        "\n",
        "plt.xlabel(\"Epoch\")\n",
        "plt.ylabel(\"MSE Loss\")\n",
        "plt.title(\"Training Loss Curve\")\n",
        "plt.grid(True)\n",
        "plt.legend()\n",
        "plt.tight_layout()\n",
        "plt.show()"
      ],
      "metadata": {
        "colab": {
          "base_uri": "https://localhost:8080/",
          "height": 507
        },
        "id": "12CXMmxMh2eZ",
        "outputId": "4330c7ff-66dd-4537-e133-b75b6eb5865b"
      },
      "execution_count": 36,
      "outputs": [
        {
          "output_type": "display_data",
          "data": {
            "text/plain": [
              "<Figure size 800x500 with 1 Axes>"
            ],
            "image/png": "[encoded data removed]"
          },
          "metadata": {}
        }
      ]
    },
    {
      "cell_type": "code",
      "source": [
        "from sklearn.ensemble import RandomForestRegressor\n",
        "from sklearn.metrics import mean_squared_error, r2_score\n",
        "import numpy as np\n",
        "from tqdm import tqdm\n",
        "\n",
        "# Flatten PyTorch DataLoaders to numpy arrays\n",
        "def dataloader_to_numpy(loader):\n",
        "    X, y = [], []\n",
        "    for embeddings, labels in tqdm(loader, desc=\"Extracting Features\"):\n",
        "        X.append(embeddings.cpu().numpy())\n",
        "        y.append(labels.cpu().numpy())\n",
        "    return np.vstack(X), np.hstack(y)\n",
        "\n",
        "X_train, y_train = dataloader_to_numpy(train_loader)\n",
        "X_test, y_test = dataloader_to_numpy(test_loader)\n",
        "\n",
        "print(f\"Train shape: {X_train.shape}, {y_train.shape}\")\n",
        "print(f\"Test shape: {X_test.shape}, {y_test.shape}\")\n",
        "n_trees = 100\n",
        "tree_steps = list(range(10, n_trees + 1, 10))\n",
        "\n",
        "rf = RandomForestRegressor(\n",
        "    n_estimators=200,\n",
        "    max_depth=None,\n",
        "    random_state=42,\n",
        "    n_jobs=-1  # use all CPU cores\n",
        ")\n",
        "\n",
        "train_rmse_list = []\n",
        "test_rmse_list = []\n",
        "\n",
        "for n in tree_steps:\n",
        "    print(n)\n",
        "    rf.set_params(n_estimators=n)\n",
        "    rf.fit(X_train, y_train)\n",
        "\n",
        "    y_train_pred = rf.predict(X_train)\n",
        "    y_test_pred = rf.predict(X_test)\n",
        "\n",
        "    train_rmse =  np.sqrt(mean_squared_error(y_train, y_train_pred))\n",
        "    test_rmse = np.sqrt(mean_squared_error(y_test, y_test_pred))\n",
        "\n",
        "\n",
        "    train_rmse_list.append(train_rmse)\n",
        "    test_rmse_list.append(test_rmse)\n",
        "\n",
        "# Plot RMSE vs. number of trees\n",
        "plt.figure(figsize=(8, 5))\n",
        "plt.plot(tree_steps, train_rmse_list, marker='o', label=\"Train RMSE\")\n",
        "plt.plot(tree_steps, test_rmse_list, marker='s', label=\"Test RMSE\")\n",
        "plt.xlabel(\"Number of Trees\")\n",
        "plt.ylabel(\"RMSE\")\n",
        "plt.title(\"Random Forest RMSE vs. Number of Trees\")\n",
        "plt.legend()\n",
        "plt.grid(True)\n",
        "plt.tight_layout()\n",
        "plt.show()"
      ],
      "metadata": {
        "colab": {
          "base_uri": "https://localhost:8080/",
          "height": 757
        },
        "id": "TJLMtTgfPHwm",
        "outputId": "4f2de2f8-ef9d-4b26-ce1e-cc32b82a2c65"
      },
      "execution_count": 41,
      "outputs": [
        {
          "output_type": "stream",
          "name": "stderr",
          "text": [
            "Extracting Features: 100%|██████████| 98/98 [00:00<00:00, 2153.73it/s]\n",
            "Extracting Features: 100%|██████████| 25/25 [00:00<00:00, 2161.25it/s]\n"
          ]
        },
        {
          "output_type": "stream",
          "name": "stdout",
          "text": [
            "Train shape: (3116, 320), (3116,)\n",
            "Test shape: (779, 320), (779,)\n",
            "10\n",
            "20\n",
            "30\n",
            "40\n",
            "50\n",
            "60\n",
            "70\n",
            "80\n",
            "90\n",
            "100\n"
          ]
        },
        {
          "output_type": "display_data",
          "data": {
            "text/plain": [
              "<Figure size 800x500 with 1 Axes>"
            ],
            "image/png": "[encoded data removed]"
          },
          "metadata": {}
        }
      ]
    },
    {
      "cell_type": "code",
      "source": [],
      "metadata": {
        "id": "8YdN0I84P3kq"
      },
      "execution_count": null,
      "outputs": []
    }
  ]
}
